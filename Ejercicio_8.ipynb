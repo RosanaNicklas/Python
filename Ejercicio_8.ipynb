{
 "cells": [
  {
   "cell_type": "code",
   "execution_count": 1,
   "id": "da0fc3f6",
   "metadata": {},
   "outputs": [
    {
     "data": {
      "text/plain": [
       "[30, 20, 10, 50, 40]"
      ]
     },
     "execution_count": 1,
     "metadata": {},
     "output_type": "execute_result"
    }
   ],
   "source": [
    "listado = [30, 20, 10, 50, 40]\n",
    "listado"
   ]
  },
  {
   "cell_type": "code",
   "execution_count": 2,
   "id": "d189898a",
   "metadata": {},
   "outputs": [
    {
     "data": {
      "text/plain": [
       "10"
      ]
     },
     "execution_count": 2,
     "metadata": {},
     "output_type": "execute_result"
    }
   ],
   "source": [
    "def minimo(listado):\n",
    "    return min(listado)\n",
    "minimo(listado)"
   ]
  },
  {
   "cell_type": "code",
   "execution_count": 3,
   "id": "7ee58501",
   "metadata": {},
   "outputs": [
    {
     "data": {
      "text/plain": [
       "50"
      ]
     },
     "execution_count": 3,
     "metadata": {},
     "output_type": "execute_result"
    }
   ],
   "source": [
    "def maximo(listado):\n",
    "    return max(listado)\n",
    "maximo(listado)"
   ]
  },
  {
   "cell_type": "code",
   "execution_count": 4,
   "id": "0969f813",
   "metadata": {},
   "outputs": [
    {
     "data": {
      "text/plain": [
       "10"
      ]
     },
     "execution_count": 4,
     "metadata": {},
     "output_type": "execute_result"
    }
   ],
   "source": [
    "def minimo1(lista):\n",
    "    minimo = max(lista)+1\n",
    "    for numero in lista:\n",
    "        if numero < minimo:\n",
    "            minimo = numero\n",
    "    return minimo\n",
    "minimo1(listado)"
   ]
  },
  {
   "cell_type": "code",
   "execution_count": 5,
   "id": "dfc6a500",
   "metadata": {},
   "outputs": [
    {
     "data": {
      "text/plain": [
       "50"
      ]
     },
     "execution_count": 5,
     "metadata": {},
     "output_type": "execute_result"
    }
   ],
   "source": [
    "def maximo1(lista):\n",
    "    maximo = -min(lista)-1\n",
    "    \n",
    "    for numero in lista:\n",
    "        if numero > maximo:\n",
    "           maximo = numero\n",
    "    return maximo\n",
    "maximo1(listado)\n",
    "    "
   ]
  },
  {
   "cell_type": "code",
   "execution_count": 6,
   "id": "6cebd9ef",
   "metadata": {},
   "outputs": [],
   "source": [
    "\n",
    "\n",
    "# EJERCICIO 3\n",
    "\n",
    "# Ordena de menor a mayor un listado de números: 30, 20, 10, 50, 40 (de nombre \"listado\")\n",
    "\n",
    "# Pista: si quieres almacena esos números en una lista de nombre: \"listado_ascendente\"\n",
    "\n",
    "# 1) Escribe el listado e ímprimelo\n",
    "\n",
    "# 2) Prueba a usar sort()\n",
    "\n",
    "# 3) Realiza lo mismo pero con bucles y condicionales"
   ]
  },
  {
   "cell_type": "code",
   "execution_count": 7,
   "id": "7cd300ae",
   "metadata": {},
   "outputs": [
    {
     "data": {
      "text/plain": [
       "[30, 20, 10, 50, 40]"
      ]
     },
     "execution_count": 7,
     "metadata": {},
     "output_type": "execute_result"
    }
   ],
   "source": [
    "listado = [30, 20, 10, 50, 40]\n",
    "listado"
   ]
  },
  {
   "cell_type": "code",
   "execution_count": 8,
   "id": "556523fe",
   "metadata": {},
   "outputs": [
    {
     "data": {
      "text/plain": [
       "[10, 20, 30, 40, 50]"
      ]
     },
     "execution_count": 8,
     "metadata": {},
     "output_type": "execute_result"
    }
   ],
   "source": [
    "listado.sort()\n",
    "listado"
   ]
  },
  {
   "cell_type": "code",
   "execution_count": 9,
   "id": "779bc52a",
   "metadata": {},
   "outputs": [
    {
     "data": {
      "text/plain": [
       "[50, 40, 30, 20, 10]"
      ]
     },
     "execution_count": 9,
     "metadata": {},
     "output_type": "execute_result"
    }
   ],
   "source": [
    "listado.sort(reverse = True)\n",
    "listado"
   ]
  },
  {
   "cell_type": "code",
   "execution_count": 10,
   "id": "d21e7609",
   "metadata": {},
   "outputs": [
    {
     "name": "stdout",
     "output_type": "stream",
     "text": [
      "[50, 40, 30, 20, 10]\n"
     ]
    }
   ],
   "source": [
    "listado_copia = listado.copy()\n",
    "print(listado_copia)"
   ]
  },
  {
   "cell_type": "code",
   "execution_count": 11,
   "id": "93a547c9",
   "metadata": {},
   "outputs": [
    {
     "data": {
      "text/plain": [
       "[50, 40, 30, 20, 10]"
      ]
     },
     "execution_count": 11,
     "metadata": {},
     "output_type": "execute_result"
    }
   ],
   "source": [
    "\n",
    "def colocar(lista):\n",
    "   \n",
    "    listado_descendente=[]\n",
    "    while(len(listado)>0):\n",
    "        listado_descendente.append(max(listado))\n",
    "        listado.remove(max(listado))\n",
    "    return listado_descendente\n",
    "colocar(listado)\n",
    "    \n",
    "    \n",
    "    "
   ]
  },
  {
   "cell_type": "code",
   "execution_count": 32,
   "id": "365e87a4",
   "metadata": {},
   "outputs": [
    {
     "ename": "SyntaxError",
     "evalue": "invalid syntax (976163644.py, line 2)",
     "output_type": "error",
     "traceback": [
      "\u001b[0;36m  Input \u001b[0;32mIn [32]\u001b[0;36m\u001b[0m\n\u001b[0;31m    while (len(listado > 0):\u001b[0m\n\u001b[0m                           ^\u001b[0m\n\u001b[0;31mSyntaxError\u001b[0m\u001b[0;31m:\u001b[0m invalid syntax\n"
     ]
    }
   ],
   "source": [
    "listado_ascendente =[]\n",
    "while (len(listado > 0):\n",
    "    listado_ascendente.append(min(listado))\n",
    "    listado.remove(min(listado))        \n",
    "    \n",
    "print(listado_ascendente)\n",
    "    "
   ]
  },
  {
   "cell_type": "code",
   "execution_count": 13,
   "id": "240fa52e",
   "metadata": {},
   "outputs": [
    {
     "data": {
      "text/plain": [
       "'\\n    3) Crea un DataFrame, de nombre df con esa información en base\\n    a la siguiente relación de módulos y horas de clase módulos:\\n    Big Data, Python, Algoritmos, Machine Learning, Deep Learning, NLP\\n    horas: 25, 15, 5, 15, 5, 10\\n'"
      ]
     },
     "execution_count": 13,
     "metadata": {},
     "output_type": "execute_result"
    }
   ],
   "source": [
    "# EJERCICIO 5\n",
    "\"\"\"\n",
    "    Escribe el código necesario en Python para:\n",
    "    * almacenar con una lista de nombre \"módulos\" las siguientes materias de un programa de Ciencia de Datos:\n",
    "    * Big Data, Python, Algoritmos, Machine Learning, Deep Learning, NLP.\n",
    "\"\"\"\n",
    "# 1) Para ese listado imprime todas ellas, 1 a 1\n",
    "\n",
    "\"\"\"\n",
    "    2) dentro de ese grupo de materias, existen unas materias que son básicas en todos los programas.\n",
    "    y que forman la base de conocimientos iniciales para afrontar con éxito el resto de un programa.\n",
    "    Las mismas son: Python y Algoritmos (aunque en la práctica hay más cosas)\n",
    "    Se pide almacenar las mismas en un listado secundario, de nombre: \"esenciales\" (por ejemplo)\n",
    "    Imprime ese listado al terminar de almacenarlos.\n",
    "\"\"\"\n",
    "\n",
    "\"\"\"\n",
    "    3) Crea un DataFrame, de nombre df con esa información en base\n",
    "    a la siguiente relación de módulos y horas de clase módulos:\n",
    "    Big Data, Python, Algoritmos, Machine Learning, Deep Learning, NLP\n",
    "    horas: 25, 15, 5, 15, 5, 10\n",
    "\"\"\"\n",
    "\n",
    "# 4) De ese DataFrame, selecciona solamente la columna \"horas\" e imprímela\n",
    "\n",
    "# 5) Muestra el gráfico (plot) para la columna \"horas\"\n",
    "\n",
    "# 6) De ese DataFrame, selecciona solamente aquellas materias que tienen 20 o más horas de dedicación\n",
    "\n",
    "# 7) De ese DataFrame, selecciona solamente aquellas materias que tienen menos de 10 horas de dedicación\n",
    "\n",
    "# 8) De ese DataFrame, selecciona solamente (si fuera posible)\n",
    "    # aquellas materias que tienen mas de 26 horas de dedicación\n",
    "\n",
    "# 9) Apendiza, (si puedes), una nueva columna llamada \"docente\" con el instructor encargado de la materia.\n",
    "\n",
    "    # Y cuyos nombres serán: Enrique, Susana, Juan, Ana, Laura, Patricia"
   ]
  },
  {
   "cell_type": "code",
   "execution_count": 14,
   "id": "ea34e226",
   "metadata": {},
   "outputs": [
    {
     "data": {
      "text/plain": [
       "['Big Data',\n",
       " 'Python',\n",
       " 'Algoritmos',\n",
       " 'Machine Learning',\n",
       " 'Deep Learning',\n",
       " 'NLP']"
      ]
     },
     "execution_count": 14,
     "metadata": {},
     "output_type": "execute_result"
    }
   ],
   "source": [
    "modulos = [\"Big Data\", \"Python\",\"Algoritmos\", \"Machine Learning\", \"Deep Learning\", \"NLP\"]\n",
    "modulos\n"
   ]
  },
  {
   "cell_type": "code",
   "execution_count": 15,
   "id": "7e29da23",
   "metadata": {},
   "outputs": [],
   "source": [
    "def iteracion(lista):\n",
    "    for i in lista:\n",
    "        print(i)\n",
    "iteracion(listado)        "
   ]
  },
  {
   "cell_type": "code",
   "execution_count": 16,
   "id": "c35982a5",
   "metadata": {},
   "outputs": [
    {
     "data": {
      "text/plain": [
       "['Python', 'Algoritmos']"
      ]
     },
     "execution_count": 16,
     "metadata": {},
     "output_type": "execute_result"
    }
   ],
   "source": [
    "esenciales =[]\n",
    "for i in modulos:\n",
    "    if i == \"Python\":\n",
    "        esenciales.append(i)\n",
    "    elif i == \"Algoritmos\":    \n",
    "        esenciales.append(i)\n",
    "    else:\n",
    "        continue\n",
    "esenciales"
   ]
  },
  {
   "cell_type": "code",
   "execution_count": 17,
   "id": "ab87b2e8",
   "metadata": {},
   "outputs": [
    {
     "data": {
      "text/plain": [
       "[25, 15, 5, 15, 5, 10]"
      ]
     },
     "execution_count": 17,
     "metadata": {},
     "output_type": "execute_result"
    }
   ],
   "source": [
    "horas = [25, 15, 5, 15, 5, 10]\n",
    "horas"
   ]
  },
  {
   "cell_type": "code",
   "execution_count": 18,
   "id": "394a6770",
   "metadata": {},
   "outputs": [
    {
     "data": {
      "text/html": [
       "<div>\n",
       "<style scoped>\n",
       "    .dataframe tbody tr th:only-of-type {\n",
       "        vertical-align: middle;\n",
       "    }\n",
       "\n",
       "    .dataframe tbody tr th {\n",
       "        vertical-align: top;\n",
       "    }\n",
       "\n",
       "    .dataframe thead th {\n",
       "        text-align: right;\n",
       "    }\n",
       "</style>\n",
       "<table border=\"1\" class=\"dataframe\">\n",
       "  <thead>\n",
       "    <tr style=\"text-align: right;\">\n",
       "      <th></th>\n",
       "      <th>Modulos</th>\n",
       "    </tr>\n",
       "  </thead>\n",
       "  <tbody>\n",
       "    <tr>\n",
       "      <th>0</th>\n",
       "      <td>Big Data</td>\n",
       "    </tr>\n",
       "    <tr>\n",
       "      <th>1</th>\n",
       "      <td>Python</td>\n",
       "    </tr>\n",
       "    <tr>\n",
       "      <th>2</th>\n",
       "      <td>Algoritmos</td>\n",
       "    </tr>\n",
       "    <tr>\n",
       "      <th>3</th>\n",
       "      <td>Machine Learning</td>\n",
       "    </tr>\n",
       "    <tr>\n",
       "      <th>4</th>\n",
       "      <td>Deep Learning</td>\n",
       "    </tr>\n",
       "    <tr>\n",
       "      <th>5</th>\n",
       "      <td>NLP</td>\n",
       "    </tr>\n",
       "  </tbody>\n",
       "</table>\n",
       "</div>"
      ],
      "text/plain": [
       "            Modulos\n",
       "0          Big Data\n",
       "1            Python\n",
       "2        Algoritmos\n",
       "3  Machine Learning\n",
       "4     Deep Learning\n",
       "5               NLP"
      ]
     },
     "execution_count": 18,
     "metadata": {},
     "output_type": "execute_result"
    }
   ],
   "source": [
    "import pandas as pd\n",
    "df = pd.DataFrame(modulos, columns = [\"Modulos\"])\n",
    "df"
   ]
  },
  {
   "cell_type": "code",
   "execution_count": 19,
   "id": "81f165fd",
   "metadata": {},
   "outputs": [
    {
     "data": {
      "text/html": [
       "<div>\n",
       "<style scoped>\n",
       "    .dataframe tbody tr th:only-of-type {\n",
       "        vertical-align: middle;\n",
       "    }\n",
       "\n",
       "    .dataframe tbody tr th {\n",
       "        vertical-align: top;\n",
       "    }\n",
       "\n",
       "    .dataframe thead th {\n",
       "        text-align: right;\n",
       "    }\n",
       "</style>\n",
       "<table border=\"1\" class=\"dataframe\">\n",
       "  <thead>\n",
       "    <tr style=\"text-align: right;\">\n",
       "      <th></th>\n",
       "      <th>Modulos</th>\n",
       "      <th>Horas</th>\n",
       "    </tr>\n",
       "  </thead>\n",
       "  <tbody>\n",
       "    <tr>\n",
       "      <th>0</th>\n",
       "      <td>Big Data</td>\n",
       "      <td>25</td>\n",
       "    </tr>\n",
       "    <tr>\n",
       "      <th>1</th>\n",
       "      <td>Python</td>\n",
       "      <td>15</td>\n",
       "    </tr>\n",
       "    <tr>\n",
       "      <th>2</th>\n",
       "      <td>Algoritmos</td>\n",
       "      <td>5</td>\n",
       "    </tr>\n",
       "    <tr>\n",
       "      <th>3</th>\n",
       "      <td>Machine Learning</td>\n",
       "      <td>15</td>\n",
       "    </tr>\n",
       "    <tr>\n",
       "      <th>4</th>\n",
       "      <td>Deep Learning</td>\n",
       "      <td>5</td>\n",
       "    </tr>\n",
       "    <tr>\n",
       "      <th>5</th>\n",
       "      <td>NLP</td>\n",
       "      <td>10</td>\n",
       "    </tr>\n",
       "  </tbody>\n",
       "</table>\n",
       "</div>"
      ],
      "text/plain": [
       "            Modulos  Horas\n",
       "0          Big Data     25\n",
       "1            Python     15\n",
       "2        Algoritmos      5\n",
       "3  Machine Learning     15\n",
       "4     Deep Learning      5\n",
       "5               NLP     10"
      ]
     },
     "execution_count": 19,
     "metadata": {},
     "output_type": "execute_result"
    }
   ],
   "source": [
    "df[\"Horas\"] = horas\n",
    "df"
   ]
  },
  {
   "cell_type": "code",
   "execution_count": 20,
   "id": "082b6ed3",
   "metadata": {},
   "outputs": [
    {
     "data": {
      "text/html": [
       "<div>\n",
       "<style scoped>\n",
       "    .dataframe tbody tr th:only-of-type {\n",
       "        vertical-align: middle;\n",
       "    }\n",
       "\n",
       "    .dataframe tbody tr th {\n",
       "        vertical-align: top;\n",
       "    }\n",
       "\n",
       "    .dataframe thead th {\n",
       "        text-align: right;\n",
       "    }\n",
       "</style>\n",
       "<table border=\"1\" class=\"dataframe\">\n",
       "  <thead>\n",
       "    <tr style=\"text-align: right;\">\n",
       "      <th></th>\n",
       "      <th>Modulos</th>\n",
       "      <th>Horas</th>\n",
       "    </tr>\n",
       "  </thead>\n",
       "  <tbody>\n",
       "    <tr>\n",
       "      <th>0</th>\n",
       "      <td>Big Data</td>\n",
       "      <td>25</td>\n",
       "    </tr>\n",
       "    <tr>\n",
       "      <th>1</th>\n",
       "      <td>Python</td>\n",
       "      <td>15</td>\n",
       "    </tr>\n",
       "    <tr>\n",
       "      <th>2</th>\n",
       "      <td>Algoritmos</td>\n",
       "      <td>5</td>\n",
       "    </tr>\n",
       "    <tr>\n",
       "      <th>3</th>\n",
       "      <td>Machine Learning</td>\n",
       "      <td>15</td>\n",
       "    </tr>\n",
       "    <tr>\n",
       "      <th>4</th>\n",
       "      <td>Deep Learning</td>\n",
       "      <td>5</td>\n",
       "    </tr>\n",
       "    <tr>\n",
       "      <th>5</th>\n",
       "      <td>NLP</td>\n",
       "      <td>10</td>\n",
       "    </tr>\n",
       "  </tbody>\n",
       "</table>\n",
       "</div>"
      ],
      "text/plain": [
       "            Modulos  Horas\n",
       "0          Big Data     25\n",
       "1            Python     15\n",
       "2        Algoritmos      5\n",
       "3  Machine Learning     15\n",
       "4     Deep Learning      5\n",
       "5               NLP     10"
      ]
     },
     "execution_count": 20,
     "metadata": {},
     "output_type": "execute_result"
    }
   ],
   "source": [
    "df.Horas\n",
    "df"
   ]
  },
  {
   "cell_type": "code",
   "execution_count": 21,
   "id": "f30ad196",
   "metadata": {},
   "outputs": [
    {
     "data": {
      "text/plain": [
       "<AxesSubplot:>"
      ]
     },
     "execution_count": 21,
     "metadata": {},
     "output_type": "execute_result"
    },
    {
     "data": {
      "image/png": "[encoded data removed]",
      "text/plain": [
       "<Figure size 432x288 with 1 Axes>"
      ]
     },
     "metadata": {
      "needs_background": "light"
     },
     "output_type": "display_data"
    }
   ],
   "source": [
    "df.Horas.plot(kind = \"bar\")"
   ]
  },
  {
   "cell_type": "code",
   "execution_count": 22,
   "id": "f7a57562",
   "metadata": {},
   "outputs": [
    {
     "name": "stdout",
     "output_type": "stream",
     "text": [
      "         Modulos  Horas\n",
      "2     Algoritmos      5\n",
      "4  Deep Learning      5\n"
     ]
    }
   ],
   "source": [
    "def materiasmenos10(df):\n",
    "    return df[df[\"Horas\"] < 10]\n",
    "print(materiasmenos10(df))"
   ]
  },
  {
   "cell_type": "code",
   "execution_count": 23,
   "id": "5f4c3f41",
   "metadata": {},
   "outputs": [
    {
     "name": "stdout",
     "output_type": "stream",
     "text": [
      "Empty DataFrame\n",
      "Columns: [Modulos, Horas]\n",
      "Index: []\n"
     ]
    }
   ],
   "source": [
    "def materiasmas26(df):\n",
    "     return df[df[\"Horas\"] > 26]\n",
    "print(materiasmas26(df))"
   ]
  },
  {
   "cell_type": "code",
   "execution_count": 27,
   "id": "cb69b3cd",
   "metadata": {},
   "outputs": [
    {
     "name": "stdout",
     "output_type": "stream",
     "text": [
      "    Modulos  Horas Docentes\n",
      "0  Big Data     25  Enrique\n"
     ]
    }
   ],
   "source": [
    "def materias20(df):\n",
    "    return df[df[\"Horas\"] >= 20]\n",
    "print(materias20(df))"
   ]
  },
  {
   "cell_type": "code",
   "execution_count": 24,
   "id": "329ee5bd",
   "metadata": {},
   "outputs": [
    {
     "data": {
      "text/plain": [
       "['Enrique', 'Susana', 'Juan', 'Ana', 'Laura', 'Patricia']"
      ]
     },
     "execution_count": 24,
     "metadata": {},
     "output_type": "execute_result"
    }
   ],
   "source": [
    "docente = [\"Enrique\", \"Susana\", \"Juan\", \"Ana\", \"Laura\", \"Patricia\"]\n",
    "docente"
   ]
  },
  {
   "cell_type": "code",
   "execution_count": 25,
   "id": "e52ebee5",
   "metadata": {},
   "outputs": [
    {
     "data": {
      "text/html": [
       "<div>\n",
       "<style scoped>\n",
       "    .dataframe tbody tr th:only-of-type {\n",
       "        vertical-align: middle;\n",
       "    }\n",
       "\n",
       "    .dataframe tbody tr th {\n",
       "        vertical-align: top;\n",
       "    }\n",
       "\n",
       "    .dataframe thead th {\n",
       "        text-align: right;\n",
       "    }\n",
       "</style>\n",
       "<table border=\"1\" class=\"dataframe\">\n",
       "  <thead>\n",
       "    <tr style=\"text-align: right;\">\n",
       "      <th></th>\n",
       "      <th>Modulos</th>\n",
       "      <th>Horas</th>\n",
       "      <th>Docentes</th>\n",
       "    </tr>\n",
       "  </thead>\n",
       "  <tbody>\n",
       "    <tr>\n",
       "      <th>0</th>\n",
       "      <td>Big Data</td>\n",
       "      <td>25</td>\n",
       "      <td>Enrique</td>\n",
       "    </tr>\n",
       "    <tr>\n",
       "      <th>1</th>\n",
       "      <td>Python</td>\n",
       "      <td>15</td>\n",
       "      <td>Susana</td>\n",
       "    </tr>\n",
       "    <tr>\n",
       "      <th>2</th>\n",
       "      <td>Algoritmos</td>\n",
       "      <td>5</td>\n",
       "      <td>Juan</td>\n",
       "    </tr>\n",
       "    <tr>\n",
       "      <th>3</th>\n",
       "      <td>Machine Learning</td>\n",
       "      <td>15</td>\n",
       "      <td>Ana</td>\n",
       "    </tr>\n",
       "    <tr>\n",
       "      <th>4</th>\n",
       "      <td>Deep Learning</td>\n",
       "      <td>5</td>\n",
       "      <td>Laura</td>\n",
       "    </tr>\n",
       "    <tr>\n",
       "      <th>5</th>\n",
       "      <td>NLP</td>\n",
       "      <td>10</td>\n",
       "      <td>Patricia</td>\n",
       "    </tr>\n",
       "  </tbody>\n",
       "</table>\n",
       "</div>"
      ],
      "text/plain": [
       "            Modulos  Horas  Docentes\n",
       "0          Big Data     25   Enrique\n",
       "1            Python     15    Susana\n",
       "2        Algoritmos      5      Juan\n",
       "3  Machine Learning     15       Ana\n",
       "4     Deep Learning      5     Laura\n",
       "5               NLP     10  Patricia"
      ]
     },
     "execution_count": 25,
     "metadata": {},
     "output_type": "execute_result"
    }
   ],
   "source": [
    "df[\"Docentes\"] = docente\n",
    "df"
   ]
  },
  {
   "cell_type": "code",
   "execution_count": null,
   "id": "1074c1df",
   "metadata": {},
   "outputs": [],
   "source": []
  }
 ],
 "metadata": {
  "kernelspec": {
   "display_name": "Python 3 (ipykernel)",
   "language": "python",
   "name": "python3"
  },
  "language_info": {
   "codemirror_mode": {
    "name": "ipython",
    "version": 3
   },
   "file_extension": ".py",
   "mimetype": "text/x-python",
   "name": "python",
   "nbconvert_exporter": "python",
   "pygments_lexer": "ipython3",
   "version": "3.8.10"
  }
 },
 "nbformat": 4,
 "nbformat_minor": 5
}
