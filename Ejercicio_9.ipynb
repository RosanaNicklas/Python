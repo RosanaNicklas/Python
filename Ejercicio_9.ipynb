{
 "cells": [
  {
   "cell_type": "code",
   "execution_count": null,
   "id": "caf52816",
   "metadata": {},
   "outputs": [],
   "source": [
    "# EJERCICIO 1\n",
    "\n",
    "\"\"\"\n",
    "    Dado: \"np.arange(2,10)\"\n",
    "    sigue los siguientes pasos:\n",
    "    1) Escribe esa instrucción y asígnaselo a la variable \"a\"\n",
    "\"\"\"\n",
    "\n",
    "# 2) ¿Es equivalente a \"np.arange(2,10,1)\"?\n",
    "\n",
    "# 3) Se pide quedarse con aquellos números menores de 5.\n",
    "\n",
    "    # hazlo con numpy si puedes para la variable \"a\"\n",
    "\n",
    "# 4) Hazlo pasando esa información (de \"a\") a una lista\n",
    "\n",
    "# 5) En base a los resultados..\n",
    "\n",
    "    # ¿Es posible recorrer 1 a 1 un array de numpy?\n",
    "\n",
    "# 6) Haz el mismo proceso programando una sola línea (toma \"a\" como referencia)"
   ]
  },
  {
   "cell_type": "code",
   "execution_count": 8,
   "id": "0930d4aa",
   "metadata": {},
   "outputs": [
    {
     "data": {
      "text/plain": [
       "array([2, 3, 4, 5, 6, 7, 8, 9])"
      ]
     },
     "execution_count": 8,
     "metadata": {},
     "output_type": "execute_result"
    }
   ],
   "source": [
    "import numpy as np\n",
    "a =np.arange(2,10)\n",
    "a\n"
   ]
  },
  {
   "cell_type": "code",
   "execution_count": 9,
   "id": "c1c3e363",
   "metadata": {},
   "outputs": [
    {
     "data": {
      "text/plain": [
       "array([2, 3, 4, 5, 6, 7, 8, 9])"
      ]
     },
     "execution_count": 9,
     "metadata": {},
     "output_type": "execute_result"
    }
   ],
   "source": [
    "a =np.arange(2,10,1)\n",
    "a"
   ]
  },
  {
   "cell_type": "code",
   "execution_count": 13,
   "id": "eb14d861",
   "metadata": {},
   "outputs": [
    {
     "name": "stdout",
     "output_type": "stream",
     "text": [
      "2\n",
      "3\n",
      "4\n"
     ]
    }
   ],
   "source": [
    "for i in a:\n",
    "    if i < 5:\n",
    "        print(i)"
   ]
  },
  {
   "cell_type": "code",
   "execution_count": 12,
   "id": "003794a3",
   "metadata": {},
   "outputs": [
    {
     "data": {
      "text/plain": [
       "[2, 3, 4, 5, 6, 7, 8, 9]"
      ]
     },
     "execution_count": 12,
     "metadata": {},
     "output_type": "execute_result"
    }
   ],
   "source": [
    "a = a.tolist()\n",
    "a"
   ]
  },
  {
   "cell_type": "code",
   "execution_count": 49,
   "id": "a942afe5",
   "metadata": {},
   "outputs": [
    {
     "name": "stdout",
     "output_type": "stream",
     "text": [
      "[2, 3, 4]\n"
     ]
    }
   ],
   "source": [
    "listado_menor = []\n",
    "for i in a:\n",
    "    if i < 5:\n",
    "        listado_menor.append(i)\n",
    "print(listado_menor)"
   ]
  },
  {
   "cell_type": "code",
   "execution_count": 51,
   "id": "3a820a60",
   "metadata": {},
   "outputs": [
    {
     "data": {
      "text/plain": [
       "[2, 3, 4]"
      ]
     },
     "execution_count": 51,
     "metadata": {},
     "output_type": "execute_result"
    }
   ],
   "source": [
    "listado_nuevo = [numero for numero in a if numero < 5]\n",
    "listado_nuevo"
   ]
  },
  {
   "cell_type": "code",
   "execution_count": null,
   "id": "0e030c3d",
   "metadata": {},
   "outputs": [],
   "source": [
    "# EJERCICIO 2\n",
    "\n",
    "\"\"\"\n",
    "    Para estos valores (v de valores por abreviar):\n",
    "    v1 = 4\n",
    "    v2 = 5\n",
    "    v3 = 7\n",
    "    v4 = 8\n",
    "    El objetivo será calcular la media de estos valores\n",
    "    Para ello sigue los siguientes pasos:\n",
    "\"\"\"\n",
    "\n",
    "# 1) Imprime los valores de esas variables v1,v2,v3,v4\n",
    "\n",
    "\n",
    "# 2) Descomenta las 2 líneas siguientes para aprender..\n",
    "\n",
    "    # que es posible asignar varios valores en la misma línea\n",
    "\n",
    "    # Y la asignación de valores a variables se hace de forma consecutiva.\n",
    "\n",
    "# v1,v2,v3,v4 = 4, 5, 7, 8\n",
    "# print(v1,v2,v3,v4)\n",
    "\n",
    "#3) Descomenta la línea siguiente para aprender una posible forma de calcular la media.\n",
    "\n",
    "    #  Usamos nuevamente numpy..\n",
    "\n",
    "# media_numpy = np.mean([v1,v2,v3,v4])\n",
    "# print(media_numpy)\n",
    "\n",
    "\n",
    "# 4) Calcula la media sin usar numpy\n",
    "\n",
    "    # Si el resultado no sale bien, razona cómo debería hacerse.."
   ]
  },
  {
   "cell_type": "code",
   "execution_count": 18,
   "id": "fc8558ad",
   "metadata": {},
   "outputs": [
    {
     "name": "stdout",
     "output_type": "stream",
     "text": [
      "4 5 7 8\n"
     ]
    }
   ],
   "source": [
    "v1, v2, v3, v4 = 4, 5, 7, 8\n",
    "print(v1,v2,v3,v4)"
   ]
  },
  {
   "cell_type": "code",
   "execution_count": 20,
   "id": "bc7efa55",
   "metadata": {},
   "outputs": [
    {
     "data": {
      "text/plain": [
       "6.0"
      ]
     },
     "execution_count": 20,
     "metadata": {},
     "output_type": "execute_result"
    }
   ],
   "source": [
    "media_numpy = np.mean([v1,v2,v3,v4])\n",
    "media_numpy"
   ]
  },
  {
   "cell_type": "code",
   "execution_count": 21,
   "id": "c7457658",
   "metadata": {},
   "outputs": [
    {
     "data": {
      "text/plain": [
       "[4, 5, 7, 8]"
      ]
     },
     "execution_count": 21,
     "metadata": {},
     "output_type": "execute_result"
    }
   ],
   "source": [
    "L = [v1,v2,v3,v4]\n",
    "L"
   ]
  },
  {
   "cell_type": "code",
   "execution_count": 22,
   "id": "4f78e38a",
   "metadata": {},
   "outputs": [
    {
     "name": "stdout",
     "output_type": "stream",
     "text": [
      "6.0\n"
     ]
    }
   ],
   "source": [
    "media = 0\n",
    "for i in L:\n",
    "    media = media + i / len(L)\n",
    "print(media)    "
   ]
  },
  {
   "cell_type": "code",
   "execution_count": null,
   "id": "289e6f0c",
   "metadata": {},
   "outputs": [],
   "source": [
    "    Factorial de un número\n",
    "    Nota:\n",
    "    El Factorial de 5, por ejemplo:\n",
    "    5! = 5 * 4 * 3 * 2 * 1 = 120\n",
    "    y el de 3:\n",
    "    3! = 3 * 2 * 1 = 6\n",
    "    y así para todos..\n",
    "    PASOS A SEGUIR Y COSAS A TENER EN CUENTA\n",
    "    Pide por teclado el número del cual quieres calcular el factorial.\n",
    "    Para que no sea muy grande te recomendamos:\n",
    "    3,4 o 5 (para hacer las pruebas)\n",
    "    si ya no lo recuerdas o nunca lo viste, no te preocupes..\n",
    "    3! es: 3 * 2 * 1 = 6\n",
    "    4! es: 4 * 3 * 2 * 1 = 24\n",
    "    5! es: 5 * 4 * 3 * 2 * 1 = 120\n",
    "    (esto es lo que se pide, en esencia)"
   ]
  },
  {
   "cell_type": "code",
   "execution_count": 65,
   "id": "0690cb6f",
   "metadata": {},
   "outputs": [
    {
     "name": "stdout",
     "output_type": "stream",
     "text": [
      "Introduce el numero del que quieres sacar el factorial: 5\n",
      "[1, 2, 3, 4, 5]\n"
     ]
    },
    {
     "data": {
      "text/plain": [
       "120"
      ]
     },
     "execution_count": 65,
     "metadata": {},
     "output_type": "execute_result"
    }
   ],
   "source": [
    "numero = int(input(\"Introduce el numero del que quieres sacar el factorial: \"))\n",
    "def factorial(numero):\n",
    "    listado = np.arange(1, numero+1).tolist()\n",
    "    print(listado)\n",
    "    producto = 1\n",
    "    for i in listado:\n",
    "        producto = producto * i\n",
    "    return producto\n",
    "factorial(numero)    "
   ]
  },
  {
   "cell_type": "code",
   "execution_count": null,
   "id": "1efd416f",
   "metadata": {},
   "outputs": [],
   "source": []
  },
  {
   "cell_type": "code",
   "execution_count": 32,
   "id": "55b9feb6",
   "metadata": {},
   "outputs": [
    {
     "name": "stdout",
     "output_type": "stream",
     "text": [
      "[0, 1]\n"
     ]
    }
   ],
   "source": [
    "  "
   ]
  },
  {
   "cell_type": "code",
   "execution_count": 35,
   "id": "bcbe72f9",
   "metadata": {},
   "outputs": [
    {
     "ename": "SyntaxError",
     "evalue": "EOF while scanning triple-quoted string literal (1953513483.py, line 13)",
     "output_type": "error",
     "traceback": [
      "\u001b[0;36m  Input \u001b[0;32mIn [35]\u001b[0;36m\u001b[0m\n\u001b[0;31m    Debería ejecutarse en unos 2 minutos aprox.\u001b[0m\n\u001b[0m                                               \n^\u001b[0m\n\u001b[0;31mSyntaxError\u001b[0m\u001b[0;31m:\u001b[0m EOF while scanning triple-quoted string literal\n"
     ]
    }
   ],
   "source": [
    "\n",
    "# EJERCICIO 4\n",
    "\n",
    "\"\"\"\n",
    "    Haz un cronómetro en Python:\n",
    "    Obviamente:\n",
    "    Horas - Minutos - Segundos\n",
    "    Debes usar lo siguiente (from time import sleep)\n",
    "    NOTA: Si quieres puedes usar sleep(0.000001)\n",
    "    en vez de sleep(1) -> 1 segundo\n",
    "    (para no esperar 1 segundo a ver los cambios)\n",
    "    Para poder pararlo en poco tiempo,\n",
    "    imprime mientras horas<2, cuando llegue a 2 debería parar la ejecución.\n",
    "    Debería ejecutarse en unos 2 minutos aprox."
   ]
  },
  {
   "cell_type": "code",
   "execution_count": 53,
   "id": "2f4abb77",
   "metadata": {},
   "outputs": [],
   "source": [
    "import numpy as np\n",
    "from time import sleep\n",
    "horas = np.arange(0,24)\n",
    "minutos = np.arange(0,60)\n",
    "segundos = np.arange(0,60)\n",
    "horas = horas.tolist()\n",
    "minutos = minutos.tolist()\n",
    "segundos = segundos.tolist()"
   ]
  },
  {
   "cell_type": "code",
   "execution_count": 66,
   "id": "446fd1f3",
   "metadata": {},
   "outputs": [
    {
     "ename": "TypeError",
     "evalue": "'int' object is not iterable",
     "output_type": "error",
     "traceback": [
      "\u001b[0;31m---------------------------------------------------------------------------\u001b[0m",
      "\u001b[0;31mTypeError\u001b[0m                                 Traceback (most recent call last)",
      "Input \u001b[0;32mIn [66]\u001b[0m, in \u001b[0;36m<cell line: 3>\u001b[0;34m()\u001b[0m\n\u001b[1;32m      3\u001b[0m \u001b[38;5;28;01mfor\u001b[39;00m h \u001b[38;5;129;01min\u001b[39;00m horas:\n\u001b[1;32m      4\u001b[0m     \u001b[38;5;28;01mfor\u001b[39;00m m \u001b[38;5;129;01min\u001b[39;00m minutos:\n\u001b[0;32m----> 5\u001b[0m         \u001b[38;5;28;01mfor\u001b[39;00m s \u001b[38;5;129;01min\u001b[39;00m segundos:\n\u001b[1;32m      6\u001b[0m             \u001b[38;5;28;01mif\u001b[39;00m h \u001b[38;5;241m<\u001b[39m \u001b[38;5;241m2\u001b[39m:\n\u001b[1;32m      7\u001b[0m                 \u001b[38;5;28mprint\u001b[39m(h,m,s)\n",
      "\u001b[0;31mTypeError\u001b[0m: 'int' object is not iterable"
     ]
    }
   ],
   "source": [
    "def reloj(horas, minutos,segundos):\n",
    "    print(\"h m s\")\n",
    "for h in horas:\n",
    "    for m in minutos:\n",
    "        for s in segundos:\n",
    "            if h < 2:\n",
    "                print(h,m,s)\n",
    "                sleep(0.000001)"
   ]
  },
  {
   "cell_type": "code",
   "execution_count": null,
   "id": "8a8b4e54",
   "metadata": {},
   "outputs": [],
   "source": []
  }
 ],
 "metadata": {
  "kernelspec": {
   "display_name": "Python 3 (ipykernel)",
   "language": "python",
   "name": "python3"
  },
  "language_info": {
   "codemirror_mode": {
    "name": "ipython",
    "version": 3
   },
   "file_extension": ".py",
   "mimetype": "text/x-python",
   "name": "python",
   "nbconvert_exporter": "python",
   "pygments_lexer": "ipython3",
   "version": "3.8.10"
  }
 },
 "nbformat": 4,
 "nbformat_minor": 5
}
