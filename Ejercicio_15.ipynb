{
 "cells": [
  {
   "cell_type": "code",
   "execution_count": 1,
   "id": "fc07b9c0",
   "metadata": {},
   "outputs": [
    {
     "name": "stdout",
     "output_type": "stream",
     "text": [
      "[0, 1, 1, 2, 3, 5, 8, 13, 21, 34]\n"
     ]
    }
   ],
   "source": [
    "import pandas as pd\n",
    "\n",
    "# EJERCICIO 1\n",
    "\n",
    "\"\"\"\n",
    "    Cada número es la suma de los 2 anteriores:\n",
    "\n",
    "    0-1-1-2-3-5-8-13-21-34...\n",
    "\n",
    "    Se pide programar esa secuencia con Python.\n",
    "\n",
    "    Nota:\n",
    "\n",
    "    Apendiza elementos hasta tener 10 primeros resultados.\n",
    "\n",
    "    (los 10 números indicados desde 0 hasta 34)\n",
    "\n",
    "    Si sabes, hazlo de varias formas diferentes\n",
    "\"\"\"\n",
    "\n",
    "def fibonacci():\n",
    "    L = [0, 1]\n",
    "    while (len(L) < 10):\n",
    "        L.append(L[-1] + L[-2])\n",
    "    return L\n",
    "print(fibonacci())\n",
    "\n",
    "\n"
   ]
  },
  {
   "cell_type": "code",
   "execution_count": null,
   "id": "46e8e31b",
   "metadata": {},
   "outputs": [],
   "source": []
  },
  {
   "cell_type": "code",
   "execution_count": 2,
   "id": "fa43fef2",
   "metadata": {},
   "outputs": [],
   "source": [
    "\n",
    "\n",
    "# EJERCICIO 2\n",
    "\n",
    "# Cada número es la suma de los 2 anteriores:\n",
    "\n",
    "# 0-1-1-2-3-5-8-13-21-34...\n",
    "\n",
    "# Se pide programar para los números de fibonacci mayores de 1000\n",
    "\n",
    "# Primero muestra los valores de 0 hasta 1000000, crea una lista\n",
    "# con ese listado crea una segunda lista con los mayores de 1000\n",
    "\n"
   ]
  },
  {
   "cell_type": "code",
   "execution_count": 3,
   "id": "6b6b3e0f",
   "metadata": {},
   "outputs": [
    {
     "data": {
      "text/plain": [
       "[0,\n",
       " 1,\n",
       " 1,\n",
       " 2,\n",
       " 3,\n",
       " 5,\n",
       " 8,\n",
       " 13,\n",
       " 21,\n",
       " 34,\n",
       " 55,\n",
       " 89,\n",
       " 144,\n",
       " 233,\n",
       " 377,\n",
       " 610,\n",
       " 987,\n",
       " 1597,\n",
       " 2584,\n",
       " 4181,\n",
       " 6765,\n",
       " 10946,\n",
       " 17711,\n",
       " 28657,\n",
       " 46368,\n",
       " 75025,\n",
       " 121393,\n",
       " 196418,\n",
       " 317811,\n",
       " 514229,\n",
       " 832040,\n",
       " 1346269,\n",
       " 2178309,\n",
       " 3524578]"
      ]
     },
     "execution_count": 3,
     "metadata": {},
     "output_type": "execute_result"
    }
   ],
   "source": [
    "p,q = 0,1\n",
    "fibo = []\n",
    "fibo.append(0)\n",
    "fibo.append(1)\n",
    "while p < 1000000:\n",
    "    p = p + q\n",
    "    fibo.append(p)\n",
    "    q = p + q\n",
    "    fibo.append(q)\n",
    "fibo    \n"
   ]
  },
  {
   "cell_type": "code",
   "execution_count": 5,
   "id": "bdca6513",
   "metadata": {},
   "outputs": [
    {
     "name": "stdout",
     "output_type": "stream",
     "text": [
      "1597\n",
      "2584\n",
      "4181\n",
      "6765\n",
      "10946\n",
      "17711\n",
      "28657\n",
      "46368\n",
      "75025\n",
      "121393\n",
      "196418\n",
      "317811\n",
      "514229\n",
      "832040\n",
      "1346269\n",
      "2178309\n",
      "3524578\n"
     ]
    }
   ],
   "source": [
    "for i in fibo:\n",
    "    if i > 1000:\n",
    "        print(i)"
   ]
  },
  {
   "cell_type": "code",
   "execution_count": 6,
   "id": "324458c5",
   "metadata": {},
   "outputs": [],
   "source": [
    "\n",
    "# EJERCICIO 3\n",
    "\n",
    "# Se pide crear un NUEVO dataframe para cada uno de los siguientes casos\n",
    "\n",
    "# planteados y que están relacionados con el Titanic DataSet\n",
    "\n",
    "# (antes debéis de cargar el archivo como df)\n",
    "\n",
    "# 1) Leer el archivo train.csv del titanic dataset\n",
    "\n",
    "#df = pd.read_csv(\"./src/train.csv\")\n",
    "\n",
    "# Descomentar para ejecutar:\n",
    "# print(df)\n",
    "\n",
    "# 2) Crear un dataframe de nombre df_sobreviven refiriéndose a un dataframe en el que todos los pasajeros sobreviven\n",
    "\n",
    "    # NOTA: si al principio no estás seguro del resultado, puedes usar value_counts() para comprobar tu resultado\n",
    "\n",
    "# 3) Crear un dataframe de nombre df__no_sobreviven refiriéndose a un dataframe en el que NINGUNO de los pasajeros sobrevive\n",
    "\n",
    "# 4) DataFrame de hombres que no sobrevivieron en el titanic\n",
    "\n",
    "# 5) DataFrame de hombres que si sobrevivieron en el titanic\n",
    "\n",
    "# 6) DataFrame de mujeres que no sobrevivieron en el titanic\n",
    "\n",
    "# 7) DataFrame de mujeres que si sobrevivieron en el titanic"
   ]
  },
  {
   "cell_type": "code",
   "execution_count": null,
   "id": "4d9c262c",
   "metadata": {},
   "outputs": [],
   "source": []
  }
 ],
 "metadata": {
  "kernelspec": {
   "display_name": "Python 3 (ipykernel)",
   "language": "python",
   "name": "python3"
  },
  "language_info": {
   "codemirror_mode": {
    "name": "ipython",
    "version": 3
   },
   "file_extension": ".py",
   "mimetype": "text/x-python",
   "name": "python",
   "nbconvert_exporter": "python",
   "pygments_lexer": "ipython3",
   "version": "3.8.10"
  }
 },
 "nbformat": 4,
 "nbformat_minor": 5
}
