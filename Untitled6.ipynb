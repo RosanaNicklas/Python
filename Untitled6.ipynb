{
 "cells": [
  {
   "cell_type": "code",
   "execution_count": 3,
   "id": "2dfc2e21",
   "metadata": {},
   "outputs": [
    {
     "data": {
      "text/plain": [
       "[0, 1, 1, 2, 3, 5, 8, 13, 21, 34, 55, 89]"
      ]
     },
     "execution_count": 3,
     "metadata": {},
     "output_type": "execute_result"
    }
   ],
   "source": [
    "p, q = 0,1\n",
    "fibo = []\n",
    "fibo.append(p)\n",
    "fibo.append(q)\n",
    "while p < 30:\n",
    "    p = p + q\n",
    "    fibo.append(p)\n",
    "    q = p + q\n",
    "    fibo.append(q)\n",
    "fibo    "
   ]
  },
  {
   "cell_type": "code",
   "execution_count": null,
   "id": "f58716d3",
   "metadata": {},
   "outputs": [],
   "source": [
    "a = input(3introduce palabr)\n",
    "for i in a:\n",
    "    if a = a[::-1]:\n",
    "        print(\"es palindromo\")\n",
    "    else:\n",
    "        print(\"mierdas\")\n"
   ]
  },
  {
   "cell_type": "code",
   "execution_count": null,
   "id": "aac401fd",
   "metadata": {},
   "outputs": [],
   "source": []
  },
  {
   "cell_type": "code",
   "execution_count": null,
   "id": "997d8b29",
   "metadata": {},
   "outputs": [],
   "source": []
  }
 ],
 "metadata": {
  "kernelspec": {
   "display_name": "Python 3 (ipykernel)",
   "language": "python",
   "name": "python3"
  },
  "language_info": {
   "codemirror_mode": {
    "name": "ipython",
    "version": 3
   },
   "file_extension": ".py",
   "mimetype": "text/x-python",
   "name": "python",
   "nbconvert_exporter": "python",
   "pygments_lexer": "ipython3",
   "version": "3.8.10"
  }
 },
 "nbformat": 4,
 "nbformat_minor": 5
}
