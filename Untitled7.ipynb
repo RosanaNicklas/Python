{
 "cells": [
  {
   "cell_type": "code",
   "execution_count": 1,
   "id": "09566d45",
   "metadata": {},
   "outputs": [
    {
     "name": "stdout",
     "output_type": "stream",
     "text": [
      "-3\n"
     ]
    }
   ],
   "source": [
    "\n",
    "# EJERCICIO 1\n",
    "\n",
    "\"\"\"\n",
    "    Decribe una variable con nombre \"notas\" que tenga el valor -3\n",
    "    muestra su valor\n",
    "\"\"\"\n",
    "\n",
    "notas = -3\n",
    "print(notas)"
   ]
  },
  {
   "cell_type": "code",
   "execution_count": 2,
   "id": "da2d5cd5",
   "metadata": {},
   "outputs": [
    {
     "data": {
      "text/plain": [
       "-3"
      ]
     },
     "execution_count": 2,
     "metadata": {},
     "output_type": "execute_result"
    }
   ],
   "source": [
    "notas = -3\n",
    "notas"
   ]
  },
  {
   "cell_type": "code",
   "execution_count": 3,
   "id": "7e00312c",
   "metadata": {},
   "outputs": [
    {
     "data": {
      "text/plain": [
       "'Juan\"El profesor\"'"
      ]
     },
     "execution_count": 3,
     "metadata": {},
     "output_type": "execute_result"
    }
   ],
   "source": [
    "# EJERCICIO 3\n",
    "\n",
    "\"\"\"\n",
    "    Declarar una variable con nombre \"name\",\n",
    "    que tenga el valor de Juan \"El profesor\"\n",
    "\"\"\"\n",
    "name = 'Juan\"El profesor\"'\n",
    "name"
   ]
  },
  {
   "cell_type": "code",
   "execution_count": 4,
   "id": "f59fbb6d",
   "metadata": {},
   "outputs": [
    {
     "name": "stdout",
     "output_type": "stream",
     "text": [
      "el valor de s es 25 y el valor de y es 10\n",
      "el valor de s es 25 y el valor de y es 10\n",
      "el valor de s es  25  y el valor de y es  10\n",
      "el valor de s es 25 y el valor de y es 10\n"
     ]
    }
   ],
   "source": [
    "\n",
    "# EJERCICIO 2\n",
    "\n",
    "\"\"\"\n",
    "    Imprime los valores de \"s\" es igual 25, de \"y\" es igual a 10, poniendo la siguiente salida:\n",
    "    El valor de \"s\" es \"valor de s\" y el valor de y es \"valor de y\"\n",
    "\"\"\"\n",
    "\n",
    "s = 25\n",
    "y = 10\n",
    "print(f'el valor de s es {s} y el valor de y es {y}')\n",
    "print('el valor de s es ' + str(s) + ' y el valor de y es ' + str(y))\n",
    "print('el valor de s es ', s, ' y el valor de y es ', y)\n",
    "print(f'el valor de s es %s y el valor de y es %s' %(s, y))"
   ]
  },
  {
   "cell_type": "code",
   "execution_count": 5,
   "id": "904845b7",
   "metadata": {},
   "outputs": [
    {
     "name": "stdout",
     "output_type": "stream",
     "text": [
      "El valor de s es 25 y el valor de y es 10\n",
      "El valor de s es 25 y el valor de y es 10\n",
      "El valor de s es 25 y el valor de y es 10\n"
     ]
    }
   ],
   "source": [
    "s = 25\n",
    "y = 10\n",
    "print(f'El valor de s es {s} y el valor de y es {y}')\n",
    "print(\"El valor de s es \" + str(s) + \" y el valor de y es \" + str(y))\n",
    "print(f\"El valor de s es %s y el valor de y es %s\" %(s,y))"
   ]
  },
  {
   "cell_type": "code",
   "execution_count": 6,
   "id": "7c246c9b",
   "metadata": {},
   "outputs": [
    {
     "data": {
      "text/plain": [
       "'\\n    Concatena las siguientes palabras formando un sola:\\n    Juan \"El profesor\"\\n'"
      ]
     },
     "execution_count": 6,
     "metadata": {},
     "output_type": "execute_result"
    }
   ],
   "source": [
    "# EJERCICIO 4\n",
    "\n",
    "\"\"\"\n",
    "    Concatena las siguientes palabras formando un sola:\n",
    "    Juan \"El profesor\"\n",
    "\"\"\""
   ]
  },
  {
   "cell_type": "code",
   "execution_count": 7,
   "id": "2b61862c",
   "metadata": {},
   "outputs": [
    {
     "data": {
      "text/plain": [
       "'Juan\"El profesor\"'"
      ]
     },
     "execution_count": 7,
     "metadata": {},
     "output_type": "execute_result"
    }
   ],
   "source": [
    "palabra = 'Juan\"El profesor\"'\n",
    "palabra"
   ]
  },
  {
   "cell_type": "code",
   "execution_count": 8,
   "id": "e1c87492",
   "metadata": {},
   "outputs": [
    {
     "ename": "SyntaxError",
     "evalue": "EOF while scanning triple-quoted string literal (4049754405.py, line 7)",
     "output_type": "error",
     "traceback": [
      "\u001b[0;36m  Input \u001b[0;32mIn [8]\u001b[0;36m\u001b[0m\n\u001b[0;31m    · Pon todas las letras en minúculas\u001b[0m\n\u001b[0m                                       \n^\u001b[0m\n\u001b[0;31mSyntaxError\u001b[0m\u001b[0;31m:\u001b[0m EOF while scanning triple-quoted string literal\n"
     ]
    }
   ],
   "source": [
    "\n",
    "# EJERCICIO 5\n",
    "\n",
    "\"\"\"\n",
    "    Teniendo la siguientes palabras: no cuentes los días, haz que los días cuenten\n",
    "     · Pon las primeras letras de cada palabra en mayúsculas\n",
    "     · Pon todas las letras en mayúsculas\n",
    "     · Pon todas las letras en minúculas"
   ]
  },
  {
   "cell_type": "code",
   "execution_count": 9,
   "id": "b7534ca5",
   "metadata": {},
   "outputs": [
    {
     "name": "stdout",
     "output_type": "stream",
     "text": [
      "no cuentes los días, haz que los días cuenten\n",
      "NO CUENTES LOS DÍAS, HAZ QUE LOS DÍAS CUENTEN\n",
      "No Cuentes Los Días, Haz Que Los Días Cuenten\n"
     ]
    }
   ],
   "source": [
    "palabras = \"no cuentes los días, haz que los días cuenten\"\n",
    "print(palabras.lower())\n",
    "print(palabras.upper())\n",
    "print(palabras.title())"
   ]
  },
  {
   "cell_type": "code",
   "execution_count": null,
   "id": "bff1e872",
   "metadata": {},
   "outputs": [],
   "source": [
    "\n",
    "# EJERCICIO 6\n",
    "\n",
    "\"\"\"\n",
    "    Realiza la suma de 26 y 35\n",
    "    Realiza la multiplicación de 26 y 35\n",
    "    Realiza la operación de 2 + 32 por 10\n",
    "    Saca el resultado de 3 elevado a 9\n",
    "    Redondea el resultado anterior a dos decimales\n",
    "    Muestra de que tipo se trata\n",
    "\"\"\""
   ]
  },
  {
   "cell_type": "code",
   "execution_count": 10,
   "id": "35512324",
   "metadata": {},
   "outputs": [
    {
     "name": "stdout",
     "output_type": "stream",
     "text": [
      "61\n",
      "910\n",
      "322\n",
      "19683\n"
     ]
    },
    {
     "data": {
      "text/plain": [
       "int"
      ]
     },
     "execution_count": 10,
     "metadata": {},
     "output_type": "execute_result"
    }
   ],
   "source": [
    "print(26 + 35)\n",
    "print(26 * 35)\n",
    "print( 2 + (32 * 10))\n",
    "elevado = 3**9\n",
    "print(elevado)\n",
    "type(elevado)"
   ]
  },
  {
   "cell_type": "code",
   "execution_count": 11,
   "id": "731c9811",
   "metadata": {},
   "outputs": [],
   "source": [
    "def elevado(x,y):\n",
    "    result = x**y\n",
    "    return result"
   ]
  },
  {
   "cell_type": "code",
   "execution_count": 12,
   "id": "2002e4c0",
   "metadata": {},
   "outputs": [],
   "source": [
    "def redondeo(value):\n",
    "    print(round(value,2))"
   ]
  },
  {
   "cell_type": "code",
   "execution_count": 13,
   "id": "1c78ddc2",
   "metadata": {},
   "outputs": [],
   "source": [
    "def tipo(value):\n",
    "    print(type(value))"
   ]
  },
  {
   "cell_type": "code",
   "execution_count": 14,
   "id": "1e979977",
   "metadata": {},
   "outputs": [
    {
     "name": "stdout",
     "output_type": "stream",
     "text": [
      "19683\n",
      "19683\n",
      "None\n",
      "<class 'function'>\n",
      "None\n"
     ]
    }
   ],
   "source": [
    "print(elevado(3,9))\n",
    "print(redondeo(elevado(3,9)))\n",
    "print(tipo(elevado))\n"
   ]
  },
  {
   "cell_type": "code",
   "execution_count": null,
   "id": "539fbca7",
   "metadata": {},
   "outputs": [],
   "source": [
    "\n",
    "# EJERCICIO 7\n",
    "\n",
    "\"\"\"\n",
    "    Saca el valor absoluto de -32\n",
    "    Muestra el máximo y el mínimo de (3, -6, 4, -10, 2.6666)"
   ]
  },
  {
   "cell_type": "code",
   "execution_count": 15,
   "id": "c51a3949",
   "metadata": {},
   "outputs": [
    {
     "name": "stdout",
     "output_type": "stream",
     "text": [
      "32\n"
     ]
    }
   ],
   "source": [
    "print(abs(-32))"
   ]
  },
  {
   "cell_type": "code",
   "execution_count": 16,
   "id": "7559d018",
   "metadata": {},
   "outputs": [
    {
     "data": {
      "text/plain": [
       "(3, -6, 4, -10, 2.6666)"
      ]
     },
     "execution_count": 16,
     "metadata": {},
     "output_type": "execute_result"
    }
   ],
   "source": [
    "l = (3, -6, 4, -10, 2.6666)\n",
    "l"
   ]
  },
  {
   "cell_type": "code",
   "execution_count": 17,
   "id": "41367c29",
   "metadata": {},
   "outputs": [
    {
     "name": "stdout",
     "output_type": "stream",
     "text": [
      "-10\n",
      "4\n"
     ]
    }
   ],
   "source": [
    "print(min(l))\n",
    "print(max(l))"
   ]
  },
  {
   "cell_type": "code",
   "execution_count": null,
   "id": "8e026d02",
   "metadata": {},
   "outputs": [],
   "source": [
    "\n",
    "# EJERCICIO 8\n",
    "\n",
    "\"\"\"\n",
    "    Tratar de reemplazar los valores que faltan en este listado --> por un -1\n",
    "    L = [10, None, 8, 5, None, 20]\n",
    "    1) Hazlo de la forma más fácil posible teniendo en cuenta la posición (index) de esos valores.\n",
    "    2) Crea un dataframe con esos valores (L = [10, None, 8, 5, None, 20])\n",
    "\"\"\""
   ]
  },
  {
   "cell_type": "code",
   "execution_count": 18,
   "id": "6b182a4a",
   "metadata": {},
   "outputs": [
    {
     "data": {
      "text/plain": [
       "[10, None, 8, 5, None, 20]"
      ]
     },
     "execution_count": 18,
     "metadata": {},
     "output_type": "execute_result"
    }
   ],
   "source": [
    "L = [10, None, 8, 5, None, 20]\n",
    "L"
   ]
  },
  {
   "cell_type": "code",
   "execution_count": 19,
   "id": "db475c5d",
   "metadata": {},
   "outputs": [
    {
     "data": {
      "text/plain": [
       "[10, -1, 8, 5, -1, 20]"
      ]
     },
     "execution_count": 19,
     "metadata": {},
     "output_type": "execute_result"
    }
   ],
   "source": [
    "L[1]= -1\n",
    "L[4]= -1\n",
    "L"
   ]
  },
  {
   "cell_type": "code",
   "execution_count": 20,
   "id": "33d58e4e",
   "metadata": {},
   "outputs": [
    {
     "data": {
      "text/plain": [
       "[10, None, 8, 5, None, 20]"
      ]
     },
     "execution_count": 20,
     "metadata": {},
     "output_type": "execute_result"
    }
   ],
   "source": [
    "L = [10, None, 8, 5, None, 20]\n",
    "L"
   ]
  },
  {
   "cell_type": "code",
   "execution_count": null,
   "id": "3d5196d6",
   "metadata": {},
   "outputs": [],
   "source": [
    "   "
   ]
  },
  {
   "cell_type": "code",
   "execution_count": 21,
   "id": "924dee7c",
   "metadata": {},
   "outputs": [
    {
     "data": {
      "text/html": [
       "<div>\n",
       "<style scoped>\n",
       "    .dataframe tbody tr th:only-of-type {\n",
       "        vertical-align: middle;\n",
       "    }\n",
       "\n",
       "    .dataframe tbody tr th {\n",
       "        vertical-align: top;\n",
       "    }\n",
       "\n",
       "    .dataframe thead th {\n",
       "        text-align: right;\n",
       "    }\n",
       "</style>\n",
       "<table border=\"1\" class=\"dataframe\">\n",
       "  <thead>\n",
       "    <tr style=\"text-align: right;\">\n",
       "      <th></th>\n",
       "      <th>Listado</th>\n",
       "    </tr>\n",
       "  </thead>\n",
       "  <tbody>\n",
       "    <tr>\n",
       "      <th>0</th>\n",
       "      <td>10.0</td>\n",
       "    </tr>\n",
       "    <tr>\n",
       "      <th>1</th>\n",
       "      <td>NaN</td>\n",
       "    </tr>\n",
       "    <tr>\n",
       "      <th>2</th>\n",
       "      <td>8.0</td>\n",
       "    </tr>\n",
       "    <tr>\n",
       "      <th>3</th>\n",
       "      <td>5.0</td>\n",
       "    </tr>\n",
       "    <tr>\n",
       "      <th>4</th>\n",
       "      <td>NaN</td>\n",
       "    </tr>\n",
       "    <tr>\n",
       "      <th>5</th>\n",
       "      <td>20.0</td>\n",
       "    </tr>\n",
       "  </tbody>\n",
       "</table>\n",
       "</div>"
      ],
      "text/plain": [
       "   Listado\n",
       "0     10.0\n",
       "1      NaN\n",
       "2      8.0\n",
       "3      5.0\n",
       "4      NaN\n",
       "5     20.0"
      ]
     },
     "execution_count": 21,
     "metadata": {},
     "output_type": "execute_result"
    }
   ],
   "source": [
    "import pandas as pd\n",
    "df = pd.DataFrame(L, columns = [\"Listado\"])\n",
    "df"
   ]
  },
  {
   "cell_type": "markdown",
   "id": "c7a51f54",
   "metadata": {},
   "source": [
    "Ejercicio 1\n",
    "Dado el siguiente listado: [\"Python\", \"Matlab\", \"R\", \"VBA\", \"Julia\", \"C++\"].\n",
    "Modifica con un algoritmo ese listado.\n",
    "Cuando encuentre Python debe poner un 1\n",
    "y cuando encuentre otro lenguaje de programacion, un 0\n",
    "es un simple ejemplo de modificación de valores en una lista"
   ]
  },
  {
   "cell_type": "code",
   "execution_count": 22,
   "id": "9e5811f7",
   "metadata": {},
   "outputs": [
    {
     "data": {
      "text/plain": [
       "['Python', 'Matlab', 'R', 'VBA', 'Julia', 'C++']"
      ]
     },
     "execution_count": 22,
     "metadata": {},
     "output_type": "execute_result"
    }
   ],
   "source": [
    "languages = [\"Python\", \"Matlab\", \"R\", \"VBA\", \"Julia\", \"C++\"]  \n",
    "languages    "
   ]
  },
  {
   "cell_type": "code",
   "execution_count": 23,
   "id": "21ed14da",
   "metadata": {},
   "outputs": [
    {
     "data": {
      "text/plain": [
       "[1, 0, 0, 0, 0, 0]"
      ]
     },
     "execution_count": 23,
     "metadata": {},
     "output_type": "execute_result"
    }
   ],
   "source": [
    "\n",
    "for i in range(len(languages)):\n",
    "    if languages[i] == \"Python\":\n",
    "        languages[i] = 1\n",
    "    else:\n",
    "        languages[i] = 0   \n",
    "languages       "
   ]
  },
  {
   "cell_type": "code",
   "execution_count": 24,
   "id": "c54d9642",
   "metadata": {},
   "outputs": [
    {
     "data": {
      "text/plain": [
       "[0, 0, 0, 0, 0, 0]"
      ]
     },
     "execution_count": 24,
     "metadata": {},
     "output_type": "execute_result"
    }
   ],
   "source": [
    "n = 0\n",
    "for language in languages:\n",
    "    if language == \"Python\":\n",
    "        languages[n]= 1\n",
    "    else:\n",
    "        languages[n]=0\n",
    "    n+=1\n",
    "languages    "
   ]
  },
  {
   "cell_type": "raw",
   "id": "4e0d7884",
   "metadata": {},
   "source": [
    "\n",
    "# EJERCICIO 2\n",
    "\n",
    "\"\"\"\n",
    "    Dada la siguiente lista:\n",
    "    L = [10, None, 8, 5, None, 20]\n",
    "\"\"\"\n",
    "    # 1) Susitituir por -1 el valor None usando bucles y listas\n",
    "    # 2) Creamos un dataframe con los valores de la lista y\n",
    "    #     modificamos los \"NaN\" por un valor de -1 (Valores nulos, suma, etc..)\n",
    "    # 3) Vuelve a escribir el listado con falta de valores (inicial),\n",
    "    #     y sustituye por la media.\n",
    "    # 4) Apendiza la columna con estos valores\n",
    "    #     listado2 = [10, 20, 50, 30, 20, 0]\n",
    "    # 5) Elimina la columna L"
   ]
  },
  {
   "cell_type": "code",
   "execution_count": null,
   "id": "4f865f9d",
   "metadata": {},
   "outputs": [],
   "source": [
    "L = [10, None, 8, 5, None, 20]\n",
    "L"
   ]
  },
  {
   "cell_type": "code",
   "execution_count": 25,
   "id": "b0fd01c5",
   "metadata": {},
   "outputs": [
    {
     "data": {
      "text/plain": [
       "[10, -1, 8, 5, -1, 20]"
      ]
     },
     "execution_count": 25,
     "metadata": {},
     "output_type": "execute_result"
    }
   ],
   "source": [
    "def sustituir(L):\n",
    "    for i in range(0, len(L)):\n",
    "        if L[i] == None:\n",
    "            L[i] = -1\n",
    "    return L        \n",
    "sustituir(L)           "
   ]
  },
  {
   "cell_type": "code",
   "execution_count": 26,
   "id": "53cb9ca0",
   "metadata": {},
   "outputs": [
    {
     "data": {
      "text/plain": [
       "[10, None, 8, 5, None, 20]"
      ]
     },
     "execution_count": 26,
     "metadata": {},
     "output_type": "execute_result"
    }
   ],
   "source": [
    "L = [10, None, 8, 5, None, 20]\n",
    "L"
   ]
  },
  {
   "cell_type": "code",
   "execution_count": 27,
   "id": "9d8e0cab",
   "metadata": {},
   "outputs": [
    {
     "data": {
      "text/html": [
       "<div>\n",
       "<style scoped>\n",
       "    .dataframe tbody tr th:only-of-type {\n",
       "        vertical-align: middle;\n",
       "    }\n",
       "\n",
       "    .dataframe tbody tr th {\n",
       "        vertical-align: top;\n",
       "    }\n",
       "\n",
       "    .dataframe thead th {\n",
       "        text-align: right;\n",
       "    }\n",
       "</style>\n",
       "<table border=\"1\" class=\"dataframe\">\n",
       "  <thead>\n",
       "    <tr style=\"text-align: right;\">\n",
       "      <th></th>\n",
       "      <th>Listado</th>\n",
       "    </tr>\n",
       "  </thead>\n",
       "  <tbody>\n",
       "    <tr>\n",
       "      <th>0</th>\n",
       "      <td>10.0</td>\n",
       "    </tr>\n",
       "    <tr>\n",
       "      <th>1</th>\n",
       "      <td>NaN</td>\n",
       "    </tr>\n",
       "    <tr>\n",
       "      <th>2</th>\n",
       "      <td>8.0</td>\n",
       "    </tr>\n",
       "    <tr>\n",
       "      <th>3</th>\n",
       "      <td>5.0</td>\n",
       "    </tr>\n",
       "    <tr>\n",
       "      <th>4</th>\n",
       "      <td>NaN</td>\n",
       "    </tr>\n",
       "    <tr>\n",
       "      <th>5</th>\n",
       "      <td>20.0</td>\n",
       "    </tr>\n",
       "  </tbody>\n",
       "</table>\n",
       "</div>"
      ],
      "text/plain": [
       "   Listado\n",
       "0     10.0\n",
       "1      NaN\n",
       "2      8.0\n",
       "3      5.0\n",
       "4      NaN\n",
       "5     20.0"
      ]
     },
     "execution_count": 27,
     "metadata": {},
     "output_type": "execute_result"
    }
   ],
   "source": [
    "import pandas as pd\n",
    "df = pd.DataFrame(L, columns = [\"Listado\"])\n",
    "df"
   ]
  },
  {
   "cell_type": "code",
   "execution_count": 28,
   "id": "7bda1d7f",
   "metadata": {},
   "outputs": [
    {
     "data": {
      "text/html": [
       "<div>\n",
       "<style scoped>\n",
       "    .dataframe tbody tr th:only-of-type {\n",
       "        vertical-align: middle;\n",
       "    }\n",
       "\n",
       "    .dataframe tbody tr th {\n",
       "        vertical-align: top;\n",
       "    }\n",
       "\n",
       "    .dataframe thead th {\n",
       "        text-align: right;\n",
       "    }\n",
       "</style>\n",
       "<table border=\"1\" class=\"dataframe\">\n",
       "  <thead>\n",
       "    <tr style=\"text-align: right;\">\n",
       "      <th></th>\n",
       "      <th>Listado</th>\n",
       "    </tr>\n",
       "  </thead>\n",
       "  <tbody>\n",
       "    <tr>\n",
       "      <th>0</th>\n",
       "      <td>False</td>\n",
       "    </tr>\n",
       "    <tr>\n",
       "      <th>1</th>\n",
       "      <td>True</td>\n",
       "    </tr>\n",
       "    <tr>\n",
       "      <th>2</th>\n",
       "      <td>False</td>\n",
       "    </tr>\n",
       "    <tr>\n",
       "      <th>3</th>\n",
       "      <td>False</td>\n",
       "    </tr>\n",
       "    <tr>\n",
       "      <th>4</th>\n",
       "      <td>True</td>\n",
       "    </tr>\n",
       "    <tr>\n",
       "      <th>5</th>\n",
       "      <td>False</td>\n",
       "    </tr>\n",
       "  </tbody>\n",
       "</table>\n",
       "</div>"
      ],
      "text/plain": [
       "   Listado\n",
       "0    False\n",
       "1     True\n",
       "2    False\n",
       "3    False\n",
       "4     True\n",
       "5    False"
      ]
     },
     "execution_count": 28,
     "metadata": {},
     "output_type": "execute_result"
    }
   ],
   "source": [
    "df.isnull()\n"
   ]
  },
  {
   "cell_type": "code",
   "execution_count": 29,
   "id": "76bae128",
   "metadata": {},
   "outputs": [
    {
     "data": {
      "text/plain": [
       "Listado    2\n",
       "dtype: int64"
      ]
     },
     "execution_count": 29,
     "metadata": {},
     "output_type": "execute_result"
    }
   ],
   "source": [
    "df.isnull().sum()"
   ]
  },
  {
   "cell_type": "code",
   "execution_count": 30,
   "id": "c4d5a0d7",
   "metadata": {},
   "outputs": [
    {
     "data": {
      "text/html": [
       "<div>\n",
       "<style scoped>\n",
       "    .dataframe tbody tr th:only-of-type {\n",
       "        vertical-align: middle;\n",
       "    }\n",
       "\n",
       "    .dataframe tbody tr th {\n",
       "        vertical-align: top;\n",
       "    }\n",
       "\n",
       "    .dataframe thead th {\n",
       "        text-align: right;\n",
       "    }\n",
       "</style>\n",
       "<table border=\"1\" class=\"dataframe\">\n",
       "  <thead>\n",
       "    <tr style=\"text-align: right;\">\n",
       "      <th></th>\n",
       "      <th>Listado</th>\n",
       "    </tr>\n",
       "  </thead>\n",
       "  <tbody>\n",
       "    <tr>\n",
       "      <th>0</th>\n",
       "      <td>10.0</td>\n",
       "    </tr>\n",
       "    <tr>\n",
       "      <th>1</th>\n",
       "      <td>-1.0</td>\n",
       "    </tr>\n",
       "    <tr>\n",
       "      <th>2</th>\n",
       "      <td>8.0</td>\n",
       "    </tr>\n",
       "    <tr>\n",
       "      <th>3</th>\n",
       "      <td>5.0</td>\n",
       "    </tr>\n",
       "    <tr>\n",
       "      <th>4</th>\n",
       "      <td>-1.0</td>\n",
       "    </tr>\n",
       "    <tr>\n",
       "      <th>5</th>\n",
       "      <td>20.0</td>\n",
       "    </tr>\n",
       "  </tbody>\n",
       "</table>\n",
       "</div>"
      ],
      "text/plain": [
       "   Listado\n",
       "0     10.0\n",
       "1     -1.0\n",
       "2      8.0\n",
       "3      5.0\n",
       "4     -1.0\n",
       "5     20.0"
      ]
     },
     "execution_count": 30,
     "metadata": {},
     "output_type": "execute_result"
    }
   ],
   "source": [
    "df.Listado= df.Listado.fillna(-1)\n",
    "df"
   ]
  },
  {
   "cell_type": "code",
   "execution_count": 31,
   "id": "12b0e8b3",
   "metadata": {},
   "outputs": [
    {
     "data": {
      "text/plain": [
       "[10, None, 8, 5, None, 20]"
      ]
     },
     "execution_count": 31,
     "metadata": {},
     "output_type": "execute_result"
    }
   ],
   "source": [
    "L = [10, None, 8, 5, None, 20]\n",
    "L"
   ]
  },
  {
   "cell_type": "code",
   "execution_count": 32,
   "id": "008c4d27",
   "metadata": {},
   "outputs": [
    {
     "data": {
      "text/html": [
       "<div>\n",
       "<style scoped>\n",
       "    .dataframe tbody tr th:only-of-type {\n",
       "        vertical-align: middle;\n",
       "    }\n",
       "\n",
       "    .dataframe tbody tr th {\n",
       "        vertical-align: top;\n",
       "    }\n",
       "\n",
       "    .dataframe thead th {\n",
       "        text-align: right;\n",
       "    }\n",
       "</style>\n",
       "<table border=\"1\" class=\"dataframe\">\n",
       "  <thead>\n",
       "    <tr style=\"text-align: right;\">\n",
       "      <th></th>\n",
       "      <th>Listado</th>\n",
       "    </tr>\n",
       "  </thead>\n",
       "  <tbody>\n",
       "    <tr>\n",
       "      <th>0</th>\n",
       "      <td>10.0</td>\n",
       "    </tr>\n",
       "    <tr>\n",
       "      <th>1</th>\n",
       "      <td>-1.0</td>\n",
       "    </tr>\n",
       "    <tr>\n",
       "      <th>2</th>\n",
       "      <td>8.0</td>\n",
       "    </tr>\n",
       "    <tr>\n",
       "      <th>3</th>\n",
       "      <td>5.0</td>\n",
       "    </tr>\n",
       "    <tr>\n",
       "      <th>4</th>\n",
       "      <td>-1.0</td>\n",
       "    </tr>\n",
       "    <tr>\n",
       "      <th>5</th>\n",
       "      <td>20.0</td>\n",
       "    </tr>\n",
       "  </tbody>\n",
       "</table>\n",
       "</div>"
      ],
      "text/plain": [
       "   Listado\n",
       "0     10.0\n",
       "1     -1.0\n",
       "2      8.0\n",
       "3      5.0\n",
       "4     -1.0\n",
       "5     20.0"
      ]
     },
     "execution_count": 32,
     "metadata": {},
     "output_type": "execute_result"
    }
   ],
   "source": [
    "\n",
    "df.Listado = df.Listado.fillna(df.Listado.mean())\n",
    "df"
   ]
  },
  {
   "cell_type": "markdown",
   "id": "0abd8fe3",
   "metadata": {},
   "source": [
    "\n",
    "\n",
    "# EJERCICIO 3\n",
    "\n",
    "\"\"\"\n",
    "    Crear un listado con los siguientes numeros:\n",
    "        10, 20, 30, 40 (nombra la lista con nombre: \"listado\")\n",
    "\"\"\"\n",
    "    # 1) Crea el listado e imprimelo:\n",
    "    # 2) Apendiza el valor 50 ( si es posible)\n",
    "    # 3) Modifica (si es posible) el valor 10 por 100"
   ]
  },
  {
   "cell_type": "code",
   "execution_count": 33,
   "id": "ad76facc",
   "metadata": {},
   "outputs": [
    {
     "data": {
      "text/plain": [
       "[10, 20, 30, 40]"
      ]
     },
     "execution_count": 33,
     "metadata": {},
     "output_type": "execute_result"
    }
   ],
   "source": [
    "listado = [10, 20, 30, 40]\n",
    "listado"
   ]
  },
  {
   "cell_type": "code",
   "execution_count": 34,
   "id": "40dadc39",
   "metadata": {},
   "outputs": [
    {
     "data": {
      "text/plain": [
       "[10, 20, 30, 40, 50]"
      ]
     },
     "execution_count": 34,
     "metadata": {},
     "output_type": "execute_result"
    }
   ],
   "source": [
    "listado.append(50)\n",
    "listado"
   ]
  },
  {
   "cell_type": "code",
   "execution_count": 35,
   "id": "3bfdeffb",
   "metadata": {},
   "outputs": [
    {
     "data": {
      "text/plain": [
       "[100, 20, 30, 40, 50]"
      ]
     },
     "execution_count": 35,
     "metadata": {},
     "output_type": "execute_result"
    }
   ],
   "source": [
    "listado[0] = 100\n",
    "listado"
   ]
  },
  {
   "cell_type": "code",
   "execution_count": 36,
   "id": "e6d12f41",
   "metadata": {},
   "outputs": [
    {
     "name": "stdout",
     "output_type": "stream",
     "text": [
      "[100, 20, 30, 40, 50, 60]\n"
     ]
    }
   ],
   "source": [
    "def añadir(listado, num):\n",
    "    listado.append(num)\n",
    "    return listado\n",
    "print(añadir(listado, 60))    "
   ]
  },
  {
   "cell_type": "markdown",
   "id": "dc18730c",
   "metadata": {},
   "source": [
    "# EJERCICIO 4\n",
    "\n",
    "\"\"\"\n",
    "    Da una lista de nombre \"Temperatura\" con valores: 10, 20, 30, 40, 50\n",
    "\"\"\"\n",
    "    # 1) Crea el listado e imprimelo:\n",
    "    # 2) En este \"Temperatura\". ¿Cuál es el elemento en la posición (index) 1?\n",
    "    # 3) ¿Y en la posición (index) 0?\n",
    "    # 4) ¿Y en la posición (index) -1?"
   ]
  },
  {
   "cell_type": "code",
   "execution_count": 38,
   "id": "c5cafe4d",
   "metadata": {},
   "outputs": [
    {
     "data": {
      "text/plain": [
       "[10, 20, 30, 40, 50]"
      ]
     },
     "execution_count": 38,
     "metadata": {},
     "output_type": "execute_result"
    }
   ],
   "source": [
    "Temperatura = [10, 20, 30, 40, 50]\n",
    "Temperatura"
   ]
  },
  {
   "cell_type": "code",
   "execution_count": 39,
   "id": "ef74cddd",
   "metadata": {},
   "outputs": [
    {
     "data": {
      "text/plain": [
       "20"
      ]
     },
     "execution_count": 39,
     "metadata": {},
     "output_type": "execute_result"
    }
   ],
   "source": [
    "Temperatura[1]"
   ]
  },
  {
   "cell_type": "code",
   "execution_count": 40,
   "id": "68b62131",
   "metadata": {},
   "outputs": [
    {
     "data": {
      "text/plain": [
       "10"
      ]
     },
     "execution_count": 40,
     "metadata": {},
     "output_type": "execute_result"
    }
   ],
   "source": [
    "Temperatura[0]"
   ]
  },
  {
   "cell_type": "code",
   "execution_count": 41,
   "id": "acc7479a",
   "metadata": {},
   "outputs": [
    {
     "data": {
      "text/plain": [
       "50"
      ]
     },
     "execution_count": 41,
     "metadata": {},
     "output_type": "execute_result"
    }
   ],
   "source": [
    "Temperatura[-1]"
   ]
  },
  {
   "cell_type": "code",
   "execution_count": 57,
   "id": "7a7b23ee",
   "metadata": {},
   "outputs": [
    {
     "data": {
      "text/html": [
       "<div>\n",
       "<style scoped>\n",
       "    .dataframe tbody tr th:only-of-type {\n",
       "        vertical-align: middle;\n",
       "    }\n",
       "\n",
       "    .dataframe tbody tr th {\n",
       "        vertical-align: top;\n",
       "    }\n",
       "\n",
       "    .dataframe thead th {\n",
       "        text-align: right;\n",
       "    }\n",
       "</style>\n",
       "<table border=\"1\" class=\"dataframe\">\n",
       "  <thead>\n",
       "    <tr style=\"text-align: right;\">\n",
       "      <th></th>\n",
       "      <th>Listado</th>\n",
       "      <th>4</th>\n",
       "      <th>5</th>\n",
       "      <th>6</th>\n",
       "      <th>8</th>\n",
       "      <th>listado2</th>\n",
       "    </tr>\n",
       "  </thead>\n",
       "  <tbody>\n",
       "    <tr>\n",
       "      <th>0</th>\n",
       "      <td>10.0</td>\n",
       "      <td>4</td>\n",
       "      <td>5</td>\n",
       "      <td>6</td>\n",
       "      <td>8</td>\n",
       "      <td>4</td>\n",
       "    </tr>\n",
       "    <tr>\n",
       "      <th>1</th>\n",
       "      <td>-1.0</td>\n",
       "      <td>4</td>\n",
       "      <td>5</td>\n",
       "      <td>6</td>\n",
       "      <td>8</td>\n",
       "      <td>5</td>\n",
       "    </tr>\n",
       "    <tr>\n",
       "      <th>2</th>\n",
       "      <td>8.0</td>\n",
       "      <td>4</td>\n",
       "      <td>5</td>\n",
       "      <td>6</td>\n",
       "      <td>8</td>\n",
       "      <td>6</td>\n",
       "    </tr>\n",
       "    <tr>\n",
       "      <th>3</th>\n",
       "      <td>5.0</td>\n",
       "      <td>4</td>\n",
       "      <td>5</td>\n",
       "      <td>6</td>\n",
       "      <td>8</td>\n",
       "      <td>8</td>\n",
       "    </tr>\n",
       "    <tr>\n",
       "      <th>4</th>\n",
       "      <td>-1.0</td>\n",
       "      <td>4</td>\n",
       "      <td>5</td>\n",
       "      <td>6</td>\n",
       "      <td>8</td>\n",
       "      <td>4</td>\n",
       "    </tr>\n",
       "    <tr>\n",
       "      <th>5</th>\n",
       "      <td>20.0</td>\n",
       "      <td>4</td>\n",
       "      <td>5</td>\n",
       "      <td>6</td>\n",
       "      <td>8</td>\n",
       "      <td>8</td>\n",
       "    </tr>\n",
       "  </tbody>\n",
       "</table>\n",
       "</div>"
      ],
      "text/plain": [
       "   Listado  4  5  6  8  listado2\n",
       "0     10.0  4  5  6  8         4\n",
       "1     -1.0  4  5  6  8         5\n",
       "2      8.0  4  5  6  8         6\n",
       "3      5.0  4  5  6  8         8\n",
       "4     -1.0  4  5  6  8         4\n",
       "5     20.0  4  5  6  8         8"
      ]
     },
     "execution_count": 57,
     "metadata": {},
     "output_type": "execute_result"
    }
   ],
   "source": [
    "listado2 = [4, 5, 6, 8, 4, 8]\n",
    "def indicex(df, listado2):\n",
    "    df[\"listado2\"] = listado2\n",
    "    return df\n",
    "indicex(df,listado2)    "
   ]
  },
  {
   "cell_type": "code",
   "execution_count": null,
   "id": "5c03e79c",
   "metadata": {},
   "outputs": [],
   "source": [
    "def modic"
   ]
  }
 ],
 "metadata": {
  "kernelspec": {
   "display_name": "Python 3 (ipykernel)",
   "language": "python",
   "name": "python3"
  },
  "language_info": {
   "codemirror_mode": {
    "name": "ipython",
    "version": 3
   },
   "file_extension": ".py",
   "mimetype": "text/x-python",
   "name": "python",
   "nbconvert_exporter": "python",
   "pygments_lexer": "ipython3",
   "version": "3.8.10"
  }
 },
 "nbformat": 4,
 "nbformat_minor": 5
}
