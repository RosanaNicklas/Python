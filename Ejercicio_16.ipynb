{
 "cells": [
  {
   "cell_type": "code",
   "execution_count": 4,
   "id": "5a257afc",
   "metadata": {},
   "outputs": [
    {
     "ename": "SyntaxError",
     "evalue": "EOF while scanning triple-quoted string literal (1721289666.py, line 33)",
     "output_type": "error",
     "traceback": [
      "\u001b[0;36m  Input \u001b[0;32mIn [4]\u001b[0;36m\u001b[0m\n\u001b[0;31m    Si coinciden sólo las dos últimas tiene que decir que riman un poco y si no, que no riman.\u001b[0m\n\u001b[0m                                                                                              \n^\u001b[0m\n\u001b[0;31mSyntaxError\u001b[0m\u001b[0;31m:\u001b[0m EOF while scanning triple-quoted string literal\n"
     ]
    }
   ],
   "source": [
    "import pandas as pd\n",
    "\n",
    "# EJERCICIO 1\n",
    "\n",
    "\n",
    "# 1) Crea una lista de nombre \"Concursante\" que contenga los siguientes valores:\n",
    "    # \"Juan\", \"Pedro\", \"Andrea\", \"Luis\", \"Ana\", \"Lara\", \"Jose\", \"Estefania\"\n",
    "\n",
    "# 2) Crea una lista de nombre \"Resultados\" que contenga los siguientes valores:\n",
    "    # 20, 30, 50, 20, 10, 5, 60, 40\n",
    "\n",
    "# 3) Crea un diccionario con los concursantes y los resultados.\n",
    "\n",
    "# 4) Crea un dataframe vacio y apendiza los concursantes y los resultados mediante el empleo de un bucle for\n",
    "\n",
    "# 5) Con ayuda de loc filtra los resultados obtenidos desde Pedro hasta Lara.\n",
    "\n",
    "# 6) Con ayuda de loc filtra los resultados obtenidos mayores o iguales a 40\n",
    "\n",
    "# 7) Muestra el concursante con la mayor puntuación\n",
    "\n",
    "# 8) Muestra el concursante con la menor puntuación\n",
    "\n",
    "# 9) Modifica con la ayuda de loc los valores 20 por 0\n",
    "\n",
    "# 10) Modifica Concursante \"Juan\" su puntuación por \"None\" con ayuda de .loc\n",
    "\n",
    "# EJERCICIO 2 (3)\n",
    "\n",
    "\"\"\"\n",
    "    Escribe un programa que pida dos palabras y diga si riman o no.\n",
    "    Si coinciden las tres últimas letras tiene que decir que riman.\n",
    "    Si coinciden sólo las dos últimas tiene que decir que riman un poco y si no, que no riman."
   ]
  },
  {
   "cell_type": "code",
   "execution_count": 5,
   "id": "d31a46ed",
   "metadata": {},
   "outputs": [
    {
     "data": {
      "text/plain": [
       "['Juan', 'Pedro', 'Andrea', 'Luis', 'Ana', 'Lara', 'Jose', 'Estefania']"
      ]
     },
     "execution_count": 5,
     "metadata": {},
     "output_type": "execute_result"
    }
   ],
   "source": [
    "import pandas as pd\n",
    "Concursante = [\"Juan\", \"Pedro\", \"Andrea\", \"Luis\", \"Ana\", \"Lara\", \"Jose\", \"Estefania\"]\n",
    "Concursante"
   ]
  },
  {
   "cell_type": "code",
   "execution_count": 6,
   "id": "d0cbd57a",
   "metadata": {},
   "outputs": [
    {
     "data": {
      "text/plain": [
       "[20, 30, 50, 20, 10, 5, 60, 40]"
      ]
     },
     "execution_count": 6,
     "metadata": {},
     "output_type": "execute_result"
    }
   ],
   "source": [
    "Resultados = [20, 30, 50, 20, 10, 5, 60, 40]\n",
    "Resultados"
   ]
  },
  {
   "cell_type": "code",
   "execution_count": 8,
   "id": "64108034",
   "metadata": {},
   "outputs": [
    {
     "data": {
      "text/plain": [
       "{'Concursantes': ['Juan',\n",
       "  'Pedro',\n",
       "  'Andrea',\n",
       "  'Luis',\n",
       "  'Ana',\n",
       "  'Lara',\n",
       "  'Jose',\n",
       "  'Estefania'],\n",
       " 'Resultados': [20, 30, 50, 20, 10, 5, 60, 40]}"
      ]
     },
     "execution_count": 8,
     "metadata": {},
     "output_type": "execute_result"
    }
   ],
   "source": [
    "diccionario = ({\"Concursantes\": Concursante, \"Resultados\": Resultados})\n",
    "diccionario"
   ]
  },
  {
   "cell_type": "code",
   "execution_count": 9,
   "id": "a1479d42",
   "metadata": {},
   "outputs": [
    {
     "data": {
      "text/html": [
       "<div>\n",
       "<style scoped>\n",
       "    .dataframe tbody tr th:only-of-type {\n",
       "        vertical-align: middle;\n",
       "    }\n",
       "\n",
       "    .dataframe tbody tr th {\n",
       "        vertical-align: top;\n",
       "    }\n",
       "\n",
       "    .dataframe thead th {\n",
       "        text-align: right;\n",
       "    }\n",
       "</style>\n",
       "<table border=\"1\" class=\"dataframe\">\n",
       "  <thead>\n",
       "    <tr style=\"text-align: right;\">\n",
       "      <th></th>\n",
       "    </tr>\n",
       "  </thead>\n",
       "  <tbody>\n",
       "  </tbody>\n",
       "</table>\n",
       "</div>"
      ],
      "text/plain": [
       "Empty DataFrame\n",
       "Columns: []\n",
       "Index: []"
      ]
     },
     "execution_count": 9,
     "metadata": {},
     "output_type": "execute_result"
    }
   ],
   "source": [
    "df = pd.DataFrame()\n",
    "df"
   ]
  },
  {
   "cell_type": "code",
   "execution_count": 10,
   "id": "447db2b4",
   "metadata": {},
   "outputs": [
    {
     "data": {
      "text/html": [
       "<div>\n",
       "<style scoped>\n",
       "    .dataframe tbody tr th:only-of-type {\n",
       "        vertical-align: middle;\n",
       "    }\n",
       "\n",
       "    .dataframe tbody tr th {\n",
       "        vertical-align: top;\n",
       "    }\n",
       "\n",
       "    .dataframe thead th {\n",
       "        text-align: right;\n",
       "    }\n",
       "</style>\n",
       "<table border=\"1\" class=\"dataframe\">\n",
       "  <thead>\n",
       "    <tr style=\"text-align: right;\">\n",
       "      <th></th>\n",
       "      <th>Concursantes</th>\n",
       "      <th>Resultados</th>\n",
       "    </tr>\n",
       "  </thead>\n",
       "  <tbody>\n",
       "    <tr>\n",
       "      <th>0</th>\n",
       "      <td>Juan</td>\n",
       "      <td>20</td>\n",
       "    </tr>\n",
       "    <tr>\n",
       "      <th>1</th>\n",
       "      <td>Pedro</td>\n",
       "      <td>30</td>\n",
       "    </tr>\n",
       "    <tr>\n",
       "      <th>2</th>\n",
       "      <td>Andrea</td>\n",
       "      <td>50</td>\n",
       "    </tr>\n",
       "    <tr>\n",
       "      <th>3</th>\n",
       "      <td>Luis</td>\n",
       "      <td>20</td>\n",
       "    </tr>\n",
       "    <tr>\n",
       "      <th>4</th>\n",
       "      <td>Ana</td>\n",
       "      <td>10</td>\n",
       "    </tr>\n",
       "    <tr>\n",
       "      <th>5</th>\n",
       "      <td>Lara</td>\n",
       "      <td>5</td>\n",
       "    </tr>\n",
       "    <tr>\n",
       "      <th>6</th>\n",
       "      <td>Jose</td>\n",
       "      <td>60</td>\n",
       "    </tr>\n",
       "    <tr>\n",
       "      <th>7</th>\n",
       "      <td>Estefania</td>\n",
       "      <td>40</td>\n",
       "    </tr>\n",
       "  </tbody>\n",
       "</table>\n",
       "</div>"
      ],
      "text/plain": [
       "  Concursantes  Resultados\n",
       "0         Juan          20\n",
       "1        Pedro          30\n",
       "2       Andrea          50\n",
       "3         Luis          20\n",
       "4          Ana          10\n",
       "5         Lara           5\n",
       "6         Jose          60\n",
       "7    Estefania          40"
      ]
     },
     "execution_count": 10,
     "metadata": {},
     "output_type": "execute_result"
    }
   ],
   "source": [
    "for key, value in diccionario.items():\n",
    "    df[key] = value\n",
    "df  "
   ]
  },
  {
   "cell_type": "code",
   "execution_count": 11,
   "id": "ed3a0a06",
   "metadata": {},
   "outputs": [
    {
     "data": {
      "text/html": [
       "<div>\n",
       "<style scoped>\n",
       "    .dataframe tbody tr th:only-of-type {\n",
       "        vertical-align: middle;\n",
       "    }\n",
       "\n",
       "    .dataframe tbody tr th {\n",
       "        vertical-align: top;\n",
       "    }\n",
       "\n",
       "    .dataframe thead th {\n",
       "        text-align: right;\n",
       "    }\n",
       "</style>\n",
       "<table border=\"1\" class=\"dataframe\">\n",
       "  <thead>\n",
       "    <tr style=\"text-align: right;\">\n",
       "      <th></th>\n",
       "      <th>Concursantes</th>\n",
       "      <th>Resultados</th>\n",
       "    </tr>\n",
       "  </thead>\n",
       "  <tbody>\n",
       "    <tr>\n",
       "      <th>1</th>\n",
       "      <td>Pedro</td>\n",
       "      <td>30</td>\n",
       "    </tr>\n",
       "    <tr>\n",
       "      <th>2</th>\n",
       "      <td>Andrea</td>\n",
       "      <td>50</td>\n",
       "    </tr>\n",
       "    <tr>\n",
       "      <th>3</th>\n",
       "      <td>Luis</td>\n",
       "      <td>20</td>\n",
       "    </tr>\n",
       "    <tr>\n",
       "      <th>4</th>\n",
       "      <td>Ana</td>\n",
       "      <td>10</td>\n",
       "    </tr>\n",
       "    <tr>\n",
       "      <th>5</th>\n",
       "      <td>Lara</td>\n",
       "      <td>5</td>\n",
       "    </tr>\n",
       "  </tbody>\n",
       "</table>\n",
       "</div>"
      ],
      "text/plain": [
       "  Concursantes  Resultados\n",
       "1        Pedro          30\n",
       "2       Andrea          50\n",
       "3         Luis          20\n",
       "4          Ana          10\n",
       "5         Lara           5"
      ]
     },
     "execution_count": 11,
     "metadata": {},
     "output_type": "execute_result"
    }
   ],
   "source": [
    "df.loc[1:5, :]"
   ]
  },
  {
   "cell_type": "code",
   "execution_count": 13,
   "id": "9ac9b750",
   "metadata": {},
   "outputs": [
    {
     "data": {
      "text/html": [
       "<div>\n",
       "<style scoped>\n",
       "    .dataframe tbody tr th:only-of-type {\n",
       "        vertical-align: middle;\n",
       "    }\n",
       "\n",
       "    .dataframe tbody tr th {\n",
       "        vertical-align: top;\n",
       "    }\n",
       "\n",
       "    .dataframe thead th {\n",
       "        text-align: right;\n",
       "    }\n",
       "</style>\n",
       "<table border=\"1\" class=\"dataframe\">\n",
       "  <thead>\n",
       "    <tr style=\"text-align: right;\">\n",
       "      <th></th>\n",
       "      <th>Concursantes</th>\n",
       "      <th>Resultados</th>\n",
       "    </tr>\n",
       "  </thead>\n",
       "  <tbody>\n",
       "    <tr>\n",
       "      <th>2</th>\n",
       "      <td>Andrea</td>\n",
       "      <td>50</td>\n",
       "    </tr>\n",
       "    <tr>\n",
       "      <th>6</th>\n",
       "      <td>Jose</td>\n",
       "      <td>60</td>\n",
       "    </tr>\n",
       "    <tr>\n",
       "      <th>7</th>\n",
       "      <td>Estefania</td>\n",
       "      <td>40</td>\n",
       "    </tr>\n",
       "  </tbody>\n",
       "</table>\n",
       "</div>"
      ],
      "text/plain": [
       "  Concursantes  Resultados\n",
       "2       Andrea          50\n",
       "6         Jose          60\n",
       "7    Estefania          40"
      ]
     },
     "execution_count": 13,
     "metadata": {},
     "output_type": "execute_result"
    }
   ],
   "source": [
    "df.loc[df.Resultados >= 40]"
   ]
  },
  {
   "cell_type": "code",
   "execution_count": 18,
   "id": "85088507",
   "metadata": {},
   "outputs": [
    {
     "data": {
      "text/plain": [
       "5"
      ]
     },
     "execution_count": 18,
     "metadata": {},
     "output_type": "execute_result"
    }
   ],
   "source": [
    "df[\"Resultados\"].min()"
   ]
  },
  {
   "cell_type": "code",
   "execution_count": 19,
   "id": "374cba26",
   "metadata": {},
   "outputs": [
    {
     "data": {
      "text/plain": [
       "60"
      ]
     },
     "execution_count": 19,
     "metadata": {},
     "output_type": "execute_result"
    }
   ],
   "source": [
    "df.Resultados.max()"
   ]
  },
  {
   "cell_type": "code",
   "execution_count": 24,
   "id": "f422caa9",
   "metadata": {},
   "outputs": [
    {
     "data": {
      "text/html": [
       "<div>\n",
       "<style scoped>\n",
       "    .dataframe tbody tr th:only-of-type {\n",
       "        vertical-align: middle;\n",
       "    }\n",
       "\n",
       "    .dataframe tbody tr th {\n",
       "        vertical-align: top;\n",
       "    }\n",
       "\n",
       "    .dataframe thead th {\n",
       "        text-align: right;\n",
       "    }\n",
       "</style>\n",
       "<table border=\"1\" class=\"dataframe\">\n",
       "  <thead>\n",
       "    <tr style=\"text-align: right;\">\n",
       "      <th></th>\n",
       "      <th>Concursantes</th>\n",
       "      <th>Resultados</th>\n",
       "    </tr>\n",
       "  </thead>\n",
       "  <tbody>\n",
       "    <tr>\n",
       "      <th>0</th>\n",
       "      <td>Juan</td>\n",
       "      <td>0</td>\n",
       "    </tr>\n",
       "    <tr>\n",
       "      <th>1</th>\n",
       "      <td>Pedro</td>\n",
       "      <td>30</td>\n",
       "    </tr>\n",
       "    <tr>\n",
       "      <th>2</th>\n",
       "      <td>Andrea</td>\n",
       "      <td>50</td>\n",
       "    </tr>\n",
       "    <tr>\n",
       "      <th>3</th>\n",
       "      <td>Luis</td>\n",
       "      <td>0</td>\n",
       "    </tr>\n",
       "    <tr>\n",
       "      <th>4</th>\n",
       "      <td>Ana</td>\n",
       "      <td>10</td>\n",
       "    </tr>\n",
       "    <tr>\n",
       "      <th>5</th>\n",
       "      <td>Lara</td>\n",
       "      <td>5</td>\n",
       "    </tr>\n",
       "    <tr>\n",
       "      <th>6</th>\n",
       "      <td>Jose</td>\n",
       "      <td>60</td>\n",
       "    </tr>\n",
       "    <tr>\n",
       "      <th>7</th>\n",
       "      <td>Estefania</td>\n",
       "      <td>40</td>\n",
       "    </tr>\n",
       "  </tbody>\n",
       "</table>\n",
       "</div>"
      ],
      "text/plain": [
       "  Concursantes  Resultados\n",
       "0         Juan           0\n",
       "1        Pedro          30\n",
       "2       Andrea          50\n",
       "3         Luis           0\n",
       "4          Ana          10\n",
       "5         Lara           5\n",
       "6         Jose          60\n",
       "7    Estefania          40"
      ]
     },
     "execution_count": 24,
     "metadata": {},
     "output_type": "execute_result"
    }
   ],
   "source": [
    "df.loc[df[\"Resultados\"] == 20, \"Resultados\"]  = 0\n",
    "df"
   ]
  },
  {
   "cell_type": "code",
   "execution_count": 27,
   "id": "257263fe",
   "metadata": {},
   "outputs": [
    {
     "data": {
      "text/html": [
       "<div>\n",
       "<style scoped>\n",
       "    .dataframe tbody tr th:only-of-type {\n",
       "        vertical-align: middle;\n",
       "    }\n",
       "\n",
       "    .dataframe tbody tr th {\n",
       "        vertical-align: top;\n",
       "    }\n",
       "\n",
       "    .dataframe thead th {\n",
       "        text-align: right;\n",
       "    }\n",
       "</style>\n",
       "<table border=\"1\" class=\"dataframe\">\n",
       "  <thead>\n",
       "    <tr style=\"text-align: right;\">\n",
       "      <th></th>\n",
       "      <th>Concursantes</th>\n",
       "      <th>Resultados</th>\n",
       "    </tr>\n",
       "  </thead>\n",
       "  <tbody>\n",
       "    <tr>\n",
       "      <th>0</th>\n",
       "      <td>Juan</td>\n",
       "      <td>NaN</td>\n",
       "    </tr>\n",
       "    <tr>\n",
       "      <th>1</th>\n",
       "      <td>Pedro</td>\n",
       "      <td>30.0</td>\n",
       "    </tr>\n",
       "    <tr>\n",
       "      <th>2</th>\n",
       "      <td>Andrea</td>\n",
       "      <td>50.0</td>\n",
       "    </tr>\n",
       "    <tr>\n",
       "      <th>3</th>\n",
       "      <td>Luis</td>\n",
       "      <td>0.0</td>\n",
       "    </tr>\n",
       "    <tr>\n",
       "      <th>4</th>\n",
       "      <td>Ana</td>\n",
       "      <td>10.0</td>\n",
       "    </tr>\n",
       "    <tr>\n",
       "      <th>5</th>\n",
       "      <td>Lara</td>\n",
       "      <td>5.0</td>\n",
       "    </tr>\n",
       "    <tr>\n",
       "      <th>6</th>\n",
       "      <td>Jose</td>\n",
       "      <td>60.0</td>\n",
       "    </tr>\n",
       "    <tr>\n",
       "      <th>7</th>\n",
       "      <td>Estefania</td>\n",
       "      <td>40.0</td>\n",
       "    </tr>\n",
       "  </tbody>\n",
       "</table>\n",
       "</div>"
      ],
      "text/plain": [
       "  Concursantes  Resultados\n",
       "0         Juan         NaN\n",
       "1        Pedro        30.0\n",
       "2       Andrea        50.0\n",
       "3         Luis         0.0\n",
       "4          Ana        10.0\n",
       "5         Lara         5.0\n",
       "6         Jose        60.0\n",
       "7    Estefania        40.0"
      ]
     },
     "execution_count": 27,
     "metadata": {},
     "output_type": "execute_result"
    }
   ],
   "source": [
    "df.loc[df[\"Concursantes\"] == \"Juan\", \"Resultados\"] = None\n",
    "df"
   ]
  },
  {
   "cell_type": "code",
   "execution_count": 37,
   "id": "4af8a14a",
   "metadata": {},
   "outputs": [
    {
     "name": "stdout",
     "output_type": "stream",
     "text": [
      "Introduce una palabra: oso \n",
      "Introduce otra palabra: pol\n"
     ]
    },
    {
     "data": {
      "text/plain": [
       "'No riman'"
      ]
     },
     "execution_count": 37,
     "metadata": {},
     "output_type": "execute_result"
    }
   ],
   "source": [
    "palabra1 = input(\"Introduce una palabra: \")\n",
    "palabra2 = input(\"Introduce otra palabra: \")\n",
    "def rima(palabra1, palabra2):\n",
    "    for caracter in palabra1:\n",
    "        for letra in palabra2:\n",
    "            if palabra1[-3:] == palabra2[-3:]:\n",
    "                return \"Riman\"\n",
    "            elif palabra1[-2:] == palabra2[-2:]:\n",
    "                return \"Riman poco\"\n",
    "            else:\n",
    "                return \"No riman\"\n",
    "rima(palabra1, palabra2)        "
   ]
  },
  {
   "cell_type": "code",
   "execution_count": 38,
   "id": "691dc04b",
   "metadata": {},
   "outputs": [
    {
     "name": "stdout",
     "output_type": "stream",
     "text": [
      "Dime la primera palabra: osa\n",
      "Dime la segunda palabra: cosa\n",
      "Riman\n"
     ]
    }
   ],
   "source": [
    "uno = input(\"Dime la primera palabra: \")\n",
    "dos = input(\"Dime la segunda palabra: \")\n",
    "if len(uno) < 3 or len(dos) < 3:\n",
    " print(\"Las palabras tienen menos de 3 letras\")\n",
    "elif uno.endswith(dos[-3:]):\n",
    " print(\"Riman\")\n",
    "elif uno.endswith(dos[-2:]):\n",
    " print(\"Riman un poco\")\n",
    "else:\n",
    " print(\"No riman\")\n"
   ]
  },
  {
   "cell_type": "code",
   "execution_count": null,
   "id": "e60771e7",
   "metadata": {},
   "outputs": [],
   "source": []
  }
 ],
 "metadata": {
  "kernelspec": {
   "display_name": "Python 3 (ipykernel)",
   "language": "python",
   "name": "python3"
  },
  "language_info": {
   "codemirror_mode": {
    "name": "ipython",
    "version": 3
   },
   "file_extension": ".py",
   "mimetype": "text/x-python",
   "name": "python",
   "nbconvert_exporter": "python",
   "pygments_lexer": "ipython3",
   "version": "3.8.10"
  }
 },
 "nbformat": 4,
 "nbformat_minor": 5
}
