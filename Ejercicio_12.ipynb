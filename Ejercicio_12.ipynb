{
 "cells": [
  {
   "cell_type": "code",
   "execution_count": 1,
   "id": "e78e2393",
   "metadata": {},
   "outputs": [
    {
     "data": {
      "text/plain": [
       "'\\n    3) Crea un DataFrame, de nombre df\\n\\n    con esa información en base a la siguiente relación de clientes y tarifas contratadas (€)\\n\\n    clientes: Ana Pérez, Juan García, Andrés Álvarez, Luis Ramos, Pedro Cadenas,\\n            Estefanía Miguélez, Alberto Delgado, Susana Castro, Luis González\\n\\n    tarifas: 40,50,50,35,45,50,60,50,45\\n'"
      ]
     },
     "execution_count": 1,
     "metadata": {},
     "output_type": "execute_result"
    }
   ],
   "source": [
    "\"\"\"\n",
    "    Creado: Isabel Maniega\n",
    "    Fecha: 08/09/2022\n",
    "\"\"\"\n",
    "\n",
    "# Importar las librerías\n",
    "import pandas as pd\n",
    "import matplotlib.pyplot as plt\n",
    "\n",
    "\n",
    "# EJERCICIO 1\n",
    "\n",
    "\"\"\"\n",
    "    Escribe el código necesario en Python para:\n",
    "\n",
    "    almacenar con una lista de nombre \"clientes\" los siguientes nombres:\n",
    "\n",
    "    \"Ana Pérez\", \"Juan García\", \"Andres Álvarez\", \"Luis Ramos\", \"Pedro Cadenas\",\n",
    "    \"Estefanía Miguélez\", \"Alberto Delgado\", \"Susana Castro\", \"Luis González\"\n",
    "\"\"\"\n",
    "\n",
    "# 1) Para ese listado de clientes imprime todos ellos, 1 a 1\n",
    "\n",
    "\"\"\"\n",
    "    2) Dentro de ese grupo de clientes..\n",
    "\n",
    "    se pide buscar..al cliente de nombre: \"Juan García\" si es posible\n",
    "\n",
    "    Si lo encuentra, debería imprimir un mensaje tal que así:\n",
    "\n",
    "    \"el cliente -nombre del cliente- se encuentra en mi Base de Datos de Clientes\"\n",
    "\n",
    "    Si no se le encuentra, debería salir un mensaje tal que así:\n",
    "\n",
    "    \"el cliente -nombre del cliente- NO se encuentra en mi Base de Datos de Clientes\"\n",
    "\n",
    "    Nota: Comprueba en el caso de llevar o no acento\n",
    "\n",
    "    Para:\n",
    "\n",
    "    Juan García\n",
    "\n",
    "    Juan Garcia\n",
    "\n",
    "    Ojo con la tilde..\n",
    "\"\"\"\n",
    "\n",
    "\"\"\"\n",
    "    3) Crea un DataFrame, de nombre df\n",
    "\n",
    "    con esa información en base a la siguiente relación de clientes y tarifas contratadas (€)\n",
    "\n",
    "    clientes: Ana Pérez, Juan García, Andrés Álvarez, Luis Ramos, Pedro Cadenas,\n",
    "            Estefanía Miguélez, Alberto Delgado, Susana Castro, Luis González\n",
    "\n",
    "    tarifas: 40,50,50,35,45,50,60,50,45\n",
    "\"\"\"\n",
    "\n",
    "# 4) Imprime las primeras 5 filas del DataFrame de 2 formas distintas\n",
    "\n",
    "\n",
    "# 5) De ese DataFrame, selecciona solamente la columna \"tarifas\" e imprímela\n",
    "    # (con 1 forma es suficiente, pero si sabes 2 mejor)\n",
    "\n",
    "# 6) Descomenta las siguientes líneas (algunos trucos y cosas útiles).\n",
    "    # Ponlo en formato función!!\n",
    "\n",
    "# df.tarifas.value_counts()\n",
    "\n",
    "# df.tarifas.value_counts().plot(kind=\"bar\")\n",
    "# plt.show()\n",
    "\n",
    "# df.tarifas.plot(kind=\"bar\")\n",
    "# plt.show\n",
    "\n",
    "# print(df)\n",
    "\n",
    "\n",
    "# 7) De ese DataFrame, selecciona solamente aquellos clientes con tarifa superior a 50 euros (50 no incluído)\n",
    "\n",
    "\n",
    "\n"
   ]
  },
  {
   "cell_type": "code",
   "execution_count": 2,
   "id": "7e453a99",
   "metadata": {},
   "outputs": [],
   "source": [
    "import pandas as pd\n",
    "import matplotlib.pyplot as plt"
   ]
  },
  {
   "cell_type": "code",
   "execution_count": 3,
   "id": "8c51e73c",
   "metadata": {},
   "outputs": [
    {
     "data": {
      "text/plain": [
       "['Ana Pérez',\n",
       " 'Juan García',\n",
       " 'Andres Álvarez',\n",
       " 'Luis Ramos',\n",
       " 'Pedro Cadenas',\n",
       " 'Estefanía Miguélez',\n",
       " 'Alberto Delgado',\n",
       " 'Susana Castro',\n",
       " 'Luis González']"
      ]
     },
     "execution_count": 3,
     "metadata": {},
     "output_type": "execute_result"
    }
   ],
   "source": [
    "clientes = [\"Ana Pérez\", \"Juan García\", \"Andres Álvarez\", \"Luis Ramos\", \"Pedro Cadenas\",\n",
    "\"Estefanía Miguélez\", \"Alberto Delgado\", \"Susana Castro\", \"Luis González\"]\n",
    "clientes"
   ]
  },
  {
   "cell_type": "code",
   "execution_count": 4,
   "id": "a37efee2",
   "metadata": {},
   "outputs": [
    {
     "name": "stdout",
     "output_type": "stream",
     "text": [
      "Ana Pérez\n",
      "Juan García\n",
      "Andres Álvarez\n",
      "Luis Ramos\n",
      "Pedro Cadenas\n",
      "Estefanía Miguélez\n",
      "Alberto Delgado\n",
      "Susana Castro\n",
      "Luis González\n"
     ]
    }
   ],
   "source": [
    "for cliente in clientes:\n",
    "    print(cliente)"
   ]
  },
  {
   "cell_type": "code",
   "execution_count": 13,
   "id": "db03a89e",
   "metadata": {},
   "outputs": [
    {
     "name": "stdout",
     "output_type": "stream",
     "text": [
      "Introduzca el nombre del cliente : Ana Pérez\n"
     ]
    },
    {
     "data": {
      "text/plain": [
       "'El cliente Ana Pérez se encuentra en mi base de datos de Clientes'"
      ]
     },
     "execution_count": 13,
     "metadata": {},
     "output_type": "execute_result"
    }
   ],
   "source": [
    "nombre = input(\"Introduzca el nombre del cliente : \")\n",
    "def encontrar_cliente(nombre):\n",
    "    for cliente in clientes:\n",
    "        if cliente == nombre:\n",
    "            return f\"El cliente {nombre} se encuentra en mi base de datos de Clientes\"\n",
    "        else:\n",
    "            return f\"El cliente {nombre} NO se encuentra en mi Base de Datos de Clientes\"\n",
    "        \n",
    "    nombre = input(\"Introduzca el nombre del cliente: \")  \n",
    "encontrar_cliente(nombre)"
   ]
  },
  {
   "cell_type": "code",
   "execution_count": 57,
   "id": "b794927e",
   "metadata": {},
   "outputs": [
    {
     "name": "stdout",
     "output_type": "stream",
     "text": [
      "Ana Pérez\n",
      "Juan García\n",
      "Andres Álvarez\n",
      "Luis Ramos\n",
      "Pedro Cadenas\n",
      "Estefanía Miguélez\n",
      "Alberto Delgado\n",
      "Susana Castro\n",
      "Luis González\n"
     ]
    }
   ],
   "source": [
    "def imprimir(lista):\n",
    "    try:\n",
    "        for cliente in lista:\n",
    "            print(cliente)\n",
    "    except Exception as e:\n",
    "        print(\"error en bucle for %s\" % str(e))\n",
    "imprimir(clientes)                 "
   ]
  },
  {
   "cell_type": "code",
   "execution_count": 14,
   "id": "4d652e8c",
   "metadata": {},
   "outputs": [
    {
     "data": {
      "text/plain": [
       "[40, 50, 50, 35, 45, 50, 60, 50, 45]"
      ]
     },
     "execution_count": 14,
     "metadata": {},
     "output_type": "execute_result"
    }
   ],
   "source": [
    "tarifas= [40,50,50,35,45,50,60,50,45]\n",
    "tarifas"
   ]
  },
  {
   "cell_type": "code",
   "execution_count": 15,
   "id": "3085bc0a",
   "metadata": {},
   "outputs": [
    {
     "data": {
      "text/html": [
       "<div>\n",
       "<style scoped>\n",
       "    .dataframe tbody tr th:only-of-type {\n",
       "        vertical-align: middle;\n",
       "    }\n",
       "\n",
       "    .dataframe tbody tr th {\n",
       "        vertical-align: top;\n",
       "    }\n",
       "\n",
       "    .dataframe thead th {\n",
       "        text-align: right;\n",
       "    }\n",
       "</style>\n",
       "<table border=\"1\" class=\"dataframe\">\n",
       "  <thead>\n",
       "    <tr style=\"text-align: right;\">\n",
       "      <th></th>\n",
       "      <th>Clientes</th>\n",
       "      <th>Tarifas</th>\n",
       "    </tr>\n",
       "  </thead>\n",
       "  <tbody>\n",
       "    <tr>\n",
       "      <th>0</th>\n",
       "      <td>Ana Pérez</td>\n",
       "      <td>40</td>\n",
       "    </tr>\n",
       "    <tr>\n",
       "      <th>1</th>\n",
       "      <td>Juan García</td>\n",
       "      <td>50</td>\n",
       "    </tr>\n",
       "    <tr>\n",
       "      <th>2</th>\n",
       "      <td>Andres Álvarez</td>\n",
       "      <td>50</td>\n",
       "    </tr>\n",
       "    <tr>\n",
       "      <th>3</th>\n",
       "      <td>Luis Ramos</td>\n",
       "      <td>35</td>\n",
       "    </tr>\n",
       "    <tr>\n",
       "      <th>4</th>\n",
       "      <td>Pedro Cadenas</td>\n",
       "      <td>45</td>\n",
       "    </tr>\n",
       "    <tr>\n",
       "      <th>5</th>\n",
       "      <td>Estefanía Miguélez</td>\n",
       "      <td>50</td>\n",
       "    </tr>\n",
       "    <tr>\n",
       "      <th>6</th>\n",
       "      <td>Alberto Delgado</td>\n",
       "      <td>60</td>\n",
       "    </tr>\n",
       "    <tr>\n",
       "      <th>7</th>\n",
       "      <td>Susana Castro</td>\n",
       "      <td>50</td>\n",
       "    </tr>\n",
       "    <tr>\n",
       "      <th>8</th>\n",
       "      <td>Luis González</td>\n",
       "      <td>45</td>\n",
       "    </tr>\n",
       "  </tbody>\n",
       "</table>\n",
       "</div>"
      ],
      "text/plain": [
       "             Clientes  Tarifas\n",
       "0           Ana Pérez       40\n",
       "1         Juan García       50\n",
       "2      Andres Álvarez       50\n",
       "3          Luis Ramos       35\n",
       "4       Pedro Cadenas       45\n",
       "5  Estefanía Miguélez       50\n",
       "6     Alberto Delgado       60\n",
       "7       Susana Castro       50\n",
       "8       Luis González       45"
      ]
     },
     "execution_count": 15,
     "metadata": {},
     "output_type": "execute_result"
    }
   ],
   "source": [
    "df = pd.DataFrame({\"Clientes\": clientes, \"Tarifas\": tarifas})\n",
    "df"
   ]
  },
  {
   "cell_type": "code",
   "execution_count": 16,
   "id": "8806b602",
   "metadata": {},
   "outputs": [
    {
     "data": {
      "text/html": [
       "<div>\n",
       "<style scoped>\n",
       "    .dataframe tbody tr th:only-of-type {\n",
       "        vertical-align: middle;\n",
       "    }\n",
       "\n",
       "    .dataframe tbody tr th {\n",
       "        vertical-align: top;\n",
       "    }\n",
       "\n",
       "    .dataframe thead th {\n",
       "        text-align: right;\n",
       "    }\n",
       "</style>\n",
       "<table border=\"1\" class=\"dataframe\">\n",
       "  <thead>\n",
       "    <tr style=\"text-align: right;\">\n",
       "      <th></th>\n",
       "      <th>Clientes</th>\n",
       "      <th>Tarifas</th>\n",
       "    </tr>\n",
       "  </thead>\n",
       "  <tbody>\n",
       "    <tr>\n",
       "      <th>0</th>\n",
       "      <td>Ana Pérez</td>\n",
       "      <td>40</td>\n",
       "    </tr>\n",
       "    <tr>\n",
       "      <th>1</th>\n",
       "      <td>Juan García</td>\n",
       "      <td>50</td>\n",
       "    </tr>\n",
       "    <tr>\n",
       "      <th>2</th>\n",
       "      <td>Andres Álvarez</td>\n",
       "      <td>50</td>\n",
       "    </tr>\n",
       "    <tr>\n",
       "      <th>3</th>\n",
       "      <td>Luis Ramos</td>\n",
       "      <td>35</td>\n",
       "    </tr>\n",
       "    <tr>\n",
       "      <th>4</th>\n",
       "      <td>Pedro Cadenas</td>\n",
       "      <td>45</td>\n",
       "    </tr>\n",
       "  </tbody>\n",
       "</table>\n",
       "</div>"
      ],
      "text/plain": [
       "         Clientes  Tarifas\n",
       "0       Ana Pérez       40\n",
       "1     Juan García       50\n",
       "2  Andres Álvarez       50\n",
       "3      Luis Ramos       35\n",
       "4   Pedro Cadenas       45"
      ]
     },
     "execution_count": 16,
     "metadata": {},
     "output_type": "execute_result"
    }
   ],
   "source": [
    "df.head()"
   ]
  },
  {
   "cell_type": "code",
   "execution_count": 27,
   "id": "81ba4c03",
   "metadata": {},
   "outputs": [
    {
     "data": {
      "text/html": [
       "<div>\n",
       "<style scoped>\n",
       "    .dataframe tbody tr th:only-of-type {\n",
       "        vertical-align: middle;\n",
       "    }\n",
       "\n",
       "    .dataframe tbody tr th {\n",
       "        vertical-align: top;\n",
       "    }\n",
       "\n",
       "    .dataframe thead th {\n",
       "        text-align: right;\n",
       "    }\n",
       "</style>\n",
       "<table border=\"1\" class=\"dataframe\">\n",
       "  <thead>\n",
       "    <tr style=\"text-align: right;\">\n",
       "      <th></th>\n",
       "      <th>Clientes</th>\n",
       "      <th>Tarifas</th>\n",
       "    </tr>\n",
       "  </thead>\n",
       "  <tbody>\n",
       "    <tr>\n",
       "      <th>0</th>\n",
       "      <td>Ana Pérez</td>\n",
       "      <td>40</td>\n",
       "    </tr>\n",
       "    <tr>\n",
       "      <th>1</th>\n",
       "      <td>Juan García</td>\n",
       "      <td>50</td>\n",
       "    </tr>\n",
       "    <tr>\n",
       "      <th>2</th>\n",
       "      <td>Andres Álvarez</td>\n",
       "      <td>50</td>\n",
       "    </tr>\n",
       "    <tr>\n",
       "      <th>3</th>\n",
       "      <td>Luis Ramos</td>\n",
       "      <td>35</td>\n",
       "    </tr>\n",
       "    <tr>\n",
       "      <th>4</th>\n",
       "      <td>Pedro Cadenas</td>\n",
       "      <td>45</td>\n",
       "    </tr>\n",
       "  </tbody>\n",
       "</table>\n",
       "</div>"
      ],
      "text/plain": [
       "         Clientes  Tarifas\n",
       "0       Ana Pérez       40\n",
       "1     Juan García       50\n",
       "2  Andres Álvarez       50\n",
       "3      Luis Ramos       35\n",
       "4   Pedro Cadenas       45"
      ]
     },
     "execution_count": 27,
     "metadata": {},
     "output_type": "execute_result"
    }
   ],
   "source": [
    "df[:5]"
   ]
  },
  {
   "cell_type": "code",
   "execution_count": 28,
   "id": "7ab2299b",
   "metadata": {},
   "outputs": [
    {
     "data": {
      "text/plain": [
       "0    40\n",
       "1    50\n",
       "2    50\n",
       "3    35\n",
       "4    45\n",
       "5    50\n",
       "6    60\n",
       "7    50\n",
       "8    45\n",
       "Name: Tarifas, dtype: int64"
      ]
     },
     "execution_count": 28,
     "metadata": {},
     "output_type": "execute_result"
    }
   ],
   "source": [
    "df[\"Tarifas\"]"
   ]
  },
  {
   "cell_type": "code",
   "execution_count": 30,
   "id": "ae09d3e8",
   "metadata": {},
   "outputs": [
    {
     "data": {
      "text/plain": [
       "50    4\n",
       "45    2\n",
       "40    1\n",
       "35    1\n",
       "60    1\n",
       "Name: Tarifas, dtype: int64"
      ]
     },
     "execution_count": 30,
     "metadata": {},
     "output_type": "execute_result"
    }
   ],
   "source": [
    "df.Tarifas.value_counts()"
   ]
  },
  {
   "cell_type": "code",
   "execution_count": 32,
   "id": "41e405fc",
   "metadata": {},
   "outputs": [
    {
     "data": {
      "image/png": "[encoded data removed]",
      "text/plain": [
       "<Figure size 432x288 with 1 Axes>"
      ]
     },
     "metadata": {
      "needs_background": "light"
     },
     "output_type": "display_data"
    }
   ],
   "source": [
    "df.Tarifas.value_counts().plot(kind=\"bar\")\n",
    "plt.show()"
   ]
  },
  {
   "cell_type": "code",
   "execution_count": 34,
   "id": "09fa0dce",
   "metadata": {},
   "outputs": [
    {
     "data": {
      "text/plain": [
       "<function matplotlib.pyplot.show(close=None, block=None)>"
      ]
     },
     "execution_count": 34,
     "metadata": {},
     "output_type": "execute_result"
    },
    {
     "data": {
      "image/png": "[encoded data removed]",
      "text/plain": [
       "<Figure size 432x288 with 1 Axes>"
      ]
     },
     "metadata": {
      "needs_background": "light"
     },
     "output_type": "display_data"
    }
   ],
   "source": [
    "df.Tarifas.plot(kind=\"bar\")\n",
    "plt.show"
   ]
  },
  {
   "cell_type": "code",
   "execution_count": 35,
   "id": "bb4c0b0c",
   "metadata": {},
   "outputs": [
    {
     "data": {
      "text/html": [
       "<div>\n",
       "<style scoped>\n",
       "    .dataframe tbody tr th:only-of-type {\n",
       "        vertical-align: middle;\n",
       "    }\n",
       "\n",
       "    .dataframe tbody tr th {\n",
       "        vertical-align: top;\n",
       "    }\n",
       "\n",
       "    .dataframe thead th {\n",
       "        text-align: right;\n",
       "    }\n",
       "</style>\n",
       "<table border=\"1\" class=\"dataframe\">\n",
       "  <thead>\n",
       "    <tr style=\"text-align: right;\">\n",
       "      <th></th>\n",
       "      <th>Clientes</th>\n",
       "      <th>Tarifas</th>\n",
       "    </tr>\n",
       "  </thead>\n",
       "  <tbody>\n",
       "    <tr>\n",
       "      <th>0</th>\n",
       "      <td>Ana Pérez</td>\n",
       "      <td>40</td>\n",
       "    </tr>\n",
       "    <tr>\n",
       "      <th>1</th>\n",
       "      <td>Juan García</td>\n",
       "      <td>50</td>\n",
       "    </tr>\n",
       "    <tr>\n",
       "      <th>2</th>\n",
       "      <td>Andres Álvarez</td>\n",
       "      <td>50</td>\n",
       "    </tr>\n",
       "    <tr>\n",
       "      <th>3</th>\n",
       "      <td>Luis Ramos</td>\n",
       "      <td>35</td>\n",
       "    </tr>\n",
       "    <tr>\n",
       "      <th>4</th>\n",
       "      <td>Pedro Cadenas</td>\n",
       "      <td>45</td>\n",
       "    </tr>\n",
       "    <tr>\n",
       "      <th>5</th>\n",
       "      <td>Estefanía Miguélez</td>\n",
       "      <td>50</td>\n",
       "    </tr>\n",
       "    <tr>\n",
       "      <th>6</th>\n",
       "      <td>Alberto Delgado</td>\n",
       "      <td>60</td>\n",
       "    </tr>\n",
       "    <tr>\n",
       "      <th>7</th>\n",
       "      <td>Susana Castro</td>\n",
       "      <td>50</td>\n",
       "    </tr>\n",
       "    <tr>\n",
       "      <th>8</th>\n",
       "      <td>Luis González</td>\n",
       "      <td>45</td>\n",
       "    </tr>\n",
       "  </tbody>\n",
       "</table>\n",
       "</div>"
      ],
      "text/plain": [
       "             Clientes  Tarifas\n",
       "0           Ana Pérez       40\n",
       "1         Juan García       50\n",
       "2      Andres Álvarez       50\n",
       "3          Luis Ramos       35\n",
       "4       Pedro Cadenas       45\n",
       "5  Estefanía Miguélez       50\n",
       "6     Alberto Delgado       60\n",
       "7       Susana Castro       50\n",
       "8       Luis González       45"
      ]
     },
     "execution_count": 35,
     "metadata": {},
     "output_type": "execute_result"
    }
   ],
   "source": [
    "df"
   ]
  },
  {
   "cell_type": "code",
   "execution_count": null,
   "id": "4eef0f72",
   "metadata": {},
   "outputs": [],
   "source": []
  },
  {
   "cell_type": "code",
   "execution_count": 6,
   "id": "6c6d3709",
   "metadata": {},
   "outputs": [
    {
     "data": {
      "text/plain": [
       "'\\n    Intercambio de valores entre variables\\n\\n    Siendo por ejemplo:\\n\\n    x = 3 e y = 2\\n    Se pide hacer un pequeño algoritmo que me intercambie esos valores.\\n\\n    Y que sea el resultado:\\n\\n    x = 2 e y = 3\\n'"
      ]
     },
     "execution_count": 6,
     "metadata": {},
     "output_type": "execute_result"
    }
   ],
   "source": [
    "\n",
    "\n",
    "# EJERCICIO 2\n",
    "\n",
    "# Número par o impar\n",
    "\n",
    "# Prueba para los números 6 y 3\n",
    "\n",
    "# Realiza un algortimo para saber si son pares o impares\n",
    "\n",
    "\n",
    "\n",
    "# EJERCICIO 3\n",
    "\n",
    "\"\"\"\n",
    "    Intercambio de valores entre variables\n",
    "\n",
    "    Siendo por ejemplo:\n",
    "\n",
    "    x = 3 e y = 2\n",
    "    Se pide hacer un pequeño algoritmo que me intercambie esos valores.\n",
    "\n",
    "    Y que sea el resultado:\n",
    "\n",
    "    x = 2 e y = 3\n",
    "\"\"\"\n",
    "\n",
    "# 1) Hazlo sin funciones\n",
    "\n",
    "# 2) Hazlo mismo con una función"
   ]
  },
  {
   "cell_type": "code",
   "execution_count": 49,
   "id": "e5e161f3",
   "metadata": {},
   "outputs": [
    {
     "name": "stdout",
     "output_type": "stream",
     "text": [
      "Introduce un numero : 2\n"
     ]
    },
    {
     "data": {
      "text/plain": [
       "' El numero 2 es un numero par'"
      ]
     },
     "execution_count": 49,
     "metadata": {},
     "output_type": "execute_result"
    }
   ],
   "source": [
    "numero = int(input(\"Introduce un numero : \"))\n",
    "def par_impar(numero):\n",
    "    while numero > 0:\n",
    "        if numero % 2 == 0:\n",
    "            return f\" El numero {numero} es un numero par\"\n",
    "        else:          \n",
    "            return f\"El numero {numero} es un numero impar\"\n",
    "    else:\n",
    "        return \"no se puede con numero negativos\"\n",
    "par_impar(numero)        \n",
    "      "
   ]
  },
  {
   "cell_type": "code",
   "execution_count": 42,
   "id": "a4279b02",
   "metadata": {},
   "outputs": [],
   "source": [
    "x = 3\n",
    "y = 2\n"
   ]
  },
  {
   "cell_type": "code",
   "execution_count": 43,
   "id": "866feb3e",
   "metadata": {},
   "outputs": [],
   "source": [
    "x,y = y, x"
   ]
  },
  {
   "cell_type": "code",
   "execution_count": 44,
   "id": "bf35214f",
   "metadata": {},
   "outputs": [
    {
     "data": {
      "text/plain": [
       "(2, 3)"
      ]
     },
     "execution_count": 44,
     "metadata": {},
     "output_type": "execute_result"
    }
   ],
   "source": [
    "x,y"
   ]
  },
  {
   "cell_type": "code",
   "execution_count": 45,
   "id": "cf9c6cac",
   "metadata": {},
   "outputs": [],
   "source": [
    "temp = x\n",
    "x = y\n",
    "y = temp"
   ]
  },
  {
   "cell_type": "code",
   "execution_count": 46,
   "id": "f057f947",
   "metadata": {},
   "outputs": [
    {
     "data": {
      "text/plain": [
       "(3, 2)"
      ]
     },
     "execution_count": 46,
     "metadata": {},
     "output_type": "execute_result"
    }
   ],
   "source": [
    "x,y"
   ]
  },
  {
   "cell_type": "code",
   "execution_count": 53,
   "id": "648cc0f7",
   "metadata": {},
   "outputs": [],
   "source": [
    "import numpy as np"
   ]
  },
  {
   "cell_type": "code",
   "execution_count": 55,
   "id": "2866b645",
   "metadata": {},
   "outputs": [
    {
     "data": {
      "text/plain": [
       "array([[1, 2, 3],\n",
       "       [4, 5, 6],\n",
       "       [7, 8, 9]])"
      ]
     },
     "execution_count": 55,
     "metadata": {},
     "output_type": "execute_result"
    }
   ],
   "source": [
    "matriz1 =np.array([[1, 2, 3],\n",
    "                  [4, 5, 6],\n",
    "                  [7, 8, 9]])\n",
    "matriz1"
   ]
  },
  {
   "cell_type": "code",
   "execution_count": 63,
   "id": "18adef9e",
   "metadata": {},
   "outputs": [
    {
     "ename": "TypeError",
     "evalue": "Cannot interpret '3' as a data type",
     "output_type": "error",
     "traceback": [
      "\u001b[0;31m---------------------------------------------------------------------------\u001b[0m",
      "\u001b[0;31mTypeError\u001b[0m                                 Traceback (most recent call last)",
      "Input \u001b[0;32mIn [63]\u001b[0m, in \u001b[0;36m<cell line: 1>\u001b[0;34m()\u001b[0m\n\u001b[0;32m----> 1\u001b[0m trans \u001b[38;5;241m=\u001b[39m \u001b[43mnp\u001b[49m\u001b[38;5;241;43m.\u001b[39;49m\u001b[43mempty\u001b[49m\u001b[43m(\u001b[49m\u001b[38;5;241;43m3\u001b[39;49m\u001b[43m,\u001b[49m\u001b[38;5;241;43m3\u001b[39;49m\u001b[43m)\u001b[49m\n\u001b[1;32m      2\u001b[0m \u001b[38;5;28;01mfor\u001b[39;00m x \u001b[38;5;129;01min\u001b[39;00m \u001b[38;5;28mrange\u001b[39m(\u001b[38;5;28mlen\u001b[39m(matriz1)):\n\u001b[1;32m      3\u001b[0m     \u001b[38;5;28;01mfor\u001b[39;00m y \u001b[38;5;129;01min\u001b[39;00m \u001b[38;5;28mrange\u001b[39m(\u001b[38;5;28mlen\u001b[39m(matriz1[x])):\n",
      "\u001b[0;31mTypeError\u001b[0m: Cannot interpret '3' as a data type"
     ]
    }
   ],
   "source": [
    "trans = np.empty(3,3)\n",
    "for x in range(len(matriz1)):\n",
    "    for y in range(len(matriz1[x])):\n",
    "        trans[x][y] == matriz1[y][x]\n",
    "trans        "
   ]
  },
  {
   "cell_type": "code",
   "execution_count": 56,
   "id": "834e4946",
   "metadata": {},
   "outputs": [
    {
     "name": "stdout",
     "output_type": "stream",
     "text": [
      "[1, 2, 3, 4, 5, 6, 7, 8, 9]\n"
     ]
    }
   ],
   "source": [
    "lista = []\n",
    "for x in range(len(matriz1)):\n",
    "    for y in range(len(matriz1[x])):\n",
    "        lista.append(matriz1[x][y])\n",
    "print(lista)\n",
    "matriz2 = np.array(lista)"
   ]
  },
  {
   "cell_type": "code",
   "execution_count": null,
   "id": "9a462e5c",
   "metadata": {},
   "outputs": [],
   "source": []
  }
 ],
 "metadata": {
  "kernelspec": {
   "display_name": "Python 3 (ipykernel)",
   "language": "python",
   "name": "python3"
  },
  "language_info": {
   "codemirror_mode": {
    "name": "ipython",
    "version": 3
   },
   "file_extension": ".py",
   "mimetype": "text/x-python",
   "name": "python",
   "nbconvert_exporter": "python",
   "pygments_lexer": "ipython3",
   "version": "3.8.10"
  }
 },
 "nbformat": 4,
 "nbformat_minor": 5
}
