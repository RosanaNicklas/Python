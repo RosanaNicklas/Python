{
 "cells": [
  {
   "cell_type": "code",
   "execution_count": null,
   "id": "fed0b70d",
   "metadata": {},
   "outputs": [],
   "source": [
    "\n",
    "# GET/fechas: Rosana\n",
    "@app.get(\"/getFechas/\"{date}\", status_code=status.HTTP_200_OK, tags=[\"FINANZAS\"],\n",
    "         description=\"GET/Fechas: mostrar los datos por fechas concretas.\")\n",
    "async def get_Fechas(date:str, response: Response):\n",
    "    cur, conn = connect()\n",
    "    try:\n",
    "        date = datetime.datetime.strptime(date, \"%Y-%m-%d\")\n",
    "        query = cur.execute(\"SELECT * FROM amazon WHERE date = '{date}';\")\n",
    "        \n",
    "        conn.commit()\n",
    "    except psycopf2.error as e:\n",
    "        response.status_code=status.HTTP_404_NOT_FOUND\n",
    "        cur.close()\n",
    "        conn.close()\n",
    "        return \"Error mostrando datos por fecha: %s\" str(e)\n"
   ]
  }
 ],
 "metadata": {
  "kernelspec": {
   "display_name": "Python 3 (ipykernel)",
   "language": "python",
   "name": "python3"
  },
  "language_info": {
   "codemirror_mode": {
    "name": "ipython",
    "version": 3
   },
   "file_extension": ".py",
   "mimetype": "text/x-python",
   "name": "python",
   "nbconvert_exporter": "python",
   "pygments_lexer": "ipython3",
   "version": "3.8.10"
  }
 },
 "nbformat": 4,
 "nbformat_minor": 5
}
