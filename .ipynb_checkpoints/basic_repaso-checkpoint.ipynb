{
 "cells": [
  {
   "cell_type": "raw",
   "id": "3afa063c",
   "metadata": {},
   "source": [
    "# EJERCICIO 1\n",
    "\n",
    "\"\"\"\n",
    "    Dada una lista de nombre \"listado\" y con valores: 10,20,30,40,50\n",
    "\"\"\"\n",
    "# 1) Crea un pequeño programa capaz de conseguir el orden inverso de los números de \"listado\"\n",
    "# imprime nuevamente el listado para tenerlo \"a mano\"\n",
    "# 10-20-30-40-50 (tengo)\n",
    "# 50-40-30-20-10 (lo que busco)\n"
   ]
  },
  {
   "cell_type": "code",
   "execution_count": 1,
   "id": "44d8b373",
   "metadata": {},
   "outputs": [
    {
     "data": {
      "text/plain": [
       "[10, 20, 30, 40, 50]"
      ]
     },
     "execution_count": 1,
     "metadata": {},
     "output_type": "execute_result"
    }
   ],
   "source": [
    "listado = [10, 20, 30, 40, 50]\n",
    "listado"
   ]
  },
  {
   "cell_type": "code",
   "execution_count": 2,
   "id": "5819af76",
   "metadata": {},
   "outputs": [
    {
     "data": {
      "text/plain": [
       "[50, 40, 30, 20, 10]"
      ]
     },
     "execution_count": 2,
     "metadata": {},
     "output_type": "execute_result"
    }
   ],
   "source": [
    "def inversa(listado):\n",
    "    inverso = []\n",
    "    for i in listado[::-1]:\n",
    "        inverso.append(i)\n",
    "    return inverso\n",
    "inversa(listado)"
   ]
  },
  {
   "cell_type": "code",
   "execution_count": 12,
   "id": "235baf4b",
   "metadata": {},
   "outputs": [
    {
     "name": "stdout",
     "output_type": "stream",
     "text": [
      "[1, 2, 3, 4, 5]\n"
     ]
    },
    {
     "data": {
      "text/plain": [
       "[50, 40, 30, 20, 10]"
      ]
     },
     "execution_count": 12,
     "metadata": {},
     "output_type": "execute_result"
    }
   ],
   "source": [
    "import numpy as np\n",
    "\n",
    "rango_indices = np.arange(1, len(listado)+ 1, 1).tolist()\n",
    "print(rango_indices)\n",
    "def inver(listado, rango_indices):\n",
    "    listado_inverso =[]\n",
    "    for indice in rango_indices:\n",
    "        listado_inverso.append(listado[-indice])\n",
    "    return listado_inverso\n",
    "inver(listado, rango_indices)    "
   ]
  },
  {
   "cell_type": "raw",
   "id": "dcfebedb",
   "metadata": {},
   "source": [
    "\n",
    "# EJERCICIO 2\n",
    "\n",
    "\"\"\"\n",
    "    Programa que coge por teclado 5 números y los almacena en una lista\n",
    "\n",
    "    Nota:\n",
    "\n",
    "    debería estar en la misma celda\n",
    "\n",
    "    Hazlo como puedas, discurre cómo sería.."
   ]
  },
  {
   "cell_type": "code",
   "execution_count": 18,
   "id": "39153e0e",
   "metadata": {},
   "outputs": [
    {
     "name": "stdout",
     "output_type": "stream",
     "text": [
      "Introduce un numero entero: 1\n",
      "Introduce un numero entero: 2\n",
      "Introduce un numero entero: 3\n",
      "Introduce un numero entero: 4\n",
      "Introduce un numero entero: 5\n"
     ]
    },
    {
     "data": {
      "text/plain": [
       "[1, 2, 3, 4, 5]"
      ]
     },
     "execution_count": 18,
     "metadata": {},
     "output_type": "execute_result"
    }
   ],
   "source": [
    "def creo_lista():\n",
    "    Lista = []\n",
    "    for i in np.arange(1,6):\n",
    "        num = int(input(\"Introduce un numero entero: \"))\n",
    "        Lista.append(num)\n",
    "    return Lista\n",
    "creo_lista()\n"
   ]
  },
  {
   "cell_type": "code",
   "execution_count": null,
   "id": "ed64102f",
   "metadata": {},
   "outputs": [],
   "source": []
  },
  {
   "cell_type": "raw",
   "id": "988ee5fe",
   "metadata": {},
   "source": [
    "# EJERCICIO 3\n",
    "\n",
    "\"\"\"\n",
    "    Programa que coge por teclado una frase y es capaz de decir cuántas vocales hay\n",
    "\n",
    "    Nota: asume que son letras minúsculas sin tildes.\n",
    "\"\"\"\n",
    "\n",
    "# 1) Entrada de texto por teclado\n",
    "# 2) Hazlo si puedes de varias formas\n",
    "    # forma 1: contar vocales en palabra/frase\n",
    "# 3) Hazlo de otra forma si se te ocurre..\n",
    "    # forma 2"
   ]
  },
  {
   "cell_type": "code",
   "execution_count": 4,
   "id": "7e7b4637",
   "metadata": {},
   "outputs": [
    {
     "data": {
      "text/plain": [
       "11"
      ]
     },
     "execution_count": 4,
     "metadata": {},
     "output_type": "execute_result"
    }
   ],
   "source": [
    "frase = \"No se me ocurre ninguna frase\"\n",
    "def vocals(frase):\n",
    "    contador = 0\n",
    "    for palabra in frase.lower():\n",
    "        for letra in palabra:\n",
    "            if letra == \"a\" or letra == \"e\" or letra == \"i\" or letra == \"u\" or letra == \"o\":\n",
    "                contador +=1\n",
    "    return contador        \n",
    "vocals(frase)                "
   ]
  },
  {
   "cell_type": "code",
   "execution_count": 19,
   "id": "6062d65d",
   "metadata": {},
   "outputs": [
    {
     "data": {
      "text/plain": [
       "11"
      ]
     },
     "execution_count": 19,
     "metadata": {},
     "output_type": "execute_result"
    }
   ],
   "source": [
    "vocales = [\"a\",\"e\",\"i\",\"o\",\"u\"]\n",
    "frase = \"No se me ocurre ninguna frase\"\n",
    "def vocals(frase):\n",
    "    contador = 0\n",
    "    for palabra in frase.lower():\n",
    "        for letra in palabra:\n",
    "            if letra in vocales:\n",
    "                contador +=1\n",
    "    return contador        \n",
    "vocals(frase) "
   ]
  },
  {
   "cell_type": "raw",
   "id": "9741b81f",
   "metadata": {},
   "source": [
    "# EJERCICIO 4\n",
    "\n",
    "\"\"\"\n",
    "    Tablas de multiplicar:\n",
    "\n",
    "    Haz algo tal que:\n",
    "\"\"\"\n",
    "\n",
    "# 1) Pregunta al usuario que tabla quiere multiplicar: <1 al 10>\n",
    "\n",
    "# 2) Muestra los resultados de esta forma:\n",
    "\n",
    "    \"\"\"\n",
    "        2 x 1 = 2\n",
    "\n",
    "        2 x 2 = 4\n",
    "\n",
    "        ...\n",
    "\n",
    "        2 x 10 = 20\n",
    "    \"\"\""
   ]
  },
  {
   "cell_type": "code",
   "execution_count": 20,
   "id": "5066a7cc",
   "metadata": {},
   "outputs": [
    {
     "name": "stdout",
     "output_type": "stream",
     "text": [
      "Elige la tabla  que  quieres multiplicar del 1 al 10 : 5\n",
      "5 x 1 = 5\n",
      "5 x 2 = 10\n",
      "5 x 3 = 15\n",
      "5 x 4 = 20\n",
      "5 x 5 = 25\n",
      "5 x 6 = 30\n",
      "5 x 7 = 35\n",
      "5 x 8 = 40\n",
      "5 x 9 = 45\n",
      "5 x 10 = 50\n"
     ]
    }
   ],
   "source": [
    "tabla = int(input(\"Elige la tabla  que  quieres multiplicar del 1 al 10 : \"))\n",
    "numeros = np.arange(1,11)\n",
    "def multiplicar(tabla):\n",
    "    for i in numeros:\n",
    "        print(f\"{tabla} x {i} = {tabla*i}\")\n",
    "           \n",
    "multiplicar(tabla)           "
   ]
  },
  {
   "cell_type": "code",
   "execution_count": null,
   "id": "f65851de",
   "metadata": {},
   "outputs": [],
   "source": [
    "import pandas as pd\n",
    "\n",
    "# EJERCICIO 1\n",
    "\n",
    "\"\"\"\n",
    "   Dado el siguiente listado: [\"Python\", \"Matlab\", \"R\", \"VBA\", \"Julia\", \"C++\"].\n",
    "\n",
    "    Modifica con un algoritmo ese listado.\n",
    "\n",
    "    Cuando encuentre Python debe poner un 1\n",
    "    y cuando encuentre otro lenguaje de programacion, un 0\n",
    "    es un simple ejemplo de modificación de valores en una lista.\n",
    "\"\"\"\n",
    "\n",
    "languages =  [\"Python\", \"Matlab\", \"R\", \"VBA\", \"Julia\", \"C++\"]\n",
    "# print(languages)\n",
    "\n",
    "def transformacion(languages):\n",
    "    for i in range(len(languages)):\n",
    "        if languages[i] == \"Python\":\n",
    "            languages[i] = 1\n",
    "        else:\n",
    "            languages[i] = 0\n",
    "    return languages\n",
    "\n",
    "# Descomentar para ejecutar:\n",
    "# print(transformacion(languages))\n",
    "\n",
    "\n"
   ]
  },
  {
   "cell_type": "code",
   "execution_count": null,
   "id": "7810f2eb",
   "metadata": {},
   "outputs": [],
   "source": [
    "\n",
    "languages =  [\"Python\", \"Matlab\", \"R\", \"VBA\", \"Julia\", \"C++\"]\n",
    "print(languages)"
   ]
  },
  {
   "cell_type": "code",
   "execution_count": null,
   "id": "e838717f",
   "metadata": {},
   "outputs": [],
   "source": [
    "def sustituir(languages):\n",
    "    for lengua in range(0, len(languages)):\n",
    "        if languages[lengua] == \"Python\":\n",
    "            languages[lengua]= 1\n",
    "        else:\n",
    "            languages[lengua]= 0\n",
    "    return languages\n",
    "sustituir(languages)"
   ]
  },
  {
   "cell_type": "code",
   "execution_count": null,
   "id": "c307278a",
   "metadata": {},
   "outputs": [],
   "source": [
    "\n",
    "# EJERCICIO 2\n",
    "\n",
    "\"\"\"\n",
    "    Dada la siguiente lista:\n",
    "    L = [10, None, 8, 5, None, 20]\n",
    "\"\"\"\n",
    "L = [10, None, 8, 5, None, 20]\n",
    "\n",
    "# 1) Susitituir por -1 el valor None usando bucles y listas\n",
    "\n",
    "def sustitución(L):\n",
    "    for i in range(0, len(L)):\n",
    "        if L[i] == None:\n",
    "            L[i] = -1\n",
    "    return L\n",
    "\n",
    "# Descomentar para ejecutar:\n",
    "# print(sustitución(L))\n",
    "\n",
    "# 2) Creamos un dataframe con los valores de la lista y\n",
    "#     modificamos los \"NaN\" por un valor de -1 (Valores nulos, suma, etc..)\n",
    "df = pd.DataFrame(L, columns=[\"listado\"])\n",
    "\n",
    "# Descomentar para ejecutar:\n",
    "# print(df)\n",
    "\n",
    "# Descomentar para ejecutar:\n",
    "# print(\"Dataframe valores nulos\", df.isnull())\n",
    "# print(\"Suma valores nulos\",df.isnull().sum())\n",
    "\n",
    "def sustitución_2(df):\n",
    "    df.listado = df.listado.fillna(-1)\n",
    "    return df\n",
    "\n",
    "# Descomentar para ejecutar:\n",
    "# print(sustitución_2(df))\n",
    "\n",
    "\n",
    "# 3) Vuelve a escribir el listado con falta de valores (inicial),\n",
    "#     y sustituye por la media.\n",
    "\n",
    "def sustitución_3(df):\n",
    "    df.listado = df.listado.fillna(df.listado.mean())\n",
    "    return df\n",
    "\n",
    "# Descomentar para ejecutar:\n",
    "# print(sustitución_3(df))\n",
    "\n",
    "\n",
    "# 4) Apendiza la columna con estos valores\n",
    "#     listado2 = [10, 20, 50, 30, 20, 0]\n",
    "\n",
    "listado2 = [10, 20, 50, 30, 20, 0]\n",
    "\n",
    "def appendColumn(df, listado2):\n",
    "    df['listado2'] = listado2\n",
    "    return df\n",
    "\n",
    "# Descomentar para ejecutar:\n",
    "# print(appendColumn(df, listado2))\n",
    "\n",
    "df_2 = appendColumn(df, listado2)\n",
    "\n",
    "# 5) Elimina la columna L\n",
    "\n",
    "def deleteColumn(df_2):\n",
    "    df_2 = df_2.drop([\"listado2\"], axis=1)\n",
    "    return df_2\n",
    "\n",
    "# Descomentar para ejecutar:\n",
    "# print(deleteColumn(df_2))\n",
    "# print(df)"
   ]
  },
  {
   "cell_type": "code",
   "execution_count": null,
   "id": "2aa199ea",
   "metadata": {},
   "outputs": [],
   "source": [
    "L = [10, None, 8, 5, None, 20]\n",
    "L"
   ]
  },
  {
   "cell_type": "code",
   "execution_count": null,
   "id": "135efd38",
   "metadata": {},
   "outputs": [],
   "source": [
    "def susti(L):\n",
    "    for i in range(0,len(L)):\n",
    "        if L[i] == None:\n",
    "            L[i] = -1\n",
    "    return L        \n",
    "susti(L)"
   ]
  },
  {
   "cell_type": "code",
   "execution_count": null,
   "id": "83aa06b1",
   "metadata": {},
   "outputs": [],
   "source": [
    "L = [10, None, 8, 5, None, 20]\n",
    "L"
   ]
  },
  {
   "cell_type": "code",
   "execution_count": null,
   "id": "5a79ac0a",
   "metadata": {},
   "outputs": [],
   "source": [
    "import pandas as pd\n",
    "df = pd.DataFrame(L, columns = [\"Listado\"])\n",
    "df"
   ]
  },
  {
   "cell_type": "code",
   "execution_count": null,
   "id": "bf9bcb44",
   "metadata": {},
   "outputs": [],
   "source": [
    "df.isnull().sum()"
   ]
  },
  {
   "cell_type": "code",
   "execution_count": null,
   "id": "50cbc701",
   "metadata": {},
   "outputs": [],
   "source": [
    "def sustituir2(df):\n",
    "    df.Listado = df.Listado.fillna(df.Listado.mean())\n",
    "    return df.Listado\n",
    "sustituir(df)"
   ]
  },
  {
   "cell_type": "code",
   "execution_count": null,
   "id": "c65f464c",
   "metadata": {},
   "outputs": [],
   "source": [
    "def sustituir1(df):\n",
    "    df.Listado = df.Listado.fillna(-1)\n",
    "    return df.Listado\n",
    "sustituir(df)"
   ]
  },
  {
   "cell_type": "code",
   "execution_count": null,
   "id": "2d5f8383",
   "metadata": {},
   "outputs": [],
   "source": [
    "listado2 = [10, 20, 50, 30, 20, 0]\n",
    "listado2"
   ]
  },
  {
   "cell_type": "code",
   "execution_count": null,
   "id": "e154ade7",
   "metadata": {},
   "outputs": [],
   "source": [
    "def apendiza(df):\n",
    "    df[\"listado2\"] = listado2\n",
    "    return df\n",
    "apendiza(df)"
   ]
  },
  {
   "cell_type": "code",
   "execution_count": null,
   "id": "2e974899",
   "metadata": {},
   "outputs": [],
   "source": [
    "L = [10, None, 8, 5, None, 20]\n",
    "L"
   ]
  },
  {
   "cell_type": "code",
   "execution_count": null,
   "id": "c3f99a35",
   "metadata": {},
   "outputs": [],
   "source": []
  },
  {
   "cell_type": "code",
   "execution_count": null,
   "id": "3e393225",
   "metadata": {},
   "outputs": [],
   "source": []
  },
  {
   "cell_type": "code",
   "execution_count": null,
   "id": "612a2b3c",
   "metadata": {},
   "outputs": [],
   "source": [
    "\n",
    "# EJERCICIO 3\n",
    "\n",
    "\"\"\"\n",
    "    Crear un listado con los siguientes numeros:\n",
    "        10, 20, 30, 40 (nombra la lista con nombre: \"listado\")\n",
    "\"\"\"\n",
    "listado = [10, 20, 30, 40]\n",
    "\n",
    "# 1) Crea el listado e imprimelo:\n",
    "\n",
    "# Descomentar para ejecutar:\n",
    "# print(listado)\n",
    "\n",
    "# 2) Apendiza el valor 50 ( si es posible)\n",
    "\n",
    "def appendValue(listado, numero):\n",
    "    listado.append(numero)\n",
    "    return listado\n",
    "\n",
    "# Descomentar para ejecutar:\n",
    "# print(appendValue(listado, 50))\n",
    "\n",
    "# listado_3 = appendValue(listado, 50)\n",
    "\n",
    "\n",
    "\n",
    "# 3) Modifica (si es posible) el valor 10 por 100\n",
    "\n",
    "def modificacion(listado, numero):\n",
    "    listado[0] = numero\n",
    "    return listado\n",
    "\n",
    "# Descomentar para ejecutar:\n",
    "# print(modificacion(listado_3, 100))"
   ]
  },
  {
   "cell_type": "code",
   "execution_count": null,
   "id": "f13fce74",
   "metadata": {},
   "outputs": [],
   "source": []
  },
  {
   "cell_type": "code",
   "execution_count": null,
   "id": "2393cf08",
   "metadata": {},
   "outputs": [],
   "source": []
  },
  {
   "cell_type": "code",
   "execution_count": null,
   "id": "f26cf9d7",
   "metadata": {},
   "outputs": [],
   "source": [
    "# EJERCICIO 4\n",
    "\n",
    "\"\"\"\n",
    "    Dada una lista de nombre \"Temperatura\" con valores: 10, 20, 30, 40, 50\n",
    "\"\"\"\n",
    "Temperatura = [10, 20, 30, 40, 50]\n",
    "\n",
    "# 1) Crea el listado e imprimelo:\n",
    "\n",
    "# Descomentar para ejecutar:\n",
    "# print(Temperatura)\n",
    "\n",
    "# 2) En este \"Temperatura\". ¿Cuál es el elemento en la posición (index) 1?\n",
    "\n",
    "def indexValue(lista, indexado):\n",
    "    return lista[indexado]\n",
    "\n",
    "# Descomentar para ejecutar:\n",
    "# print(indexValue(Temperatura, 1))\n",
    "\n",
    "# 3) ¿Y en la posición (index) 0?\n",
    "\n",
    "# Descomentar para ejecutar:\n",
    "# print(indexValue(Temperatura, 0))\n",
    "\n",
    "# 4) ¿Y en la posición (index) -1?\n",
    "\n",
    "# Descomentar para ejecutar:\n",
    "# print(indexValue(Temperatura, -1))\n",
    "\n",
    "# print(indexValue(listado, -1))"
   ]
  },
  {
   "cell_type": "code",
   "execution_count": null,
   "id": "b3dab80f",
   "metadata": {},
   "outputs": [],
   "source": [
    "Temperatura = [10, 20, 30, 40, 50]\n",
    "Temperatura"
   ]
  },
  {
   "cell_type": "code",
   "execution_count": null,
   "id": "2dd42a00",
   "metadata": {},
   "outputs": [],
   "source": [
    "def indx(Temperatura, indexado):\n",
    "    return Temperatura[indexado]\n",
    "indx(Temperatura, 4)"
   ]
  },
  {
   "cell_type": "code",
   "execution_count": 24,
   "id": "44f55720",
   "metadata": {},
   "outputs": [
    {
     "name": "stdout",
     "output_type": "stream",
     "text": [
      "Dime que tabla de multiplicar quieres :9\n",
      "9 x 1 = 9\n",
      "9 x 2 = 18\n",
      "9 x 3 = 27\n",
      "9 x 4 = 36\n",
      "9 x 5 = 45\n",
      "9 x 6 = 54\n",
      "9 x 7 = 63\n",
      "9 x 8 = 72\n",
      "9 x 9 = 81\n",
      "9 x 10 = 90\n"
     ]
    }
   ],
   "source": [
    "tabla = int(input(\"Dime que tabla de multiplicar quieres :\"))\n",
    "numeros = np.arange(1,11)\n",
    "for numero in numeros:\n",
    "    print(f\"{tabla} x {numero} = {numero * tabla}\") "
   ]
  },
  {
   "cell_type": "code",
   "execution_count": null,
   "id": "332bb5b1",
   "metadata": {},
   "outputs": [],
   "source": [
    "# EJERCICIO 1\n",
    "\n",
    "\"\"\"\n",
    "    Crear un pequeño programa que calcule la multiplicación de 2 números (x, y)\n",
    "\n",
    "    x = 3, y = 5\n",
    "    x = 7, y = 3\n",
    "\"\"\"\n",
    "\n",
    "# a) Con una función (por ejemplo funcion_multiplicar)\n",
    "\n",
    "# b) Con la función lambda (Tal vez puedes ir a repasarlo)\n",
    "\n",
    "# c) Realizarlo con entrada de teclado (input)\n",
    "\n",
    "# EJERCICIO 2\n",
    "\n",
    "\"\"\"\n",
    "    -A-\n",
    "\n",
    "        Dado un string:\n",
    "\n",
    "        \"Level\"\n",
    "\n",
    "        ¿Es un palíndromo?\n",
    "\"\"\"\n",
    "\n",
    "\"\"\"\n",
    "    -B-\n",
    "\n",
    "        ¿Y este string?\n",
    "\n",
    "        \"level\"\n",
    "\n",
    "        Nota: \"Es un palíndromo si se invierte el orden del string, el resultado es exactamente el mismo\"\n",
    "\"\"\"\n",
    "\n",
    "# EJERCICIO 3\n",
    "\n",
    "\"\"\"\n",
    "    Dado 2 strings:\n",
    "\n",
    "    S1 = \"Hi!\"\n",
    "    S2 = \"Hello!\"\n",
    "\n",
    "    Imprimir las letras que son comunes\n",
    "\"\"\""
   ]
  },
  {
   "cell_type": "code",
   "execution_count": 51,
   "id": "1535735b",
   "metadata": {},
   "outputs": [
    {
     "data": {
      "text/plain": [
       "15"
      ]
     },
     "execution_count": 51,
     "metadata": {},
     "output_type": "execute_result"
    }
   ],
   "source": [
    "x = 3\n",
    "y = 5\n",
    "a = 7 \n",
    "b = 3\n",
    "def multi(x,y):\n",
    "    return x*y\n",
    "multi(x,y)\n",
    "    "
   ]
  },
  {
   "cell_type": "code",
   "execution_count": null,
   "id": "8c48a0e8",
   "metadata": {},
   "outputs": [],
   "source": [
    "f = lambda x, y: x * y"
   ]
  },
  {
   "cell_type": "code",
   "execution_count": 70,
   "id": "077530b1",
   "metadata": {},
   "outputs": [
    {
     "name": "stdout",
     "output_type": "stream",
     "text": [
      "15\n"
     ]
    }
   ],
   "source": [
    "def xx(x,y):\n",
    "    return (lambda x,y : x*y)(x,y)\n",
    "print(xx(3,5))"
   ]
  },
  {
   "cell_type": "code",
   "execution_count": 29,
   "id": "62ffa327",
   "metadata": {},
   "outputs": [
    {
     "name": "stdout",
     "output_type": "stream",
     "text": [
      "Introduce un numero : 5\n",
      "Introduce un numero : 5\n",
      "25\n"
     ]
    }
   ],
   "source": [
    "x = int(input(\"Introduce un numero : \"))\n",
    "y = int(input(\"Introduce un numero : \"))\n",
    "print(x*y)"
   ]
  },
  {
   "cell_type": "code",
   "execution_count": 43,
   "id": "7c7b2c59",
   "metadata": {},
   "outputs": [
    {
     "data": {
      "text/plain": [
       "'La palabra Level no es un Palindromo'"
      ]
     },
     "execution_count": 43,
     "metadata": {},
     "output_type": "execute_result"
    }
   ],
   "source": [
    "import numpy as np\n",
    "A = \"Level\"\n",
    "B = \"level\"\n",
    "def inver(A):\n",
    "    if A == A[::-1]:\n",
    "        return f\"La palabra {A} es un Palindromo\"\n",
    "    else:\n",
    "        return f\"La palabra {A} no es un Palindromo\"          \n",
    "inver(A)                  "
   ]
  },
  {
   "cell_type": "code",
   "execution_count": 78,
   "id": "24dbf5dc",
   "metadata": {},
   "outputs": [
    {
     "name": "stdout",
     "output_type": "stream",
     "text": [
      "['l', 'e', 'v', 'e', 'L']\n"
     ]
    }
   ],
   "source": [
    "A = \"Level\"\n",
    "B = \"level\"\n",
    "def Palindromo(A):\n",
    "    A1 =[]\n",
    "    i = -1\n",
    "    while len(A1) < len(A):  \n",
    "        A1.append(A[i])\n",
    "        i-=1\n",
    "    return A1\n",
    "print(Palindromo(A))"
   ]
  },
  {
   "cell_type": "code",
   "execution_count": 81,
   "id": "183ff4da",
   "metadata": {},
   "outputs": [
    {
     "ename": "NameError",
     "evalue": "name 'A1' is not defined",
     "output_type": "error",
     "traceback": [
      "\u001b[0;31m---------------------------------------------------------------------------\u001b[0m",
      "\u001b[0;31mNameError\u001b[0m                                 Traceback (most recent call last)",
      "Input \u001b[0;32mIn [81]\u001b[0m, in \u001b[0;36m<cell line: 7>\u001b[0;34m()\u001b[0m\n\u001b[1;32m      5\u001b[0m             diferentes \u001b[38;5;241m+\u001b[39m\u001b[38;5;241m=\u001b[39m\u001b[38;5;241m1\u001b[39m\n\u001b[1;32m      6\u001b[0m     \u001b[38;5;28;01mreturn\u001b[39;00m diferentes\n\u001b[0;32m----> 7\u001b[0m numero_diferente \u001b[38;5;241m=\u001b[39m comparar(A,\u001b[43mA1\u001b[49m)\n\u001b[1;32m      8\u001b[0m \u001b[38;5;28;01mif\u001b[39;00m numero_diferente \u001b[38;5;241m==\u001b[39m \u001b[38;5;241m0\u001b[39m:\n\u001b[1;32m      9\u001b[0m     \u001b[38;5;28mprint\u001b[39m(\u001b[38;5;124m\"\u001b[39m\u001b[38;5;124mPalindromo\u001b[39m\u001b[38;5;124m\"\u001b[39m)\n",
      "\u001b[0;31mNameError\u001b[0m: name 'A1' is not defined"
     ]
    }
   ],
   "source": [
    "def comparar(A, A1):\n",
    "    diferentes = 0\n",
    "    for i in range(len(A)):\n",
    "        if A[i] != A1[i]:\n",
    "            diferentes +=1\n",
    "    return diferentes\n",
    "numero_diferente = comparar(A,A1)\n",
    "if numero_diferente == 0:\n",
    "    print(\"Palindromo\")\n",
    "else:\n",
    "    print(\"No Palindromo\")\n",
    "    print(f\"Tenemos{numero_diferente} elementos diferentes\")\n",
    "       "
   ]
  },
  {
   "cell_type": "code",
   "execution_count": 80,
   "id": "cf8ce3d9",
   "metadata": {},
   "outputs": [
    {
     "name": "stdout",
     "output_type": "stream",
     "text": [
      "['H', '!']\n"
     ]
    }
   ],
   "source": [
    "\n",
    "S1 = \"Hi!\"\n",
    "S2 = \"Hello!\"\n",
    "def iguales(S1,S2):\n",
    "    lista = []\n",
    "    for i in S1:\n",
    "        for j in S2:\n",
    "            if i == j:\n",
    "                lista.append(i)\n",
    "    return lista           \n",
    "print(iguales(S1,S2))            "
   ]
  },
  {
   "cell_type": "code",
   "execution_count": 82,
   "id": "a6a05e61",
   "metadata": {},
   "outputs": [
    {
     "name": "stdout",
     "output_type": "stream",
     "text": [
      "['H', '!']\n"
     ]
    }
   ],
   "source": [
    "\n",
    "S1 = \"Hi!\"\n",
    "S2 = \"Hello!\"\n",
    "def iguales(S1,S2):\n",
    "    lista = []\n",
    "    for i in S1:\n",
    "        if i in S2:\n",
    "            lista.append(i)\n",
    "    return lista           \n",
    "print(iguales(S1,S2)) "
   ]
  },
  {
   "cell_type": "code",
   "execution_count": 84,
   "id": "e5182049",
   "metadata": {},
   "outputs": [
    {
     "name": "stdout",
     "output_type": "stream",
     "text": [
      "['H', '!']\n"
     ]
    }
   ],
   "source": [
    "\n",
    "S1 = \"Hi!\"\n",
    "S2 = \"Hello!\"\n",
    "def iguales(S1,S2):\n",
    "    sin_coincidencia = [] \n",
    "    for i in S1:\n",
    "        for j in S2:\n",
    "            if i == j and i not in sin_coincidencia:\n",
    "                sin_coincidencia.append(i)\n",
    "    return sin_coincidencia           \n",
    "print(iguales(S1,S2))            "
   ]
  },
  {
   "cell_type": "code",
   "execution_count": null,
   "id": "464f567c",
   "metadata": {},
   "outputs": [],
   "source": []
  }
 ],
 "metadata": {
  "kernelspec": {
   "display_name": "Python 3 (ipykernel)",
   "language": "python",
   "name": "python3"
  },
  "language_info": {
   "codemirror_mode": {
    "name": "ipython",
    "version": 3
   },
   "file_extension": ".py",
   "mimetype": "text/x-python",
   "name": "python",
   "nbconvert_exporter": "python",
   "pygments_lexer": "ipython3",
   "version": "3.8.10"
  }
 },
 "nbformat": 4,
 "nbformat_minor": 5
}
