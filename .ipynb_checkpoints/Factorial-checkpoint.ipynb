{
 "cells": [
  {
   "cell_type": "code",
   "execution_count": 2,
   "id": "d9144511",
   "metadata": {},
   "outputs": [
    {
     "name": "stdout",
     "output_type": "stream",
     "text": [
      "Introduce un numero para saber su factorial: 5\n"
     ]
    },
    {
     "data": {
      "text/plain": [
       "120"
      ]
     },
     "execution_count": 2,
     "metadata": {},
     "output_type": "execute_result"
    }
   ],
   "source": [
    "import numpy as np\n",
    "numero = int(input(\"Introduce un numero para saber su factorial: \"))\n",
    "def factorial(numero):\n",
    "    listado = np.arange(1,numero + 1).tolist()\n",
    "    producto = 1\n",
    "    for i in listado:\n",
    "        producto = producto * i\n",
    "    return producto \n",
    "factorial(numero)"
   ]
  },
  {
   "cell_type": "code",
   "execution_count": null,
   "id": "bd521333",
   "metadata": {},
   "outputs": [],
   "source": []
  }
 ],
 "metadata": {
  "kernelspec": {
   "display_name": "Python 3 (ipykernel)",
   "language": "python",
   "name": "python3"
  },
  "language_info": {
   "codemirror_mode": {
    "name": "ipython",
    "version": 3
   },
   "file_extension": ".py",
   "mimetype": "text/x-python",
   "name": "python",
   "nbconvert_exporter": "python",
   "pygments_lexer": "ipython3",
   "version": "3.8.10"
  }
 },
 "nbformat": 4,
 "nbformat_minor": 5
}
