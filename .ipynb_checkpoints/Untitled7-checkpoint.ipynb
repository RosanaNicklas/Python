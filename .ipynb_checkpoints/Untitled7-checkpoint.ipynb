{
 "cells": [
  {
   "cell_type": "code",
   "execution_count": null,
   "id": "931fc703",
   "metadata": {},
   "outputs": [],
   "source": [
    "\n",
    "# EJERCICIO 1\n",
    "\n",
    "\"\"\"\n",
    "    Decribe una variable con nombre \"notas\" que tenga el valor -3\n",
    "    muestra su valor\n",
    "\"\"\"\n",
    "\n",
    "notas = -3\n",
    "print(notas)"
   ]
  },
  {
   "cell_type": "code",
   "execution_count": 1,
   "id": "6af47d68",
   "metadata": {},
   "outputs": [
    {
     "data": {
      "text/plain": [
       "-3"
      ]
     },
     "execution_count": 1,
     "metadata": {},
     "output_type": "execute_result"
    }
   ],
   "source": [
    "notas = -3\n",
    "notas"
   ]
  },
  {
   "cell_type": "code",
   "execution_count": 4,
   "id": "85b80ce6",
   "metadata": {},
   "outputs": [
    {
     "data": {
      "text/plain": [
       "'Juan\"El profesor\"'"
      ]
     },
     "execution_count": 4,
     "metadata": {},
     "output_type": "execute_result"
    }
   ],
   "source": [
    "# EJERCICIO 3\n",
    "\n",
    "\"\"\"\n",
    "    Declarar una variable con nombre \"name\",\n",
    "    que tenga el valor de Juan \"El profesor\"\n",
    "\"\"\"\n",
    "name = 'Juan\"El profesor\"'\n",
    "name"
   ]
  },
  {
   "cell_type": "code",
   "execution_count": null,
   "id": "8153ed88",
   "metadata": {},
   "outputs": [],
   "source": [
    "\n",
    "# EJERCICIO 2\n",
    "\n",
    "\"\"\"\n",
    "    Imprime los valores de \"s\" es igual 25, de \"y\" es igual a 10, poniendo la siguiente salida:\n",
    "    El valor de \"s\" es \"valor de s\" y el valor de y es \"valor de y\"\n",
    "\"\"\"\n",
    "\n",
    "s = 25\n",
    "y = 10\n",
    "print(f'el valor de s es {s} y el valor de y es {y}')\n",
    "print('el valor de s es ' + str(s) + ' y el valor de y es ' + str(y))\n",
    "print('el valor de s es ', s, ' y el valor de y es ', y)\n",
    "print(f'el valor de s es %s y el valor de y es %s' %(s, y))"
   ]
  },
  {
   "cell_type": "code",
   "execution_count": 7,
   "id": "7a6e58bb",
   "metadata": {},
   "outputs": [
    {
     "name": "stdout",
     "output_type": "stream",
     "text": [
      "El valor de s es 25 y el valor de y es 10\n",
      "El valor de s es 25 y el valor de y es 10\n",
      "El valor de s es 25 y el valor de y es 10\n"
     ]
    }
   ],
   "source": [
    "s = 25\n",
    "y = 10\n",
    "print(f'El valor de s es {s} y el valor de y es {y}')\n",
    "print(\"El valor de s es \" + str(s) + \" y el valor de y es \" + str(y))\n",
    "print(f\"El valor de s es %s y el valor de y es %s\" %(s,y))"
   ]
  },
  {
   "cell_type": "code",
   "execution_count": null,
   "id": "357f6e9a",
   "metadata": {},
   "outputs": [],
   "source": [
    "# EJERCICIO 4\n",
    "\n",
    "\"\"\"\n",
    "    Concatena las siguientes palabras formando un sola:\n",
    "    Juan \"El profesor\"\n",
    "\"\"\""
   ]
  },
  {
   "cell_type": "code",
   "execution_count": 8,
   "id": "cc75e94b",
   "metadata": {},
   "outputs": [
    {
     "data": {
      "text/plain": [
       "'Juan\"El profesor\"'"
      ]
     },
     "execution_count": 8,
     "metadata": {},
     "output_type": "execute_result"
    }
   ],
   "source": [
    "palabra = 'Juan\"El profesor\"'\n",
    "palabra"
   ]
  },
  {
   "cell_type": "code",
   "execution_count": null,
   "id": "4f53e76e",
   "metadata": {},
   "outputs": [],
   "source": [
    "\n",
    "# EJERCICIO 5\n",
    "\n",
    "\"\"\"\n",
    "    Teniendo la siguientes palabras: no cuentes los días, haz que los días cuenten\n",
    "     · Pon las primeras letras de cada palabra en mayúsculas\n",
    "     · Pon todas las letras en mayúsculas\n",
    "     · Pon todas las letras en minúculas"
   ]
  },
  {
   "cell_type": "code",
   "execution_count": 9,
   "id": "f72df281",
   "metadata": {},
   "outputs": [
    {
     "name": "stdout",
     "output_type": "stream",
     "text": [
      "no cuentes los días, haz que los días cuenten\n",
      "NO CUENTES LOS DÍAS, HAZ QUE LOS DÍAS CUENTEN\n",
      "No Cuentes Los Días, Haz Que Los Días Cuenten\n"
     ]
    }
   ],
   "source": [
    "palabras = \"no cuentes los días, haz que los días cuenten\"\n",
    "print(palabras.lower())\n",
    "print(palabras.upper())\n",
    "print(palabras.title())"
   ]
  },
  {
   "cell_type": "code",
   "execution_count": null,
   "id": "f3f7dbad",
   "metadata": {},
   "outputs": [],
   "source": [
    "\n",
    "# EJERCICIO 6\n",
    "\n",
    "\"\"\"\n",
    "    Realiza la suma de 26 y 35\n",
    "    Realiza la multiplicación de 26 y 35\n",
    "    Realiza la operación de 2 + 32 por 10\n",
    "    Saca el resultado de 3 elevado a 9\n",
    "    Redondea el resultado anterior a dos decimales\n",
    "    Muestra de que tipo se trata\n",
    "\"\"\""
   ]
  },
  {
   "cell_type": "code",
   "execution_count": 57,
   "id": "24a19067",
   "metadata": {},
   "outputs": [
    {
     "name": "stdout",
     "output_type": "stream",
     "text": [
      "61\n",
      "910\n",
      "322\n",
      "19683\n"
     ]
    },
    {
     "data": {
      "text/plain": [
       "int"
      ]
     },
     "execution_count": 57,
     "metadata": {},
     "output_type": "execute_result"
    }
   ],
   "source": [
    "print(26 + 35)\n",
    "print(26 * 35)\n",
    "print( 2 + (32 * 10))\n",
    "elevado = 3**9\n",
    "print(elevado)\n",
    "type(elevado)"
   ]
  },
  {
   "cell_type": "code",
   "execution_count": 58,
   "id": "6e770de3",
   "metadata": {},
   "outputs": [],
   "source": [
    "def elevado(x,y):\n",
    "    result = x**y\n",
    "    return result"
   ]
  },
  {
   "cell_type": "code",
   "execution_count": 59,
   "id": "e736420e",
   "metadata": {},
   "outputs": [],
   "source": [
    "def redondeo(value):\n",
    "    print(round(value,2))"
   ]
  },
  {
   "cell_type": "code",
   "execution_count": 60,
   "id": "30de5458",
   "metadata": {},
   "outputs": [],
   "source": [
    "def tipo(value):\n",
    "    print(type(value))"
   ]
  },
  {
   "cell_type": "code",
   "execution_count": 64,
   "id": "42e5cf84",
   "metadata": {},
   "outputs": [
    {
     "name": "stdout",
     "output_type": "stream",
     "text": [
      "19683\n",
      "19683\n",
      "None\n",
      "<class 'function'>\n",
      "None\n"
     ]
    }
   ],
   "source": [
    "print(elevado(3,9))\n",
    "print(redondeo(elevado(3,9)))\n",
    "print(tipo(elevado))\n"
   ]
  },
  {
   "cell_type": "code",
   "execution_count": 13,
   "id": "93f9bff9",
   "metadata": {},
   "outputs": [
    {
     "ename": "SyntaxError",
     "evalue": "EOF while scanning triple-quoted string literal (1426852886.py, line 5)",
     "output_type": "error",
     "traceback": [
      "\u001b[0;36m  Input \u001b[0;32mIn [13]\u001b[0;36m\u001b[0m\n\u001b[0;31m    Muestra el máximo y el mínimo de (3, -6, 4, -10, 2.6666)\u001b[0m\n\u001b[0m                                                            \n^\u001b[0m\n\u001b[0;31mSyntaxError\u001b[0m\u001b[0;31m:\u001b[0m EOF while scanning triple-quoted string literal\n"
     ]
    }
   ],
   "source": [
    "\n",
    "# EJERCICIO 7\n",
    "\n",
    "\"\"\"\n",
    "    Saca el valor absoluto de -32\n",
    "    Muestra el máximo y el mínimo de (3, -6, 4, -10, 2.6666)"
   ]
  },
  {
   "cell_type": "code",
   "execution_count": 14,
   "id": "35c79c19",
   "metadata": {},
   "outputs": [
    {
     "name": "stdout",
     "output_type": "stream",
     "text": [
      "32\n"
     ]
    }
   ],
   "source": [
    "print(abs(-32))"
   ]
  },
  {
   "cell_type": "code",
   "execution_count": 15,
   "id": "45276eb2",
   "metadata": {},
   "outputs": [
    {
     "data": {
      "text/plain": [
       "(3, -6, 4, -10, 2.6666)"
      ]
     },
     "execution_count": 15,
     "metadata": {},
     "output_type": "execute_result"
    }
   ],
   "source": [
    "l = (3, -6, 4, -10, 2.6666)\n",
    "l"
   ]
  },
  {
   "cell_type": "code",
   "execution_count": 16,
   "id": "cbdb39cd",
   "metadata": {},
   "outputs": [
    {
     "name": "stdout",
     "output_type": "stream",
     "text": [
      "-10\n",
      "4\n"
     ]
    }
   ],
   "source": [
    "print(min(l))\n",
    "print(max(l))"
   ]
  },
  {
   "cell_type": "code",
   "execution_count": null,
   "id": "8d21bd2c",
   "metadata": {},
   "outputs": [],
   "source": [
    "\n",
    "# EJERCICIO 8\n",
    "\n",
    "\"\"\"\n",
    "    Tratar de reemplazar los valores que faltan en este listado --> por un -1\n",
    "    L = [10, None, 8, 5, None, 20]\n",
    "    1) Hazlo de la forma más fácil posible teniendo en cuenta la posición (index) de esos valores.\n",
    "    2) Crea un dataframe con esos valores (L = [10, None, 8, 5, None, 20])\n",
    "\"\"\""
   ]
  },
  {
   "cell_type": "code",
   "execution_count": 17,
   "id": "9ec55837",
   "metadata": {},
   "outputs": [
    {
     "data": {
      "text/plain": [
       "[10, None, 8, 5, None, 20]"
      ]
     },
     "execution_count": 17,
     "metadata": {},
     "output_type": "execute_result"
    }
   ],
   "source": [
    "L = [10, None, 8, 5, None, 20]\n",
    "L"
   ]
  },
  {
   "cell_type": "code",
   "execution_count": 18,
   "id": "91f614b3",
   "metadata": {},
   "outputs": [
    {
     "data": {
      "text/plain": [
       "[10, -1, 8, 5, -1, 20]"
      ]
     },
     "execution_count": 18,
     "metadata": {},
     "output_type": "execute_result"
    }
   ],
   "source": [
    "L[1]= -1\n",
    "L[4]= -1\n",
    "L"
   ]
  },
  {
   "cell_type": "code",
   "execution_count": 19,
   "id": "1d6b58f1",
   "metadata": {},
   "outputs": [
    {
     "name": "stdout",
     "output_type": "stream",
     "text": [
      "[10, -1, 8, 5, -1, 20]\n"
     ]
    }
   ],
   "source": [
    "for i in L:\n",
    "    if i == None:\n",
    "        i = -1\n",
    "print(L)        "
   ]
  },
  {
   "cell_type": "code",
   "execution_count": 29,
   "id": "7375d00c",
   "metadata": {},
   "outputs": [
    {
     "data": {
      "text/html": [
       "<div>\n",
       "<style scoped>\n",
       "    .dataframe tbody tr th:only-of-type {\n",
       "        vertical-align: middle;\n",
       "    }\n",
       "\n",
       "    .dataframe tbody tr th {\n",
       "        vertical-align: top;\n",
       "    }\n",
       "\n",
       "    .dataframe thead th {\n",
       "        text-align: right;\n",
       "    }\n",
       "</style>\n",
       "<table border=\"1\" class=\"dataframe\">\n",
       "  <thead>\n",
       "    <tr style=\"text-align: right;\">\n",
       "      <th></th>\n",
       "      <th>0</th>\n",
       "    </tr>\n",
       "  </thead>\n",
       "  <tbody>\n",
       "    <tr>\n",
       "      <th>0</th>\n",
       "      <td>10</td>\n",
       "    </tr>\n",
       "    <tr>\n",
       "      <th>1</th>\n",
       "      <td>-1</td>\n",
       "    </tr>\n",
       "    <tr>\n",
       "      <th>2</th>\n",
       "      <td>8</td>\n",
       "    </tr>\n",
       "    <tr>\n",
       "      <th>3</th>\n",
       "      <td>5</td>\n",
       "    </tr>\n",
       "    <tr>\n",
       "      <th>4</th>\n",
       "      <td>-1</td>\n",
       "    </tr>\n",
       "    <tr>\n",
       "      <th>5</th>\n",
       "      <td>20</td>\n",
       "    </tr>\n",
       "  </tbody>\n",
       "</table>\n",
       "</div>"
      ],
      "text/plain": [
       "    0\n",
       "0  10\n",
       "1  -1\n",
       "2   8\n",
       "3   5\n",
       "4  -1\n",
       "5  20"
      ]
     },
     "execution_count": 29,
     "metadata": {},
     "output_type": "execute_result"
    }
   ],
   "source": [
    "import pandas as pd\n",
    "df = pd.DataFrame(L)\n",
    "df"
   ]
  },
  {
   "cell_type": "markdown",
   "id": "8f175b68",
   "metadata": {},
   "source": [
    "Ejercicio 1\n",
    "Dado el siguiente listado: [\"Python\", \"Matlab\", \"R\", \"VBA\", \"Julia\", \"C++\"].\n",
    "Modifica con un algoritmo ese listado.\n",
    "Cuando encuentre Python debe poner un 1\n",
    "y cuando encuentre otro lenguaje de programacion, un 0\n",
    "es un simple ejemplo de modificación de valores en una lista"
   ]
  },
  {
   "cell_type": "code",
   "execution_count": 66,
   "id": "643bc205",
   "metadata": {},
   "outputs": [
    {
     "data": {
      "text/plain": [
       "['Python', 'Matlab', 'R', 'VBA', 'Julia', 'C++']"
      ]
     },
     "execution_count": 66,
     "metadata": {},
     "output_type": "execute_result"
    }
   ],
   "source": [
    "languages = [\"Python\", \"Matlab\", \"R\", \"VBA\", \"Julia\", \"C++\"]  \n",
    "languages    "
   ]
  },
  {
   "cell_type": "code",
   "execution_count": 67,
   "id": "3639080a",
   "metadata": {},
   "outputs": [
    {
     "data": {
      "text/plain": [
       "[1, 0, 0, 0, 0, 0]"
      ]
     },
     "execution_count": 67,
     "metadata": {},
     "output_type": "execute_result"
    }
   ],
   "source": [
    "\n",
    "for i in range(len(languages)):\n",
    "    if languages[i] == \"Python\":\n",
    "        languages[i] = 1\n",
    "    else:\n",
    "        languages[i] = 0   \n",
    "languages       "
   ]
  },
  {
   "cell_type": "raw",
   "id": "fcca944e",
   "metadata": {},
   "source": [
    "\n",
    "# EJERCICIO 2\n",
    "\n",
    "\"\"\"\n",
    "    Dada la siguiente lista:\n",
    "    L = [10, None, 8, 5, None, 20]\n",
    "\"\"\"\n",
    "    # 1) Susitituir por -1 el valor None usando bucles y listas\n",
    "    # 2) Creamos un dataframe con los valores de la lista y\n",
    "    #     modificamos los \"NaN\" por un valor de -1 (Valores nulos, suma, etc..)\n",
    "    # 3) Vuelve a escribir el listado con falta de valores (inicial),\n",
    "    #     y sustituye por la media.\n",
    "    # 4) Apendiza la columna con estos valores\n",
    "    #     listado2 = [10, 20, 50, 30, 20, 0]\n",
    "    # 5) Elimina la columna L"
   ]
  },
  {
   "cell_type": "code",
   "execution_count": null,
   "id": "5b25bc9c",
   "metadata": {},
   "outputs": [],
   "source": []
  },
  {
   "cell_type": "markdown",
   "id": "ac4e8f83",
   "metadata": {},
   "source": [
    "\n",
    "\n",
    "# EJERCICIO 3\n",
    "\n",
    "\"\"\"\n",
    "    Crear un listado con los siguientes numeros:\n",
    "        10, 20, 30, 40 (nombra la lista con nombre: \"listado\")\n",
    "\"\"\"\n",
    "    # 1) Crea el listado e imprimelo:\n",
    "    # 2) Apendiza el valor 50 ( si es posible)\n",
    "    # 3) Modifica (si es posible) el valor 10 por 100"
   ]
  },
  {
   "cell_type": "code",
   "execution_count": null,
   "id": "c04f8931",
   "metadata": {},
   "outputs": [],
   "source": []
  },
  {
   "cell_type": "markdown",
   "id": "41b1cfcc",
   "metadata": {},
   "source": [
    "# EJERCICIO 4\n",
    "\n",
    "\"\"\"\n",
    "    Da una lista de nombre \"Temperatura\" con valores: 10, 20, 30, 40, 50\n",
    "\"\"\"\n",
    "    # 1) Crea el listado e imprimelo:\n",
    "    # 2) En este \"Temperatura\". ¿Cuál es el elemento en la posición (index) 1?\n",
    "    # 3) ¿Y en la posición (index) 0?\n",
    "    # 4) ¿Y en la posición (index) -1?"
   ]
  },
  {
   "cell_type": "code",
   "execution_count": null,
   "id": "b93dfa83",
   "metadata": {},
   "outputs": [],
   "source": []
  },
  {
   "cell_type": "code",
   "execution_count": null,
   "id": "1f8d40c7",
   "metadata": {},
   "outputs": [],
   "source": []
  }
 ],
 "metadata": {
  "kernelspec": {
   "display_name": "Python 3 (ipykernel)",
   "language": "python",
   "name": "python3"
  },
  "language_info": {
   "codemirror_mode": {
    "name": "ipython",
    "version": 3
   },
   "file_extension": ".py",
   "mimetype": "text/x-python",
   "name": "python",
   "nbconvert_exporter": "python",
   "pygments_lexer": "ipython3",
   "version": "3.8.10"
  }
 },
 "nbformat": 4,
 "nbformat_minor": 5
}
