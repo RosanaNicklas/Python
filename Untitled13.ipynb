{
 "cells": [
  {
   "cell_type": "code",
   "execution_count": 9,
   "id": "9afbc7cb",
   "metadata": {},
   "outputs": [],
   "source": [
    "import numpy as np\n",
    "matriz1 = np.array([[1,2],[3,4]])\n",
    "\n",
    "matriz2 = np.array([[1,2],[3,8]])"
   ]
  },
  {
   "cell_type": "code",
   "execution_count": 18,
   "id": "9dccb188",
   "metadata": {},
   "outputs": [
    {
     "data": {
      "text/plain": [
       "'hay 1 elementos diferentes'"
      ]
     },
     "execution_count": 18,
     "metadata": {},
     "output_type": "execute_result"
    }
   ],
   "source": [
    "\n",
    "def testi(contador):    \n",
    "    if contador > 0:\n",
    "        return f\"hay {contador} elementos diferentes\" \n",
    "    else:\n",
    "        return \"Las matrices son iguales\"\n",
    "\n",
    "\n",
    "\n",
    "def comparacion(matriz1, matriz2):\n",
    "    contador = 0\n",
    "    for i in range(2):\n",
    "        for j in range(2):\n",
    "            if matriz1[i][j] != matriz2[i][j]:\n",
    "                contador+= 1\n",
    "    return testi(contador)\n",
    "    \n",
    "comparacion(matriz1, matriz2)  \n",
    "\n",
    "\n"
   ]
  },
  {
   "cell_type": "code",
   "execution_count": 12,
   "id": "3d7c01fa",
   "metadata": {},
   "outputs": [],
   "source": [
    "\n",
    "matriz1 = np.array([[1,2],[3,4]])\n",
    "\n",
    "matriz2 = np.array([[1,2],[3,8]])"
   ]
  },
  {
   "cell_type": "code",
   "execution_count": 14,
   "id": "e884bfea",
   "metadata": {},
   "outputs": [
    {
     "name": "stdout",
     "output_type": "stream",
     "text": [
      "False\n"
     ]
    }
   ],
   "source": [
    "def comparacion_matrices(matriz1, matriz2):\n",
    "    return(matriz1 == matriz2).all()\n",
    "print(comparacion_matrices(matriz1,matriz2))"
   ]
  },
  {
   "cell_type": "code",
   "execution_count": null,
   "id": "cd01a02e",
   "metadata": {},
   "outputs": [],
   "source": []
  }
 ],
 "metadata": {
  "kernelspec": {
   "display_name": "Python 3 (ipykernel)",
   "language": "python",
   "name": "python3"
  },
  "language_info": {
   "codemirror_mode": {
    "name": "ipython",
    "version": 3
   },
   "file_extension": ".py",
   "mimetype": "text/x-python",
   "name": "python",
   "nbconvert_exporter": "python",
   "pygments_lexer": "ipython3",
   "version": "3.8.10"
  }
 },
 "nbformat": 4,
 "nbformat_minor": 5
}
