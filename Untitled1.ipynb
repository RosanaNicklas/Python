{
 "cells": [
  {
   "cell_type": "code",
   "execution_count": 1,
   "id": "fb979b43",
   "metadata": {},
   "outputs": [],
   "source": [
    "import random"
   ]
  },
  {
   "cell_type": "code",
   "execution_count": 10,
   "id": "6d20d32e",
   "metadata": {},
   "outputs": [
    {
     "name": "stdout",
     "output_type": "stream",
     "text": [
      "Tails\n",
      "Tails\n",
      "Tails\n",
      "Tails\n",
      "Heads\n",
      "Tails\n",
      "Heads\n",
      "Tails\n",
      "['Tails', 'Tails', 'Tails', 'Tails', 'Heads', 'Tails', 'Heads', 'Tails']\n",
      "26\n"
     ]
    }
   ],
   "source": [
    "\n",
    "def coinToss(number):\n",
    "    recordList, heads, tails = [], 0, 0 # multiple assignment\n",
    "    for i in range(number): # do this 'number' amount of times\n",
    "         flip = random.randint(0, 1)\n",
    "         if (flip == 0):\n",
    "              print(\"Heads\")\n",
    "              recordList.append(\"Heads\")\n",
    "         else:\n",
    "              print(\"Tails\")\n",
    "              recordList.append(\"Tails\")\n",
    "    print(str(recordList))\n",
    "    print(str(recordList.count(\"Heads\")) + str(recordList.count(\"Tails\")))\n",
    "    \n",
    "coinToss(8)    "
   ]
  },
  {
   "cell_type": "code",
   "execution_count": 12,
   "id": "615b4d40",
   "metadata": {},
   "outputs": [
    {
     "name": "stdout",
     "output_type": "stream",
     "text": [
      "[1, 1, 2, 2, 3, 3, 3, 3]\n"
     ]
    },
    {
     "data": {
      "text/plain": [
       "list"
      ]
     },
     "execution_count": 12,
     "metadata": {},
     "output_type": "execute_result"
    }
   ],
   "source": [
    "list =[1,1,2,2,3,3,3,3]\n",
    "print(str(list))\n",
    "type(list)"
   ]
  },
  {
   "cell_type": "code",
   "execution_count": 18,
   "id": "0c2e82f0",
   "metadata": {},
   "outputs": [],
   "source": [
    "sert=set(list)\n"
   ]
  },
  {
   "cell_type": "code",
   "execution_count": 19,
   "id": "ea14a739",
   "metadata": {},
   "outputs": [
    {
     "name": "stdout",
     "output_type": "stream",
     "text": [
      "<class 'set'>\n"
     ]
    }
   ],
   "source": [
    "print(type(sert))"
   ]
  },
  {
   "cell_type": "code",
   "execution_count": null,
   "id": "83874c58",
   "metadata": {},
   "outputs": [],
   "source": [
    "def lanzar_moneda():\n",
    "    tiradas=[]\n",
    "    cara = 0\n",
    "    cruz = 0\n",
    "    jugada = 0\n",
    "    while jugada <=0:\n",
    "        flip = random.choice('+','-')\n",
    "        print(flip)\n",
    "        tiradas.append(flip)\n",
    "        jugada +=1\n",
    "        if len(tiradas)>= 3 and tiradas[-3] == tiradas[-2] == tiradas[-1]\n",
    "            break\n",
    "  \n",
    "            \n",
    "   \n",
    "    \n",
    "lanzar_moneda()    \n",
    "            \n",
    "            \n",
    "            \n",
    "            \n",
    "            \n",
    "            \n",
    "        \n",
    "        "
   ]
  },
  {
   "cell_type": "code",
   "execution_count": null,
   "id": "399ef245",
   "metadata": {},
   "outputs": [],
   "source": []
  },
  {
   "cell_type": "code",
   "execution_count": null,
   "id": "87638d7c",
   "metadata": {},
   "outputs": [],
   "source": []
  }
 ],
 "metadata": {
  "kernelspec": {
   "display_name": "Python 3 (ipykernel)",
   "language": "python",
   "name": "python3"
  },
  "language_info": {
   "codemirror_mode": {
    "name": "ipython",
    "version": 3
   },
   "file_extension": ".py",
   "mimetype": "text/x-python",
   "name": "python",
   "nbconvert_exporter": "python",
   "pygments_lexer": "ipython3",
   "version": "3.9.7"
  }
 },
 "nbformat": 4,
 "nbformat_minor": 5
}
