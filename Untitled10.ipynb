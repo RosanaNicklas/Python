{
 "cells": [
  {
   "cell_type": "code",
   "execution_count": 1,
   "id": "50d3f5ec",
   "metadata": {},
   "outputs": [
    {
     "data": {
      "text/plain": [
       "'hola como estas?'"
      ]
     },
     "execution_count": 1,
     "metadata": {},
     "output_type": "execute_result"
    }
   ],
   "source": [
    "cadena = \"hola como estas?\"\n",
    "cadena"
   ]
  },
  {
   "cell_type": "code",
   "execution_count": 2,
   "id": "e233dda1",
   "metadata": {},
   "outputs": [
    {
     "data": {
      "text/plain": [
       "16"
      ]
     },
     "execution_count": 2,
     "metadata": {},
     "output_type": "execute_result"
    }
   ],
   "source": [
    "len(cadena)"
   ]
  },
  {
   "cell_type": "code",
   "execution_count": 4,
   "id": "ba2f2c9b",
   "metadata": {},
   "outputs": [
    {
     "name": "stdout",
     "output_type": "stream",
     "text": [
      "16\n"
     ]
    }
   ],
   "source": [
    "contador = 0\n",
    "for i in cadena:\n",
    "    contador +=1\n",
    "print(contador)    "
   ]
  },
  {
   "cell_type": "code",
   "execution_count": null,
   "id": "a58ede29",
   "metadata": {},
   "outputs": [],
   "source": [
    "def longitud(cadena):\n",
    "    contador = 0\n",
    "    for letra in cadena:\n",
    "        contador +=1\n",
    "    return contador\n",
    "longitud(cadena)"
   ]
  },
  {
   "cell_type": "code",
   "execution_count": 5,
   "id": "7aa7e054",
   "metadata": {},
   "outputs": [
    {
     "data": {
      "text/plain": [
       "{'Python': 10, 'Big Data': 8, 'NLP': 6}"
      ]
     },
     "execution_count": 5,
     "metadata": {},
     "output_type": "execute_result"
    }
   ],
   "source": [
    "notas = {'Python': 10,\n",
    " 'Big Data': 8,\n",
    " 'NLP': 6}\n",
    "notas"
   ]
  },
  {
   "cell_type": "code",
   "execution_count": 11,
   "id": "0d32ed6b",
   "metadata": {},
   "outputs": [
    {
     "data": {
      "text/plain": [
       "[10, 8, 6]"
      ]
     },
     "execution_count": 11,
     "metadata": {},
     "output_type": "execute_result"
    }
   ],
   "source": [
    "values = [value for value in notas.values()]\n",
    "values"
   ]
  },
  {
   "cell_type": "code",
   "execution_count": 12,
   "id": "3b6d616c",
   "metadata": {},
   "outputs": [
    {
     "data": {
      "text/plain": [
       "8.0"
      ]
     },
     "execution_count": 12,
     "metadata": {},
     "output_type": "execute_result"
    }
   ],
   "source": [
    "media = sum(values) / len(values)\n",
    "media"
   ]
  },
  {
   "cell_type": "code",
   "execution_count": 13,
   "id": "14ce1d4d",
   "metadata": {},
   "outputs": [
    {
     "data": {
      "text/plain": [
       "dict_keys(['Python', 'Big Data', 'NLP'])"
      ]
     },
     "execution_count": 13,
     "metadata": {},
     "output_type": "execute_result"
    }
   ],
   "source": [
    "notas.keys()"
   ]
  },
  {
   "cell_type": "code",
   "execution_count": 14,
   "id": "bde681dc",
   "metadata": {},
   "outputs": [
    {
     "data": {
      "text/plain": [
       "dict_values([10, 8, 6])"
      ]
     },
     "execution_count": 14,
     "metadata": {},
     "output_type": "execute_result"
    }
   ],
   "source": [
    "notas.values()"
   ]
  },
  {
   "cell_type": "code",
   "execution_count": 15,
   "id": "f475c3c5",
   "metadata": {},
   "outputs": [
    {
     "data": {
      "text/plain": [
       "{'Python': 10, 'Big Data': 8, 'NLP': 6, 'Machine Learning': 9}"
      ]
     },
     "execution_count": 15,
     "metadata": {},
     "output_type": "execute_result"
    }
   ],
   "source": [
    "notas[\"Machine Learning\"] = 9\n",
    "notas"
   ]
  },
  {
   "cell_type": "code",
   "execution_count": 17,
   "id": "3be51286",
   "metadata": {},
   "outputs": [
    {
     "name": "stdout",
     "output_type": "stream",
     "text": [
      "[['Python', 10], ['Big Data', 8], ['NLP', 6], ['Machine Learning', 9]]\n"
     ]
    }
   ],
   "source": [
    "lista_nueva = []\n",
    "for key, value in notas.items():\n",
    "    list_item =[]\n",
    "    list_item.append(key)\n",
    "    list_item.append(value)\n",
    "    lista_nueva.append(list_item)\n",
    "print(lista_nueva)"
   ]
  },
  {
   "cell_type": "code",
   "execution_count": 22,
   "id": "e2f1b77d",
   "metadata": {},
   "outputs": [],
   "source": [
    "\n",
    "curso = [\"Python\", \"Big Data\", \"NLP\", \"Machine Learning\"]\n",
    "notas = [10, 8, 6, 9]"
   ]
  },
  {
   "cell_type": "code",
   "execution_count": 23,
   "id": "9cbddf6a",
   "metadata": {},
   "outputs": [
    {
     "data": {
      "text/plain": [
       "{'Asignaturas': ['Python', 'Big Data', 'NLP', 'Machine Learning'],\n",
       " 'Notas': [10, 8, 6, 9]}"
      ]
     },
     "execution_count": 23,
     "metadata": {},
     "output_type": "execute_result"
    }
   ],
   "source": [
    "diccionario = {\"Asignaturas\": curso, \"Notas\": notas}\n",
    "diccionario"
   ]
  },
  {
   "cell_type": "code",
   "execution_count": 24,
   "id": "0d0597a6",
   "metadata": {},
   "outputs": [
    {
     "data": {
      "text/html": [
       "<div>\n",
       "<style scoped>\n",
       "    .dataframe tbody tr th:only-of-type {\n",
       "        vertical-align: middle;\n",
       "    }\n",
       "\n",
       "    .dataframe tbody tr th {\n",
       "        vertical-align: top;\n",
       "    }\n",
       "\n",
       "    .dataframe thead th {\n",
       "        text-align: right;\n",
       "    }\n",
       "</style>\n",
       "<table border=\"1\" class=\"dataframe\">\n",
       "  <thead>\n",
       "    <tr style=\"text-align: right;\">\n",
       "      <th></th>\n",
       "      <th>Asignaturas</th>\n",
       "      <th>Notas</th>\n",
       "    </tr>\n",
       "  </thead>\n",
       "  <tbody>\n",
       "    <tr>\n",
       "      <th>0</th>\n",
       "      <td>Python</td>\n",
       "      <td>10</td>\n",
       "    </tr>\n",
       "    <tr>\n",
       "      <th>1</th>\n",
       "      <td>Big Data</td>\n",
       "      <td>8</td>\n",
       "    </tr>\n",
       "    <tr>\n",
       "      <th>2</th>\n",
       "      <td>NLP</td>\n",
       "      <td>6</td>\n",
       "    </tr>\n",
       "    <tr>\n",
       "      <th>3</th>\n",
       "      <td>Machine Learning</td>\n",
       "      <td>9</td>\n",
       "    </tr>\n",
       "  </tbody>\n",
       "</table>\n",
       "</div>"
      ],
      "text/plain": [
       "        Asignaturas  Notas\n",
       "0            Python     10\n",
       "1          Big Data      8\n",
       "2               NLP      6\n",
       "3  Machine Learning      9"
      ]
     },
     "execution_count": 24,
     "metadata": {},
     "output_type": "execute_result"
    }
   ],
   "source": [
    "import pandas as pd\n",
    "df =pd.DataFrame(diccionario)\n",
    "df"
   ]
  },
  {
   "cell_type": "code",
   "execution_count": 25,
   "id": "e67260f0",
   "metadata": {},
   "outputs": [
    {
     "data": {
      "text/html": [
       "<div>\n",
       "<style scoped>\n",
       "    .dataframe tbody tr th:only-of-type {\n",
       "        vertical-align: middle;\n",
       "    }\n",
       "\n",
       "    .dataframe tbody tr th {\n",
       "        vertical-align: top;\n",
       "    }\n",
       "\n",
       "    .dataframe thead th {\n",
       "        text-align: right;\n",
       "    }\n",
       "</style>\n",
       "<table border=\"1\" class=\"dataframe\">\n",
       "  <thead>\n",
       "    <tr style=\"text-align: right;\">\n",
       "      <th></th>\n",
       "      <th>Asignaturas</th>\n",
       "      <th>Notas</th>\n",
       "    </tr>\n",
       "  </thead>\n",
       "  <tbody>\n",
       "    <tr>\n",
       "      <th>0</th>\n",
       "      <td>Python</td>\n",
       "      <td>10</td>\n",
       "    </tr>\n",
       "    <tr>\n",
       "      <th>1</th>\n",
       "      <td>Big Data</td>\n",
       "      <td>8</td>\n",
       "    </tr>\n",
       "    <tr>\n",
       "      <th>2</th>\n",
       "      <td>NLP</td>\n",
       "      <td>6</td>\n",
       "    </tr>\n",
       "    <tr>\n",
       "      <th>3</th>\n",
       "      <td>Machine Learning</td>\n",
       "      <td>9</td>\n",
       "    </tr>\n",
       "  </tbody>\n",
       "</table>\n",
       "</div>"
      ],
      "text/plain": [
       "        Asignaturas  Notas\n",
       "0            Python     10\n",
       "1          Big Data      8\n",
       "2               NLP      6\n",
       "3  Machine Learning      9"
      ]
     },
     "execution_count": 25,
     "metadata": {},
     "output_type": "execute_result"
    }
   ],
   "source": [
    "df_mayor = df[df[\"Notas\"] > 5]\n",
    "df_mayor"
   ]
  },
  {
   "cell_type": "code",
   "execution_count": 29,
   "id": "1bff1ef6",
   "metadata": {},
   "outputs": [
    {
     "data": {
      "text/plain": [
       "10"
      ]
     },
     "execution_count": 29,
     "metadata": {},
     "output_type": "execute_result"
    }
   ],
   "source": [
    "maxi = max(df[\"Notas\"])\n",
    "maxi"
   ]
  },
  {
   "cell_type": "code",
   "execution_count": 30,
   "id": "ff29e763",
   "metadata": {},
   "outputs": [
    {
     "data": {
      "text/plain": [
       "6"
      ]
     },
     "execution_count": 30,
     "metadata": {},
     "output_type": "execute_result"
    }
   ],
   "source": [
    "mini = min(df[\"Notas\"])\n",
    "mini"
   ]
  },
  {
   "cell_type": "code",
   "execution_count": 33,
   "id": "d4ab3afc",
   "metadata": {},
   "outputs": [
    {
     "data": {
      "text/html": [
       "<div>\n",
       "<style scoped>\n",
       "    .dataframe tbody tr th:only-of-type {\n",
       "        vertical-align: middle;\n",
       "    }\n",
       "\n",
       "    .dataframe tbody tr th {\n",
       "        vertical-align: top;\n",
       "    }\n",
       "\n",
       "    .dataframe thead th {\n",
       "        text-align: right;\n",
       "    }\n",
       "</style>\n",
       "<table border=\"1\" class=\"dataframe\">\n",
       "  <thead>\n",
       "    <tr style=\"text-align: right;\">\n",
       "      <th></th>\n",
       "      <th>Asignaturas</th>\n",
       "      <th>Notas</th>\n",
       "    </tr>\n",
       "  </thead>\n",
       "  <tbody>\n",
       "    <tr>\n",
       "      <th>0</th>\n",
       "      <td>Python</td>\n",
       "      <td>10</td>\n",
       "    </tr>\n",
       "    <tr>\n",
       "      <th>3</th>\n",
       "      <td>Machine Learning</td>\n",
       "      <td>9</td>\n",
       "    </tr>\n",
       "    <tr>\n",
       "      <th>1</th>\n",
       "      <td>Big Data</td>\n",
       "      <td>8</td>\n",
       "    </tr>\n",
       "    <tr>\n",
       "      <th>2</th>\n",
       "      <td>NLP</td>\n",
       "      <td>6</td>\n",
       "    </tr>\n",
       "  </tbody>\n",
       "</table>\n",
       "</div>"
      ],
      "text/plain": [
       "        Asignaturas  Notas\n",
       "0            Python     10\n",
       "3  Machine Learning      9\n",
       "1          Big Data      8\n",
       "2               NLP      6"
      ]
     },
     "execution_count": 33,
     "metadata": {},
     "output_type": "execute_result"
    }
   ],
   "source": [
    "df.sort_values(by =\"Notas\", ascending = False)"
   ]
  },
  {
   "cell_type": "code",
   "execution_count": 36,
   "id": "068dcf96",
   "metadata": {},
   "outputs": [
    {
     "data": {
      "text/html": [
       "<div>\n",
       "<style scoped>\n",
       "    .dataframe tbody tr th:only-of-type {\n",
       "        vertical-align: middle;\n",
       "    }\n",
       "\n",
       "    .dataframe tbody tr th {\n",
       "        vertical-align: top;\n",
       "    }\n",
       "\n",
       "    .dataframe thead th {\n",
       "        text-align: right;\n",
       "    }\n",
       "</style>\n",
       "<table border=\"1\" class=\"dataframe\">\n",
       "  <thead>\n",
       "    <tr style=\"text-align: right;\">\n",
       "      <th></th>\n",
       "      <th>Asignaturas</th>\n",
       "      <th>Notas</th>\n",
       "    </tr>\n",
       "  </thead>\n",
       "  <tbody>\n",
       "    <tr>\n",
       "      <th>2</th>\n",
       "      <td>NLP</td>\n",
       "      <td>6</td>\n",
       "    </tr>\n",
       "    <tr>\n",
       "      <th>1</th>\n",
       "      <td>Big Data</td>\n",
       "      <td>8</td>\n",
       "    </tr>\n",
       "    <tr>\n",
       "      <th>3</th>\n",
       "      <td>Machine Learning</td>\n",
       "      <td>9</td>\n",
       "    </tr>\n",
       "    <tr>\n",
       "      <th>0</th>\n",
       "      <td>Python</td>\n",
       "      <td>10</td>\n",
       "    </tr>\n",
       "  </tbody>\n",
       "</table>\n",
       "</div>"
      ],
      "text/plain": [
       "        Asignaturas  Notas\n",
       "2               NLP      6\n",
       "1          Big Data      8\n",
       "3  Machine Learning      9\n",
       "0            Python     10"
      ]
     },
     "execution_count": 36,
     "metadata": {},
     "output_type": "execute_result"
    }
   ],
   "source": [
    "df.sort_values(by=\"Notas\", ascending = True)"
   ]
  },
  {
   "cell_type": "code",
   "execution_count": 37,
   "id": "b25820ed",
   "metadata": {},
   "outputs": [],
   "source": [
    "\n",
    "import time\n",
    "import numpy as np"
   ]
  },
  {
   "cell_type": "code",
   "execution_count": 42,
   "id": "b20de4de",
   "metadata": {},
   "outputs": [
    {
     "name": "stdout",
     "output_type": "stream",
     "text": [
      "CPU times: user 2.26 s, sys: 9.08 ms, total: 2.27 s\n",
      "Wall time: 2.27 s\n"
     ]
    }
   ],
   "source": [
    "%%time\n",
    "def main():\n",
    "    for i in range(10**8): \n",
    "        pass\n",
    "main()"
   ]
  },
  {
   "cell_type": "code",
   "execution_count": 48,
   "id": "c5af1ae7",
   "metadata": {},
   "outputs": [
    {
     "name": "stderr",
     "output_type": "stream",
     "text": [
      "UsageError: Line magic function `%%time` not found.\n"
     ]
    }
   ],
   "source": [
    "x = time.time()\n",
    "%%time\n",
    "def main():\n",
    "    for i in np.arange(10**8):\n",
    "        pass\n",
    "main()\n",
    "y = time.time()\n",
    "tiempo = y - x\n",
    "tiempo\n"
   ]
  },
  {
   "cell_type": "code",
   "execution_count": null,
   "id": "f3f121d6",
   "metadata": {},
   "outputs": [],
   "source": []
  }
 ],
 "metadata": {
  "kernelspec": {
   "display_name": "Python 3 (ipykernel)",
   "language": "python",
   "name": "python3"
  },
  "language_info": {
   "codemirror_mode": {
    "name": "ipython",
    "version": 3
   },
   "file_extension": ".py",
   "mimetype": "text/x-python",
   "name": "python",
   "nbconvert_exporter": "python",
   "pygments_lexer": "ipython3",
   "version": "3.8.10"
  }
 },
 "nbformat": 4,
 "nbformat_minor": 5
}
